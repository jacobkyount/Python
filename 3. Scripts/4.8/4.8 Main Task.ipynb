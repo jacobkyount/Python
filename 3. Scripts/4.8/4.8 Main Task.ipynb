{
 "cells": [
  {
   "cell_type": "markdown",
   "id": "a5f85d3f",
   "metadata": {},
   "source": [
    "# Import Libraries"
   ]
  },
  {
   "cell_type": "code",
   "execution_count": 3,
   "id": "a6a349a1",
   "metadata": {},
   "outputs": [],
   "source": [
    "# Import libraries \n",
    "import pandas as pd \n",
    "import numpy as np\n",
    "import os"
   ]
  },
  {
   "cell_type": "markdown",
   "id": "3265bc37",
   "metadata": {},
   "source": [
    "# Data Import"
   ]
  },
  {
   "cell_type": "code",
   "execution_count": 5,
   "id": "21c0ec3c",
   "metadata": {},
   "outputs": [],
   "source": [
    "path = r'/Users/jacobyount/Documents/Data Analytics/Immersion 4/02.23.2023 Instacart Basket Analysis'"
   ]
  },
  {
   "cell_type": "code",
   "execution_count": 6,
   "id": "e75d0750",
   "metadata": {},
   "outputs": [],
   "source": [
    "ords_prods_merged = pd.read_pickle(os.path.join(path, '2. Data', 'Prepared Data', 'ords_prods_new_variables.pkl'))"
   ]
  },
  {
   "cell_type": "code",
   "execution_count": 7,
   "id": "16bd3b70",
   "metadata": {},
   "outputs": [],
   "source": [
    "# Clean up error from previous exercise\n",
    "\n",
    "del ords_prods_merged['top_2_busiest_and_slowest_days ']"
   ]
  },
  {
   "cell_type": "code",
   "execution_count": 8,
   "id": "d57a0bb7",
   "metadata": {},
   "outputs": [],
   "source": [
    "del ords_prods_merged['_merge']"
   ]
  },
  {
   "cell_type": "code",
   "execution_count": 9,
   "id": "6d6f8fbb",
   "metadata": {
    "scrolled": true
   },
   "outputs": [
    {
     "data": {
      "text/html": [
       "<div>\n",
       "<style scoped>\n",
       "    .dataframe tbody tr th:only-of-type {\n",
       "        vertical-align: middle;\n",
       "    }\n",
       "\n",
       "    .dataframe tbody tr th {\n",
       "        vertical-align: top;\n",
       "    }\n",
       "\n",
       "    .dataframe thead th {\n",
       "        text-align: right;\n",
       "    }\n",
       "</style>\n",
       "<table border=\"1\" class=\"dataframe\">\n",
       "  <thead>\n",
       "    <tr style=\"text-align: right;\">\n",
       "      <th></th>\n",
       "      <th>order_id</th>\n",
       "      <th>user_id</th>\n",
       "      <th>order_number</th>\n",
       "      <th>order_dow</th>\n",
       "      <th>order_hour_of_day</th>\n",
       "      <th>days_since_prior_order</th>\n",
       "      <th>product_id</th>\n",
       "      <th>add_to_cart_order</th>\n",
       "      <th>reordered</th>\n",
       "      <th>product_name</th>\n",
       "      <th>aisle_id</th>\n",
       "      <th>department_id</th>\n",
       "      <th>prices</th>\n",
       "      <th>price_range_loc</th>\n",
       "      <th>Busiest_Day</th>\n",
       "      <th>busiest_days</th>\n",
       "      <th>busiest_period_of_day</th>\n",
       "    </tr>\n",
       "  </thead>\n",
       "  <tbody>\n",
       "    <tr>\n",
       "      <th>0</th>\n",
       "      <td>2539329</td>\n",
       "      <td>1</td>\n",
       "      <td>1</td>\n",
       "      <td>2</td>\n",
       "      <td>8</td>\n",
       "      <td>11.114836</td>\n",
       "      <td>196</td>\n",
       "      <td>1</td>\n",
       "      <td>0</td>\n",
       "      <td>Soda</td>\n",
       "      <td>77</td>\n",
       "      <td>7</td>\n",
       "      <td>9.0</td>\n",
       "      <td>Mid Range Product</td>\n",
       "      <td>Regularly Busy Day</td>\n",
       "      <td>Regularly Busy Day</td>\n",
       "      <td>Average Orders</td>\n",
       "    </tr>\n",
       "  </tbody>\n",
       "</table>\n",
       "</div>"
      ],
      "text/plain": [
       "   order_id  user_id  order_number  order_dow  order_hour_of_day  \\\n",
       "0   2539329        1             1          2                  8   \n",
       "\n",
       "   days_since_prior_order  product_id  add_to_cart_order  reordered  \\\n",
       "0               11.114836         196                  1          0   \n",
       "\n",
       "  product_name  aisle_id  department_id  prices    price_range_loc  \\\n",
       "0         Soda        77              7     9.0  Mid Range Product   \n",
       "\n",
       "          Busiest_Day        busiest_days busiest_period_of_day  \n",
       "0  Regularly Busy Day  Regularly Busy Day        Average Orders  "
      ]
     },
     "execution_count": 9,
     "metadata": {},
     "output_type": "execute_result"
    }
   ],
   "source": [
    "ords_prods_merged.head(1)"
   ]
  },
  {
   "cell_type": "markdown",
   "id": "445c2114",
   "metadata": {},
   "source": [
    "# 2. Aggregated Mean of Data Set"
   ]
  },
  {
   "cell_type": "code",
   "execution_count": 10,
   "id": "7eb9834a",
   "metadata": {},
   "outputs": [
    {
     "data": {
      "text/html": [
       "<div>\n",
       "<style scoped>\n",
       "    .dataframe tbody tr th:only-of-type {\n",
       "        vertical-align: middle;\n",
       "    }\n",
       "\n",
       "    .dataframe tbody tr th {\n",
       "        vertical-align: top;\n",
       "    }\n",
       "\n",
       "    .dataframe thead tr th {\n",
       "        text-align: left;\n",
       "    }\n",
       "\n",
       "    .dataframe thead tr:last-of-type th {\n",
       "        text-align: right;\n",
       "    }\n",
       "</style>\n",
       "<table border=\"1\" class=\"dataframe\">\n",
       "  <thead>\n",
       "    <tr>\n",
       "      <th></th>\n",
       "      <th>order_number</th>\n",
       "    </tr>\n",
       "    <tr>\n",
       "      <th></th>\n",
       "      <th>mean</th>\n",
       "    </tr>\n",
       "    <tr>\n",
       "      <th>department_id</th>\n",
       "      <th></th>\n",
       "    </tr>\n",
       "  </thead>\n",
       "  <tbody>\n",
       "    <tr>\n",
       "      <th>1</th>\n",
       "      <td>15.457838</td>\n",
       "    </tr>\n",
       "    <tr>\n",
       "      <th>2</th>\n",
       "      <td>17.277920</td>\n",
       "    </tr>\n",
       "    <tr>\n",
       "      <th>3</th>\n",
       "      <td>17.170395</td>\n",
       "    </tr>\n",
       "    <tr>\n",
       "      <th>4</th>\n",
       "      <td>17.811403</td>\n",
       "    </tr>\n",
       "    <tr>\n",
       "      <th>5</th>\n",
       "      <td>15.215751</td>\n",
       "    </tr>\n",
       "    <tr>\n",
       "      <th>6</th>\n",
       "      <td>16.439806</td>\n",
       "    </tr>\n",
       "    <tr>\n",
       "      <th>7</th>\n",
       "      <td>17.225802</td>\n",
       "    </tr>\n",
       "    <tr>\n",
       "      <th>8</th>\n",
       "      <td>15.340650</td>\n",
       "    </tr>\n",
       "    <tr>\n",
       "      <th>9</th>\n",
       "      <td>15.895474</td>\n",
       "    </tr>\n",
       "    <tr>\n",
       "      <th>10</th>\n",
       "      <td>20.197148</td>\n",
       "    </tr>\n",
       "    <tr>\n",
       "      <th>11</th>\n",
       "      <td>16.170638</td>\n",
       "    </tr>\n",
       "    <tr>\n",
       "      <th>12</th>\n",
       "      <td>15.887671</td>\n",
       "    </tr>\n",
       "    <tr>\n",
       "      <th>13</th>\n",
       "      <td>16.583536</td>\n",
       "    </tr>\n",
       "    <tr>\n",
       "      <th>14</th>\n",
       "      <td>16.773669</td>\n",
       "    </tr>\n",
       "    <tr>\n",
       "      <th>15</th>\n",
       "      <td>16.165037</td>\n",
       "    </tr>\n",
       "    <tr>\n",
       "      <th>16</th>\n",
       "      <td>17.665606</td>\n",
       "    </tr>\n",
       "    <tr>\n",
       "      <th>17</th>\n",
       "      <td>15.694469</td>\n",
       "    </tr>\n",
       "    <tr>\n",
       "      <th>18</th>\n",
       "      <td>19.310397</td>\n",
       "    </tr>\n",
       "    <tr>\n",
       "      <th>19</th>\n",
       "      <td>17.177343</td>\n",
       "    </tr>\n",
       "    <tr>\n",
       "      <th>20</th>\n",
       "      <td>16.473447</td>\n",
       "    </tr>\n",
       "    <tr>\n",
       "      <th>21</th>\n",
       "      <td>22.902379</td>\n",
       "    </tr>\n",
       "  </tbody>\n",
       "</table>\n",
       "</div>"
      ],
      "text/plain": [
       "              order_number\n",
       "                      mean\n",
       "department_id             \n",
       "1                15.457838\n",
       "2                17.277920\n",
       "3                17.170395\n",
       "4                17.811403\n",
       "5                15.215751\n",
       "6                16.439806\n",
       "7                17.225802\n",
       "8                15.340650\n",
       "9                15.895474\n",
       "10               20.197148\n",
       "11               16.170638\n",
       "12               15.887671\n",
       "13               16.583536\n",
       "14               16.773669\n",
       "15               16.165037\n",
       "16               17.665606\n",
       "17               15.694469\n",
       "18               19.310397\n",
       "19               17.177343\n",
       "20               16.473447\n",
       "21               22.902379"
      ]
     },
     "execution_count": 10,
     "metadata": {},
     "output_type": "execute_result"
    }
   ],
   "source": [
    "# finding the aggregated mean of orders pe rdepartment\n",
    "\n",
    "ords_prods_merged.groupby('department_id').agg({'order_number':['mean']})"
   ]
  },
  {
   "cell_type": "markdown",
   "id": "b785d028",
   "metadata": {},
   "source": [
    "# 3."
   ]
  },
  {
   "cell_type": "code",
   "execution_count": null,
   "id": "35af7ff9",
   "metadata": {},
   "outputs": [],
   "source": [
    "# Completing this on the enitre set gives us all the departments order average. The totals from the subset have changed due to additional information added in this aggregation. Some have increased their averages and others have decreased. Common when adding addtional numbers to your average."
   ]
  },
  {
   "cell_type": "markdown",
   "id": "ca85c56a",
   "metadata": {},
   "source": [
    "# 4. Loyalty Flags for Data Set"
   ]
  },
  {
   "cell_type": "code",
   "execution_count": 11,
   "id": "6348c694",
   "metadata": {},
   "outputs": [],
   "source": [
    "# Creating a 'Max Order' Column\n",
    "\n",
    "ords_prods_merged['max_order'] = ords_prods_merged.groupby(['user_id'])['order_number'].transform(np.max)"
   ]
  },
  {
   "cell_type": "code",
   "execution_count": 12,
   "id": "67568dbe",
   "metadata": {},
   "outputs": [
    {
     "data": {
      "text/plain": [
       "0     10\n",
       "1     10\n",
       "2     10\n",
       "3     10\n",
       "4     10\n",
       "5     10\n",
       "6     10\n",
       "7     10\n",
       "8     10\n",
       "9     10\n",
       "10    22\n",
       "11    22\n",
       "12    22\n",
       "13    22\n",
       "14    22\n",
       "Name: max_order, dtype: int64"
      ]
     },
     "execution_count": 12,
     "metadata": {},
     "output_type": "execute_result"
    }
   ],
   "source": [
    "ords_prods_merged['max_order'].head(15)"
   ]
  },
  {
   "cell_type": "code",
   "execution_count": 13,
   "id": "c7658ef9",
   "metadata": {},
   "outputs": [],
   "source": [
    "# Creating Loyalty Flag for loyal customers\n",
    "\n",
    "ords_prods_merged.loc[ords_prods_merged['max_order'] > 40, 'loyalty_flag'] = 'loyal_customer'"
   ]
  },
  {
   "cell_type": "code",
   "execution_count": 14,
   "id": "92b45475",
   "metadata": {},
   "outputs": [],
   "source": [
    "# Creating Loyalty Flag for regular customers\n",
    "\n",
    "ords_prods_merged.loc[(ords_prods_merged['max_order'] <= 40) & (ords_prods_merged['max_order'] > 10), 'loyalty_flag'] = 'regular_customer'"
   ]
  },
  {
   "cell_type": "code",
   "execution_count": 15,
   "id": "8c1d2c84",
   "metadata": {},
   "outputs": [],
   "source": [
    "# Creating Loyalty Flag for new customers\n",
    "\n",
    "ords_prods_merged.loc[ords_prods_merged['max_order'] <= 10, 'loyalty_flag'] = 'new_customer'"
   ]
  },
  {
   "cell_type": "code",
   "execution_count": 16,
   "id": "246096a3",
   "metadata": {},
   "outputs": [
    {
     "data": {
      "text/plain": [
       "regular_customer    15876776\n",
       "loyal_customer      10284093\n",
       "new_customer         6243990\n",
       "Name: loyalty_flag, dtype: int64"
      ]
     },
     "execution_count": 16,
     "metadata": {},
     "output_type": "execute_result"
    }
   ],
   "source": [
    "ords_prods_merged['loyalty_flag'].value_counts(dropna = False)"
   ]
  },
  {
   "cell_type": "markdown",
   "id": "208acd48",
   "metadata": {},
   "source": [
    "# 5. "
   ]
  },
  {
   "cell_type": "code",
   "execution_count": 17,
   "id": "19bf8b59",
   "metadata": {},
   "outputs": [
    {
     "data": {
      "text/html": [
       "<div>\n",
       "<style scoped>\n",
       "    .dataframe tbody tr th:only-of-type {\n",
       "        vertical-align: middle;\n",
       "    }\n",
       "\n",
       "    .dataframe tbody tr th {\n",
       "        vertical-align: top;\n",
       "    }\n",
       "\n",
       "    .dataframe thead tr th {\n",
       "        text-align: left;\n",
       "    }\n",
       "\n",
       "    .dataframe thead tr:last-of-type th {\n",
       "        text-align: right;\n",
       "    }\n",
       "</style>\n",
       "<table border=\"1\" class=\"dataframe\">\n",
       "  <thead>\n",
       "    <tr>\n",
       "      <th></th>\n",
       "      <th colspan=\"3\" halign=\"left\">prices</th>\n",
       "    </tr>\n",
       "    <tr>\n",
       "      <th></th>\n",
       "      <th>mean</th>\n",
       "      <th>min</th>\n",
       "      <th>max</th>\n",
       "    </tr>\n",
       "    <tr>\n",
       "      <th>loyalty_flag</th>\n",
       "      <th></th>\n",
       "      <th></th>\n",
       "      <th></th>\n",
       "    </tr>\n",
       "  </thead>\n",
       "  <tbody>\n",
       "    <tr>\n",
       "      <th>loyal_customer</th>\n",
       "      <td>10.386336</td>\n",
       "      <td>1.0</td>\n",
       "      <td>99999.0</td>\n",
       "    </tr>\n",
       "    <tr>\n",
       "      <th>new_customer</th>\n",
       "      <td>13.294670</td>\n",
       "      <td>1.0</td>\n",
       "      <td>99999.0</td>\n",
       "    </tr>\n",
       "    <tr>\n",
       "      <th>regular_customer</th>\n",
       "      <td>12.495717</td>\n",
       "      <td>1.0</td>\n",
       "      <td>99999.0</td>\n",
       "    </tr>\n",
       "  </tbody>\n",
       "</table>\n",
       "</div>"
      ],
      "text/plain": [
       "                     prices              \n",
       "                       mean  min      max\n",
       "loyalty_flag                             \n",
       "loyal_customer    10.386336  1.0  99999.0\n",
       "new_customer      13.294670  1.0  99999.0\n",
       "regular_customer  12.495717  1.0  99999.0"
      ]
     },
     "execution_count": 17,
     "metadata": {},
     "output_type": "execute_result"
    }
   ],
   "source": [
    "ords_prods_merged.groupby('loyalty_flag').agg({'prices':['mean', 'min', 'max']})"
   ]
  },
  {
   "cell_type": "code",
   "execution_count": 22,
   "id": "283272ec",
   "metadata": {},
   "outputs": [],
   "source": [
    "# This shows that loyal customers tend to spend less on average on products than the new customers and regular customers. New customers are the ones who spend the most per order on average."
   ]
  },
  {
   "cell_type": "markdown",
   "id": "82ae1d11",
   "metadata": {},
   "source": [
    "# 6. "
   ]
  },
  {
   "cell_type": "code",
   "execution_count": 18,
   "id": "1d1902fa",
   "metadata": {},
   "outputs": [],
   "source": [
    "# spliting data into groups by user_id. Using Transform to find average price.\n",
    "\n",
    "ords_prods_merged['avg_prices'] = ords_prods_merged.groupby('user_id')['prices'].transform(np.mean)"
   ]
  },
  {
   "cell_type": "code",
   "execution_count": 19,
   "id": "789d7cfe",
   "metadata": {},
   "outputs": [],
   "source": [
    "# Creating Spending Flag for low_spenders\n",
    "\n",
    "ords_prods_merged.loc[ords_prods_merged['avg_prices'] < 10, 'spending_flag'] = 'low spender'"
   ]
  },
  {
   "cell_type": "code",
   "execution_count": 20,
   "id": "16e2ad97",
   "metadata": {},
   "outputs": [],
   "source": [
    "# Creating Spending Flag for high_spenders\n",
    "\n",
    "ords_prods_merged.loc[ords_prods_merged['avg_prices'] >= 10, 'spending_flag'] = 'high_spender'"
   ]
  },
  {
   "cell_type": "code",
   "execution_count": 21,
   "id": "40688bf0",
   "metadata": {},
   "outputs": [
    {
     "data": {
      "text/plain": [
       "low spender     31770614\n",
       "high_spender      634245\n",
       "Name: spending_flag, dtype: int64"
      ]
     },
     "execution_count": 21,
     "metadata": {},
     "output_type": "execute_result"
    }
   ],
   "source": [
    "ords_prods_merged['spending_flag'].value_counts(dropna = False)"
   ]
  },
  {
   "cell_type": "code",
   "execution_count": 22,
   "id": "4805e87e",
   "metadata": {},
   "outputs": [
    {
     "data": {
      "text/html": [
       "<div>\n",
       "<style scoped>\n",
       "    .dataframe tbody tr th:only-of-type {\n",
       "        vertical-align: middle;\n",
       "    }\n",
       "\n",
       "    .dataframe tbody tr th {\n",
       "        vertical-align: top;\n",
       "    }\n",
       "\n",
       "    .dataframe thead th {\n",
       "        text-align: right;\n",
       "    }\n",
       "</style>\n",
       "<table border=\"1\" class=\"dataframe\">\n",
       "  <thead>\n",
       "    <tr style=\"text-align: right;\">\n",
       "      <th></th>\n",
       "      <th>loyalty_flag</th>\n",
       "      <th>spending_flag</th>\n",
       "    </tr>\n",
       "  </thead>\n",
       "  <tbody>\n",
       "    <tr>\n",
       "      <th>0</th>\n",
       "      <td>new_customer</td>\n",
       "      <td>low spender</td>\n",
       "    </tr>\n",
       "    <tr>\n",
       "      <th>1</th>\n",
       "      <td>new_customer</td>\n",
       "      <td>low spender</td>\n",
       "    </tr>\n",
       "    <tr>\n",
       "      <th>2</th>\n",
       "      <td>new_customer</td>\n",
       "      <td>low spender</td>\n",
       "    </tr>\n",
       "    <tr>\n",
       "      <th>3</th>\n",
       "      <td>new_customer</td>\n",
       "      <td>low spender</td>\n",
       "    </tr>\n",
       "    <tr>\n",
       "      <th>4</th>\n",
       "      <td>new_customer</td>\n",
       "      <td>low spender</td>\n",
       "    </tr>\n",
       "  </tbody>\n",
       "</table>\n",
       "</div>"
      ],
      "text/plain": [
       "   loyalty_flag spending_flag\n",
       "0  new_customer   low spender\n",
       "1  new_customer   low spender\n",
       "2  new_customer   low spender\n",
       "3  new_customer   low spender\n",
       "4  new_customer   low spender"
      ]
     },
     "execution_count": 22,
     "metadata": {},
     "output_type": "execute_result"
    }
   ],
   "source": [
    "ords_prods_merged[['loyalty_flag','spending_flag']].head(5)"
   ]
  },
  {
   "cell_type": "markdown",
   "id": "9778353d",
   "metadata": {},
   "source": [
    "# 7. "
   ]
  },
  {
   "cell_type": "code",
   "execution_count": 23,
   "id": "c761dd20",
   "metadata": {},
   "outputs": [],
   "source": [
    "# spliting the data into groups by user_id. Using trasnform on days_since_prior_order to find medain order frequency\n",
    "\n",
    "ords_prods_merged['median_freq'] = ords_prods_merged.groupby('user_id')['days_since_prior_order'].transform(np.median)"
   ]
  },
  {
   "cell_type": "code",
   "execution_count": 24,
   "id": "f7c7dc8f",
   "metadata": {},
   "outputs": [],
   "source": [
    "# creating a order frequency flag for non frequent customers\n",
    "\n",
    "ords_prods_merged.loc[ords_prods_merged['median_freq'] > 20, 'order_frequency_flag'] = 'non_frequent_customer'"
   ]
  },
  {
   "cell_type": "code",
   "execution_count": 25,
   "id": "a326ecdc",
   "metadata": {},
   "outputs": [],
   "source": [
    "# creating a order frequency flag for regular customers\n",
    "\n",
    "ords_prods_merged.loc[(ords_prods_merged['median_freq'] >10) & (ords_prods_merged['median_freq'] <=20), 'order_frequency_flag'] = 'regular_customer'"
   ]
  },
  {
   "cell_type": "code",
   "execution_count": 26,
   "id": "a10dba02",
   "metadata": {},
   "outputs": [],
   "source": [
    "# creating a order frequency flag for frequent customers\n",
    "\n",
    "ords_prods_merged.loc[ords_prods_merged['median_freq'] <= 10, 'order_frequency_flag'] = 'frequent_customer'"
   ]
  },
  {
   "cell_type": "code",
   "execution_count": 27,
   "id": "c063d9b2",
   "metadata": {},
   "outputs": [
    {
     "data": {
      "text/html": [
       "<div>\n",
       "<style scoped>\n",
       "    .dataframe tbody tr th:only-of-type {\n",
       "        vertical-align: middle;\n",
       "    }\n",
       "\n",
       "    .dataframe tbody tr th {\n",
       "        vertical-align: top;\n",
       "    }\n",
       "\n",
       "    .dataframe thead th {\n",
       "        text-align: right;\n",
       "    }\n",
       "</style>\n",
       "<table border=\"1\" class=\"dataframe\">\n",
       "  <thead>\n",
       "    <tr style=\"text-align: right;\">\n",
       "      <th></th>\n",
       "      <th>order_frequency_flag</th>\n",
       "      <th>median_freq</th>\n",
       "    </tr>\n",
       "  </thead>\n",
       "  <tbody>\n",
       "    <tr>\n",
       "      <th>0</th>\n",
       "      <td>regular_customer</td>\n",
       "      <td>20.0</td>\n",
       "    </tr>\n",
       "    <tr>\n",
       "      <th>1</th>\n",
       "      <td>regular_customer</td>\n",
       "      <td>20.0</td>\n",
       "    </tr>\n",
       "    <tr>\n",
       "      <th>2</th>\n",
       "      <td>regular_customer</td>\n",
       "      <td>20.0</td>\n",
       "    </tr>\n",
       "  </tbody>\n",
       "</table>\n",
       "</div>"
      ],
      "text/plain": [
       "  order_frequency_flag  median_freq\n",
       "0     regular_customer         20.0\n",
       "1     regular_customer         20.0\n",
       "2     regular_customer         20.0"
      ]
     },
     "execution_count": 27,
     "metadata": {},
     "output_type": "execute_result"
    }
   ],
   "source": [
    "ords_prods_merged[['order_frequency_flag','median_freq']].head(3)"
   ]
  },
  {
   "cell_type": "code",
   "execution_count": 28,
   "id": "421f1c33",
   "metadata": {},
   "outputs": [
    {
     "data": {
      "text/plain": [
       "frequent_customer        20535136\n",
       "regular_customer          9168905\n",
       "non_frequent_customer     2700818\n",
       "Name: order_frequency_flag, dtype: int64"
      ]
     },
     "execution_count": 28,
     "metadata": {},
     "output_type": "execute_result"
    }
   ],
   "source": [
    "# checking frequency of frequency flag\n",
    "\n",
    "ords_prods_merged['order_frequency_flag'].value_counts(dropna = False)"
   ]
  },
  {
   "cell_type": "code",
   "execution_count": 29,
   "id": "d5bbb57e",
   "metadata": {},
   "outputs": [
    {
     "data": {
      "text/html": [
       "<div>\n",
       "<style scoped>\n",
       "    .dataframe tbody tr th:only-of-type {\n",
       "        vertical-align: middle;\n",
       "    }\n",
       "\n",
       "    .dataframe tbody tr th {\n",
       "        vertical-align: top;\n",
       "    }\n",
       "\n",
       "    .dataframe thead th {\n",
       "        text-align: right;\n",
       "    }\n",
       "</style>\n",
       "<table border=\"1\" class=\"dataframe\">\n",
       "  <thead>\n",
       "    <tr style=\"text-align: right;\">\n",
       "      <th></th>\n",
       "      <th>order_id</th>\n",
       "      <th>user_id</th>\n",
       "      <th>order_number</th>\n",
       "      <th>order_dow</th>\n",
       "      <th>order_hour_of_day</th>\n",
       "      <th>days_since_prior_order</th>\n",
       "      <th>product_id</th>\n",
       "      <th>add_to_cart_order</th>\n",
       "      <th>reordered</th>\n",
       "      <th>product_name</th>\n",
       "      <th>...</th>\n",
       "      <th>price_range_loc</th>\n",
       "      <th>Busiest_Day</th>\n",
       "      <th>busiest_days</th>\n",
       "      <th>busiest_period_of_day</th>\n",
       "      <th>max_order</th>\n",
       "      <th>loyalty_flag</th>\n",
       "      <th>avg_prices</th>\n",
       "      <th>spending_flag</th>\n",
       "      <th>median_freq</th>\n",
       "      <th>order_frequency_flag</th>\n",
       "    </tr>\n",
       "  </thead>\n",
       "  <tbody>\n",
       "    <tr>\n",
       "      <th>0</th>\n",
       "      <td>2539329</td>\n",
       "      <td>1</td>\n",
       "      <td>1</td>\n",
       "      <td>2</td>\n",
       "      <td>8</td>\n",
       "      <td>11.114836</td>\n",
       "      <td>196</td>\n",
       "      <td>1</td>\n",
       "      <td>0</td>\n",
       "      <td>Soda</td>\n",
       "      <td>...</td>\n",
       "      <td>Mid Range Product</td>\n",
       "      <td>Regularly Busy Day</td>\n",
       "      <td>Regularly Busy Day</td>\n",
       "      <td>Average Orders</td>\n",
       "      <td>10</td>\n",
       "      <td>new_customer</td>\n",
       "      <td>6.367797</td>\n",
       "      <td>low spender</td>\n",
       "      <td>20.0</td>\n",
       "      <td>regular_customer</td>\n",
       "    </tr>\n",
       "    <tr>\n",
       "      <th>1</th>\n",
       "      <td>2398795</td>\n",
       "      <td>1</td>\n",
       "      <td>2</td>\n",
       "      <td>3</td>\n",
       "      <td>7</td>\n",
       "      <td>15.000000</td>\n",
       "      <td>196</td>\n",
       "      <td>1</td>\n",
       "      <td>1</td>\n",
       "      <td>Soda</td>\n",
       "      <td>...</td>\n",
       "      <td>Mid Range Product</td>\n",
       "      <td>Regularly Busy Day</td>\n",
       "      <td>Slowest Days</td>\n",
       "      <td>Average Orders</td>\n",
       "      <td>10</td>\n",
       "      <td>new_customer</td>\n",
       "      <td>6.367797</td>\n",
       "      <td>low spender</td>\n",
       "      <td>20.0</td>\n",
       "      <td>regular_customer</td>\n",
       "    </tr>\n",
       "    <tr>\n",
       "      <th>2</th>\n",
       "      <td>473747</td>\n",
       "      <td>1</td>\n",
       "      <td>3</td>\n",
       "      <td>3</td>\n",
       "      <td>12</td>\n",
       "      <td>21.000000</td>\n",
       "      <td>196</td>\n",
       "      <td>1</td>\n",
       "      <td>1</td>\n",
       "      <td>Soda</td>\n",
       "      <td>...</td>\n",
       "      <td>Mid Range Product</td>\n",
       "      <td>Regularly Busy Day</td>\n",
       "      <td>Slowest Days</td>\n",
       "      <td>Most Orders</td>\n",
       "      <td>10</td>\n",
       "      <td>new_customer</td>\n",
       "      <td>6.367797</td>\n",
       "      <td>low spender</td>\n",
       "      <td>20.0</td>\n",
       "      <td>regular_customer</td>\n",
       "    </tr>\n",
       "    <tr>\n",
       "      <th>3</th>\n",
       "      <td>2254736</td>\n",
       "      <td>1</td>\n",
       "      <td>4</td>\n",
       "      <td>4</td>\n",
       "      <td>7</td>\n",
       "      <td>29.000000</td>\n",
       "      <td>196</td>\n",
       "      <td>1</td>\n",
       "      <td>1</td>\n",
       "      <td>Soda</td>\n",
       "      <td>...</td>\n",
       "      <td>Mid Range Product</td>\n",
       "      <td>Least Busy Day</td>\n",
       "      <td>Slowest Days</td>\n",
       "      <td>Average Orders</td>\n",
       "      <td>10</td>\n",
       "      <td>new_customer</td>\n",
       "      <td>6.367797</td>\n",
       "      <td>low spender</td>\n",
       "      <td>20.0</td>\n",
       "      <td>regular_customer</td>\n",
       "    </tr>\n",
       "    <tr>\n",
       "      <th>4</th>\n",
       "      <td>431534</td>\n",
       "      <td>1</td>\n",
       "      <td>5</td>\n",
       "      <td>4</td>\n",
       "      <td>15</td>\n",
       "      <td>28.000000</td>\n",
       "      <td>196</td>\n",
       "      <td>1</td>\n",
       "      <td>1</td>\n",
       "      <td>Soda</td>\n",
       "      <td>...</td>\n",
       "      <td>Mid Range Product</td>\n",
       "      <td>Least Busy Day</td>\n",
       "      <td>Slowest Days</td>\n",
       "      <td>Most Orders</td>\n",
       "      <td>10</td>\n",
       "      <td>new_customer</td>\n",
       "      <td>6.367797</td>\n",
       "      <td>low spender</td>\n",
       "      <td>20.0</td>\n",
       "      <td>regular_customer</td>\n",
       "    </tr>\n",
       "  </tbody>\n",
       "</table>\n",
       "<p>5 rows × 23 columns</p>\n",
       "</div>"
      ],
      "text/plain": [
       "   order_id  user_id  order_number  order_dow  order_hour_of_day  \\\n",
       "0   2539329        1             1          2                  8   \n",
       "1   2398795        1             2          3                  7   \n",
       "2    473747        1             3          3                 12   \n",
       "3   2254736        1             4          4                  7   \n",
       "4    431534        1             5          4                 15   \n",
       "\n",
       "   days_since_prior_order  product_id  add_to_cart_order  reordered  \\\n",
       "0               11.114836         196                  1          0   \n",
       "1               15.000000         196                  1          1   \n",
       "2               21.000000         196                  1          1   \n",
       "3               29.000000         196                  1          1   \n",
       "4               28.000000         196                  1          1   \n",
       "\n",
       "  product_name  ...    price_range_loc         Busiest_Day  \\\n",
       "0         Soda  ...  Mid Range Product  Regularly Busy Day   \n",
       "1         Soda  ...  Mid Range Product  Regularly Busy Day   \n",
       "2         Soda  ...  Mid Range Product  Regularly Busy Day   \n",
       "3         Soda  ...  Mid Range Product      Least Busy Day   \n",
       "4         Soda  ...  Mid Range Product      Least Busy Day   \n",
       "\n",
       "         busiest_days busiest_period_of_day max_order  loyalty_flag  \\\n",
       "0  Regularly Busy Day        Average Orders        10  new_customer   \n",
       "1        Slowest Days        Average Orders        10  new_customer   \n",
       "2        Slowest Days           Most Orders        10  new_customer   \n",
       "3        Slowest Days        Average Orders        10  new_customer   \n",
       "4        Slowest Days           Most Orders        10  new_customer   \n",
       "\n",
       "  avg_prices  spending_flag median_freq  order_frequency_flag  \n",
       "0   6.367797    low spender        20.0      regular_customer  \n",
       "1   6.367797    low spender        20.0      regular_customer  \n",
       "2   6.367797    low spender        20.0      regular_customer  \n",
       "3   6.367797    low spender        20.0      regular_customer  \n",
       "4   6.367797    low spender        20.0      regular_customer  \n",
       "\n",
       "[5 rows x 23 columns]"
      ]
     },
     "execution_count": 29,
     "metadata": {},
     "output_type": "execute_result"
    }
   ],
   "source": [
    "#checking all columns\n",
    "\n",
    "ords_prods_merged.head()"
   ]
  },
  {
   "cell_type": "code",
   "execution_count": 31,
   "id": "7cdede68",
   "metadata": {
    "scrolled": true
   },
   "outputs": [
    {
     "data": {
      "text/html": [
       "<div>\n",
       "<style scoped>\n",
       "    .dataframe tbody tr th:only-of-type {\n",
       "        vertical-align: middle;\n",
       "    }\n",
       "\n",
       "    .dataframe tbody tr th {\n",
       "        vertical-align: top;\n",
       "    }\n",
       "\n",
       "    .dataframe thead th {\n",
       "        text-align: right;\n",
       "    }\n",
       "</style>\n",
       "<table border=\"1\" class=\"dataframe\">\n",
       "  <thead>\n",
       "    <tr style=\"text-align: right;\">\n",
       "      <th></th>\n",
       "      <th>order_id</th>\n",
       "      <th>user_id</th>\n",
       "      <th>order_number</th>\n",
       "      <th>order_dow</th>\n",
       "      <th>order_hour_of_day</th>\n",
       "      <th>days_since_prior_order</th>\n",
       "      <th>product_id</th>\n",
       "      <th>add_to_cart_order</th>\n",
       "      <th>reordered</th>\n",
       "      <th>product_name</th>\n",
       "      <th>...</th>\n",
       "      <th>price_range_loc</th>\n",
       "      <th>Busiest_Day</th>\n",
       "      <th>busiest_days</th>\n",
       "      <th>busiest_period_of_day</th>\n",
       "      <th>max_order</th>\n",
       "      <th>loyalty_flag</th>\n",
       "      <th>avg_prices</th>\n",
       "      <th>spending_flag</th>\n",
       "      <th>median_freq</th>\n",
       "      <th>order_frequency_flag</th>\n",
       "    </tr>\n",
       "  </thead>\n",
       "  <tbody>\n",
       "    <tr>\n",
       "      <th>0</th>\n",
       "      <td>2539329</td>\n",
       "      <td>1</td>\n",
       "      <td>1</td>\n",
       "      <td>2</td>\n",
       "      <td>8</td>\n",
       "      <td>11.114836</td>\n",
       "      <td>196</td>\n",
       "      <td>1</td>\n",
       "      <td>0</td>\n",
       "      <td>Soda</td>\n",
       "      <td>...</td>\n",
       "      <td>Mid Range Product</td>\n",
       "      <td>Regularly Busy Day</td>\n",
       "      <td>Regularly Busy Day</td>\n",
       "      <td>Average Orders</td>\n",
       "      <td>10</td>\n",
       "      <td>new_customer</td>\n",
       "      <td>6.367797</td>\n",
       "      <td>low spender</td>\n",
       "      <td>20.0</td>\n",
       "      <td>regular_customer</td>\n",
       "    </tr>\n",
       "    <tr>\n",
       "      <th>1</th>\n",
       "      <td>2398795</td>\n",
       "      <td>1</td>\n",
       "      <td>2</td>\n",
       "      <td>3</td>\n",
       "      <td>7</td>\n",
       "      <td>15.000000</td>\n",
       "      <td>196</td>\n",
       "      <td>1</td>\n",
       "      <td>1</td>\n",
       "      <td>Soda</td>\n",
       "      <td>...</td>\n",
       "      <td>Mid Range Product</td>\n",
       "      <td>Regularly Busy Day</td>\n",
       "      <td>Slowest Days</td>\n",
       "      <td>Average Orders</td>\n",
       "      <td>10</td>\n",
       "      <td>new_customer</td>\n",
       "      <td>6.367797</td>\n",
       "      <td>low spender</td>\n",
       "      <td>20.0</td>\n",
       "      <td>regular_customer</td>\n",
       "    </tr>\n",
       "    <tr>\n",
       "      <th>2</th>\n",
       "      <td>473747</td>\n",
       "      <td>1</td>\n",
       "      <td>3</td>\n",
       "      <td>3</td>\n",
       "      <td>12</td>\n",
       "      <td>21.000000</td>\n",
       "      <td>196</td>\n",
       "      <td>1</td>\n",
       "      <td>1</td>\n",
       "      <td>Soda</td>\n",
       "      <td>...</td>\n",
       "      <td>Mid Range Product</td>\n",
       "      <td>Regularly Busy Day</td>\n",
       "      <td>Slowest Days</td>\n",
       "      <td>Most Orders</td>\n",
       "      <td>10</td>\n",
       "      <td>new_customer</td>\n",
       "      <td>6.367797</td>\n",
       "      <td>low spender</td>\n",
       "      <td>20.0</td>\n",
       "      <td>regular_customer</td>\n",
       "    </tr>\n",
       "    <tr>\n",
       "      <th>3</th>\n",
       "      <td>2254736</td>\n",
       "      <td>1</td>\n",
       "      <td>4</td>\n",
       "      <td>4</td>\n",
       "      <td>7</td>\n",
       "      <td>29.000000</td>\n",
       "      <td>196</td>\n",
       "      <td>1</td>\n",
       "      <td>1</td>\n",
       "      <td>Soda</td>\n",
       "      <td>...</td>\n",
       "      <td>Mid Range Product</td>\n",
       "      <td>Least Busy Day</td>\n",
       "      <td>Slowest Days</td>\n",
       "      <td>Average Orders</td>\n",
       "      <td>10</td>\n",
       "      <td>new_customer</td>\n",
       "      <td>6.367797</td>\n",
       "      <td>low spender</td>\n",
       "      <td>20.0</td>\n",
       "      <td>regular_customer</td>\n",
       "    </tr>\n",
       "    <tr>\n",
       "      <th>4</th>\n",
       "      <td>431534</td>\n",
       "      <td>1</td>\n",
       "      <td>5</td>\n",
       "      <td>4</td>\n",
       "      <td>15</td>\n",
       "      <td>28.000000</td>\n",
       "      <td>196</td>\n",
       "      <td>1</td>\n",
       "      <td>1</td>\n",
       "      <td>Soda</td>\n",
       "      <td>...</td>\n",
       "      <td>Mid Range Product</td>\n",
       "      <td>Least Busy Day</td>\n",
       "      <td>Slowest Days</td>\n",
       "      <td>Most Orders</td>\n",
       "      <td>10</td>\n",
       "      <td>new_customer</td>\n",
       "      <td>6.367797</td>\n",
       "      <td>low spender</td>\n",
       "      <td>20.0</td>\n",
       "      <td>regular_customer</td>\n",
       "    </tr>\n",
       "  </tbody>\n",
       "</table>\n",
       "<p>5 rows × 23 columns</p>\n",
       "</div>"
      ],
      "text/plain": [
       "   order_id  user_id  order_number  order_dow  order_hour_of_day  \\\n",
       "0   2539329        1             1          2                  8   \n",
       "1   2398795        1             2          3                  7   \n",
       "2    473747        1             3          3                 12   \n",
       "3   2254736        1             4          4                  7   \n",
       "4    431534        1             5          4                 15   \n",
       "\n",
       "   days_since_prior_order  product_id  add_to_cart_order  reordered  \\\n",
       "0               11.114836         196                  1          0   \n",
       "1               15.000000         196                  1          1   \n",
       "2               21.000000         196                  1          1   \n",
       "3               29.000000         196                  1          1   \n",
       "4               28.000000         196                  1          1   \n",
       "\n",
       "  product_name  ...    price_range_loc         Busiest_Day  \\\n",
       "0         Soda  ...  Mid Range Product  Regularly Busy Day   \n",
       "1         Soda  ...  Mid Range Product  Regularly Busy Day   \n",
       "2         Soda  ...  Mid Range Product  Regularly Busy Day   \n",
       "3         Soda  ...  Mid Range Product      Least Busy Day   \n",
       "4         Soda  ...  Mid Range Product      Least Busy Day   \n",
       "\n",
       "         busiest_days busiest_period_of_day max_order  loyalty_flag  \\\n",
       "0  Regularly Busy Day        Average Orders        10  new_customer   \n",
       "1        Slowest Days        Average Orders        10  new_customer   \n",
       "2        Slowest Days           Most Orders        10  new_customer   \n",
       "3        Slowest Days        Average Orders        10  new_customer   \n",
       "4        Slowest Days           Most Orders        10  new_customer   \n",
       "\n",
       "  avg_prices  spending_flag median_freq  order_frequency_flag  \n",
       "0   6.367797    low spender        20.0      regular_customer  \n",
       "1   6.367797    low spender        20.0      regular_customer  \n",
       "2   6.367797    low spender        20.0      regular_customer  \n",
       "3   6.367797    low spender        20.0      regular_customer  \n",
       "4   6.367797    low spender        20.0      regular_customer  \n",
       "\n",
       "[5 rows x 23 columns]"
      ]
     },
     "execution_count": 31,
     "metadata": {},
     "output_type": "execute_result"
    }
   ],
   "source": [
    "ords_prods_merged.head()"
   ]
  },
  {
   "cell_type": "code",
   "execution_count": 33,
   "id": "19518eb1",
   "metadata": {},
   "outputs": [],
   "source": [
    "# Marking outliers as NaN from 4.9 scatterplot \n",
    "\n",
    "ords_prods_merged.loc[ords_prods_merged['prices'] > 100] = np.nan"
   ]
  },
  {
   "cell_type": "code",
   "execution_count": 34,
   "id": "ec822bf9",
   "metadata": {},
   "outputs": [
    {
     "data": {
      "text/plain": [
       "25.0"
      ]
     },
     "execution_count": 34,
     "metadata": {},
     "output_type": "execute_result"
    }
   ],
   "source": [
    "ords_prods_merged['prices'].max()"
   ]
  },
  {
   "cell_type": "code",
   "execution_count": 35,
   "id": "31c7318d",
   "metadata": {},
   "outputs": [],
   "source": [
    "# exporting pickle file to prepared data folder\n",
    "\n",
    "ords_prods_merged.to_pickle(os.path.join(path, '2. Data','Prepared Data','ords_prods_merged_agg_var.pkl'))"
   ]
  },
  {
   "cell_type": "code",
   "execution_count": null,
   "id": "1001af69",
   "metadata": {},
   "outputs": [],
   "source": []
  }
 ],
 "metadata": {
  "kernelspec": {
   "display_name": "Python 3 (ipykernel)",
   "language": "python",
   "name": "python3"
  },
  "language_info": {
   "codemirror_mode": {
    "name": "ipython",
    "version": 3
   },
   "file_extension": ".py",
   "mimetype": "text/x-python",
   "name": "python",
   "nbconvert_exporter": "python",
   "pygments_lexer": "ipython3",
   "version": "3.9.13"
  }
 },
 "nbformat": 4,
 "nbformat_minor": 5
}
