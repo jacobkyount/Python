{
 "cells": [
  {
   "cell_type": "markdown",
   "id": "f7e06995",
   "metadata": {},
   "source": [
    "# Task 4.10 Part 1"
   ]
  },
  {
   "cell_type": "markdown",
   "id": "82ba98a8",
   "metadata": {},
   "source": [
    "<hr>"
   ]
  },
  {
   "cell_type": "markdown",
   "id": "0d20c604",
   "metadata": {},
   "source": [
    "## Contents:"
   ]
  },
  {
   "cell_type": "markdown",
   "id": "84d1e897",
   "metadata": {},
   "source": [
    "1. Import Libriaries <br>\n",
    "2. Security Implications <br>\n",
    "3. Regional Customer Information <br>\n",
    "    3a. Regional Segmentation of the data <br>\n",
    "    3b. Spending Segmentation of regions <br>\n",
    "4. Creating Customer Activity Exclusion Flag <br>\n",
    "    4a. Low activity and high activity segmentation <br>\n",
    "    4b. Exporting two new data frames, Low Activity and High Activity Customers <br>\n",
    "5. Customer Profiling\n",
    "    5a. Import Department Data\n",
    "    5b. Demographic Segmentation\n",
    "        5b1. Age\n",
    "        5b2. Dependants\n",
    "        5b3. Income\n",
    "    5c. Department Segmentation\n",
    "    5d. Behavioral Segmentation\n",
    "        5d1. Customers with babies\n",
    "        5d2. Order Time "
   ]
  },
  {
   "cell_type": "code",
   "execution_count": null,
   "id": "95f314b4",
   "metadata": {},
   "outputs": [],
   "source": []
  }
 ],
 "metadata": {
  "kernelspec": {
   "display_name": "Python 3 (ipykernel)",
   "language": "python",
   "name": "python3"
  },
  "language_info": {
   "codemirror_mode": {
    "name": "ipython",
    "version": 3
   },
   "file_extension": ".py",
   "mimetype": "text/x-python",
   "name": "python",
   "nbconvert_exporter": "python",
   "pygments_lexer": "ipython3",
   "version": "3.9.13"
  }
 },
 "nbformat": 4,
 "nbformat_minor": 5
}
