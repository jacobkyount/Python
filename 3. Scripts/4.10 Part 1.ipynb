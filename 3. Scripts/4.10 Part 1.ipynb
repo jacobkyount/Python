{
 "cells": [
  {
   "cell_type": "markdown",
   "id": "1bebb71b",
   "metadata": {},
   "source": [
    "# Task 4.10 Part 1"
   ]
  },
  {
   "cell_type": "markdown",
   "id": "4e332233",
   "metadata": {},
   "source": [
    "### Import Libraries"
   ]
  },
  {
   "cell_type": "code",
   "execution_count": 1,
   "id": "b55528b6",
   "metadata": {},
   "outputs": [],
   "source": [
    "# Import libraries \n",
    "import pandas as pd \n",
    "import numpy as np\n",
    "import os\n",
    "\n",
    "#Visualization Libraries\n",
    "import matplotlib.pyplot as plt\n",
    "import seaborn as sns\n",
    "import scipy"
   ]
  },
  {
   "cell_type": "markdown",
   "id": "398920a2",
   "metadata": {},
   "source": [
    "###  Data Import"
   ]
  },
  {
   "cell_type": "code",
   "execution_count": 2,
   "id": "a60196bd",
   "metadata": {},
   "outputs": [],
   "source": [
    "# creating a path \n",
    "\n",
    "path = r'/Users/jacobyount/Documents/Data Analytics/Immersion 4/02.23.2023 Instacart Basket Analysis'"
   ]
  },
  {
   "cell_type": "code",
   "execution_count": 9,
   "id": "31d217b8",
   "metadata": {},
   "outputs": [],
   "source": [
    "df = pd.read_pickle(os.path.join(path, '2. Data', 'Prepared Data', 'combined_data.pkl'))"
   ]
  },
  {
   "cell_type": "markdown",
   "id": "827eaee1",
   "metadata": {},
   "source": [
    "### 2. Security Concerns"
   ]
  },
  {
   "cell_type": "markdown",
   "id": "fdb4f310",
   "metadata": {},
   "source": [
    "There are no PII data concerns in this data set. Previously there were two columns Surname and First Name, but were removed as they didnt provide any insight."
   ]
  },
  {
   "cell_type": "markdown",
   "id": "52e03911",
   "metadata": {},
   "source": [
    "### 3. Creating a Regional Column\n",
    "##### Checking to see if there is a spending difference in each region."
   ]
  },
  {
   "cell_type": "code",
   "execution_count": 15,
   "id": "9ed042fe",
   "metadata": {},
   "outputs": [
    {
     "data": {
      "text/plain": [
       "Alabama                 637863\n",
       "Alaska                  648451\n",
       "Arizona                 653864\n",
       "Arkansas                636070\n",
       "California              659695\n",
       "Colorado                639173\n",
       "Connecticut             622940\n",
       "Delaware                636906\n",
       "District of Columbia    613598\n",
       "Florida                 628964\n",
       "Georgia                 656249\n",
       "Hawaii                  632786\n",
       "Idaho                   607036\n",
       "Illinois                632928\n",
       "Indiana                 627185\n",
       "Iowa                    625429\n",
       "Kansas                  637418\n",
       "Kentucky                632389\n",
       "Louisiana               637414\n",
       "Maine                   638479\n",
       "Maryland                626402\n",
       "Massachusetts           646275\n",
       "Michigan                630816\n",
       "Minnesota               647738\n",
       "Mississippi             632575\n",
       "Missouri                640576\n",
       "Montana                 635181\n",
       "Nebraska                625736\n",
       "Nevada                  636034\n",
       "New Hampshire           615259\n",
       "New Jersey              627599\n",
       "New Mexico              654400\n",
       "New York                635912\n",
       "North Carolina          651790\n",
       "North Dakota            638391\n",
       "Ohio                    628218\n",
       "Oklahoma                651661\n",
       "Oregon                  636332\n",
       "Pennsylvania            667007\n",
       "Rhode Island            656777\n",
       "South Carolina          636677\n",
       "South Dakota            633649\n",
       "Tennessee               617783\n",
       "Texas                   640285\n",
       "Utah                    611814\n",
       "Vermont                 611644\n",
       "Virginia                641280\n",
       "Washington              632722\n",
       "West Virginia           612190\n",
       "Wisconsin               627981\n",
       "Wyoming                 644191\n",
       "Name: state, dtype: int64"
      ]
     },
     "execution_count": 15,
     "metadata": {},
     "output_type": "execute_result"
    }
   ],
   "source": [
    "df['state'].value_counts().sort_index()"
   ]
  },
  {
   "cell_type": "code",
   "execution_count": 16,
   "id": "1763e271",
   "metadata": {},
   "outputs": [],
   "source": [
    "# Defining Regions\n",
    "\n",
    "Region1_northeast = ['Maine', 'New Hampshire', 'Vermont', 'Massachusetts', 'Rhode Island', 'Connecticut', 'New York', 'Pennsylvania', 'New Jersey']\n",
    "Region2_midwest = ['Wisconsin', 'North Dakota', 'South Dakota', 'Illinios', 'Indiana', 'Ohio', 'Michigan', 'Nebraska', 'Kansas', 'Minnesota', 'Iowa', 'Missouri']\n",
    "Region3_south = ['Delaware', 'Maryland', 'District of Columbia', 'Virginia', 'West Virginia', 'North Carolina', 'South Carolina', 'Georgia', 'Florida', 'Kentucky', 'Tennessee', 'Alabama', 'Mississippi', 'Oklahoma', 'Texas', 'Arkansas', 'Louisiana']\n",
    "Region4_west = ['Idaho', 'Washington', 'Oregon', 'Colorado', 'California', 'Arizona', 'New Mexico', 'Montana', 'Wyoming', 'Nevada', 'Utah', 'Alaska', 'Hawaii']"
   ]
  },
  {
   "cell_type": "code",
   "execution_count": 23,
   "id": "092cc552",
   "metadata": {},
   "outputs": [],
   "source": [
    "# Assigning regions to corresponding \"region\" column.\n",
    "\n",
    "df.loc[df['state'].isin(Region1_northeast), 'region'] = 'Northeast'\n",
    "df.loc[df['state'].isin(Region2_midwest), 'region'] = 'Midwest'\n",
    "df.loc[df['state'].isin(Region3_south), 'region'] = 'South'\n",
    "df.loc[df['state'].isin(Region4_west), 'region'] = 'West'"
   ]
  },
  {
   "cell_type": "code",
   "execution_count": 25,
   "id": "f23f29b4",
   "metadata": {},
   "outputs": [
    {
     "data": {
      "text/plain": [
       "Midwest       6963137\n",
       "Northeast     5721892\n",
       "South        10790096\n",
       "West          8291679\n",
       "Name: region, dtype: int64"
      ]
     },
     "execution_count": 25,
     "metadata": {},
     "output_type": "execute_result"
    }
   ],
   "source": [
    "df['region'].value_counts().sort_index()"
   ]
  },
  {
   "cell_type": "code",
   "execution_count": 34,
   "id": "b1cd7ef9",
   "metadata": {},
   "outputs": [],
   "source": [
    "# Creating a Crosstab for spending_flag and region to check if there is a noticable spending patern in each region.\n",
    "\n",
    "crosstab = pd.crosstab(df['region'], df['spending_flag'], dropna = False)"
   ]
  },
  {
   "cell_type": "code",
   "execution_count": 35,
   "id": "f073de7e",
   "metadata": {},
   "outputs": [
    {
     "data": {
      "text/html": [
       "<div>\n",
       "<style scoped>\n",
       "    .dataframe tbody tr th:only-of-type {\n",
       "        vertical-align: middle;\n",
       "    }\n",
       "\n",
       "    .dataframe tbody tr th {\n",
       "        vertical-align: top;\n",
       "    }\n",
       "\n",
       "    .dataframe thead th {\n",
       "        text-align: right;\n",
       "    }\n",
       "</style>\n",
       "<table border=\"1\" class=\"dataframe\">\n",
       "  <thead>\n",
       "    <tr style=\"text-align: right;\">\n",
       "      <th>spending_flag</th>\n",
       "      <th>high_spender</th>\n",
       "      <th>low spender</th>\n",
       "    </tr>\n",
       "    <tr>\n",
       "      <th>region</th>\n",
       "      <th></th>\n",
       "      <th></th>\n",
       "    </tr>\n",
       "  </thead>\n",
       "  <tbody>\n",
       "    <tr>\n",
       "      <th>Midwest</th>\n",
       "      <td>144541</td>\n",
       "      <td>6818596</td>\n",
       "    </tr>\n",
       "    <tr>\n",
       "      <th>Northeast</th>\n",
       "      <td>107381</td>\n",
       "      <td>5614511</td>\n",
       "    </tr>\n",
       "    <tr>\n",
       "      <th>South</th>\n",
       "      <td>207902</td>\n",
       "      <td>10582194</td>\n",
       "    </tr>\n",
       "    <tr>\n",
       "      <th>West</th>\n",
       "      <td>159120</td>\n",
       "      <td>8132559</td>\n",
       "    </tr>\n",
       "  </tbody>\n",
       "</table>\n",
       "</div>"
      ],
      "text/plain": [
       "spending_flag  high_spender  low spender\n",
       "region                                  \n",
       "Midwest              144541      6818596\n",
       "Northeast            107381      5614511\n",
       "South                207902     10582194\n",
       "West                 159120      8132559"
      ]
     },
     "execution_count": 35,
     "metadata": {},
     "output_type": "execute_result"
    }
   ],
   "source": [
    "crosstab"
   ]
  },
  {
   "cell_type": "markdown",
   "id": "a3ecb200",
   "metadata": {},
   "source": [
    "The cross tab shows that most customers in all four regions fall into your low spender category. There doesn't appear to be any major changes by region. The south region contains a larger customer base, but its spending flag is proportional to that of the other two regions."
   ]
  },
  {
   "cell_type": "markdown",
   "id": "b14e6651",
   "metadata": {},
   "source": [
    "### 4. Creating a Exclusion Flag "
   ]
  },
  {
   "cell_type": "code",
   "execution_count": 44,
   "id": "00c8a7c1",
   "metadata": {},
   "outputs": [],
   "source": [
    "df.loc[df['max_order'] < 5, ('exclusion_flag')] = 'low_activity'\n",
    "df.loc[df['max_order'] >= 5, ('exclusion_flag')] = 'high_activity'"
   ]
  },
  {
   "cell_type": "code",
   "execution_count": 48,
   "id": "14bd8839",
   "metadata": {},
   "outputs": [
    {
     "data": {
      "text/plain": [
       "high_activity    30959687\n",
       "low_activity      1440045\n",
       "NaN                  5127\n",
       "Name: exclusion_flag, dtype: int64"
      ]
     },
     "execution_count": 48,
     "metadata": {},
     "output_type": "execute_result"
    }
   ],
   "source": [
    "df['exclusion_flag'].value_counts(dropna = False)"
   ]
  },
  {
   "cell_type": "code",
   "execution_count": 52,
   "id": "db56c81d",
   "metadata": {},
   "outputs": [],
   "source": [
    "# creating to seperate data frames for low and high activity customers\n",
    "\n",
    "df_low_activity = df.loc[df['exclusion_flag'] == 'low_activity']"
   ]
  },
  {
   "cell_type": "code",
   "execution_count": 53,
   "id": "bf2540a8",
   "metadata": {},
   "outputs": [],
   "source": [
    "df_high_activity = df.loc[df['exclusion_flag'] == 'high_activity']"
   ]
  },
  {
   "cell_type": "code",
   "execution_count": 55,
   "id": "78265155",
   "metadata": {},
   "outputs": [
    {
     "data": {
      "text/html": [
       "<div>\n",
       "<style scoped>\n",
       "    .dataframe tbody tr th:only-of-type {\n",
       "        vertical-align: middle;\n",
       "    }\n",
       "\n",
       "    .dataframe tbody tr th {\n",
       "        vertical-align: top;\n",
       "    }\n",
       "\n",
       "    .dataframe thead th {\n",
       "        text-align: right;\n",
       "    }\n",
       "</style>\n",
       "<table border=\"1\" class=\"dataframe\">\n",
       "  <thead>\n",
       "    <tr style=\"text-align: right;\">\n",
       "      <th></th>\n",
       "      <th>order_id</th>\n",
       "      <th>user_id</th>\n",
       "      <th>order_number</th>\n",
       "      <th>order_dow</th>\n",
       "      <th>order_hour_of_day</th>\n",
       "      <th>days_since_prior_order</th>\n",
       "      <th>product_id</th>\n",
       "      <th>add_to_cart_order</th>\n",
       "      <th>reordered</th>\n",
       "      <th>product_name</th>\n",
       "      <th>...</th>\n",
       "      <th>order_frequency_flag</th>\n",
       "      <th>Gender</th>\n",
       "      <th>state</th>\n",
       "      <th>Age</th>\n",
       "      <th>date_joined</th>\n",
       "      <th>num_dependants</th>\n",
       "      <th>fam_status</th>\n",
       "      <th>income</th>\n",
       "      <th>region</th>\n",
       "      <th>exclusion_flag</th>\n",
       "    </tr>\n",
       "  </thead>\n",
       "  <tbody>\n",
       "    <tr>\n",
       "      <th>1510</th>\n",
       "      <td>520620.0</td>\n",
       "      <td>120.0</td>\n",
       "      <td>1.0</td>\n",
       "      <td>3.0</td>\n",
       "      <td>11.0</td>\n",
       "      <td>11.114836</td>\n",
       "      <td>196.0</td>\n",
       "      <td>2.0</td>\n",
       "      <td>0.0</td>\n",
       "      <td>Soda</td>\n",
       "      <td>...</td>\n",
       "      <td>regular_customer</td>\n",
       "      <td>Female</td>\n",
       "      <td>Kentucky</td>\n",
       "      <td>54.0</td>\n",
       "      <td>3/2/2017</td>\n",
       "      <td>2.0</td>\n",
       "      <td>married</td>\n",
       "      <td>99219.0</td>\n",
       "      <td>South</td>\n",
       "      <td>low_activity</td>\n",
       "    </tr>\n",
       "    <tr>\n",
       "      <th>1511</th>\n",
       "      <td>3273029.0</td>\n",
       "      <td>120.0</td>\n",
       "      <td>3.0</td>\n",
       "      <td>2.0</td>\n",
       "      <td>8.0</td>\n",
       "      <td>19.000000</td>\n",
       "      <td>196.0</td>\n",
       "      <td>2.0</td>\n",
       "      <td>1.0</td>\n",
       "      <td>Soda</td>\n",
       "      <td>...</td>\n",
       "      <td>regular_customer</td>\n",
       "      <td>Female</td>\n",
       "      <td>Kentucky</td>\n",
       "      <td>54.0</td>\n",
       "      <td>3/2/2017</td>\n",
       "      <td>2.0</td>\n",
       "      <td>married</td>\n",
       "      <td>99219.0</td>\n",
       "      <td>South</td>\n",
       "      <td>low_activity</td>\n",
       "    </tr>\n",
       "    <tr>\n",
       "      <th>1512</th>\n",
       "      <td>520620.0</td>\n",
       "      <td>120.0</td>\n",
       "      <td>1.0</td>\n",
       "      <td>3.0</td>\n",
       "      <td>11.0</td>\n",
       "      <td>11.114836</td>\n",
       "      <td>46149.0</td>\n",
       "      <td>1.0</td>\n",
       "      <td>0.0</td>\n",
       "      <td>Zero Calorie Cola</td>\n",
       "      <td>...</td>\n",
       "      <td>regular_customer</td>\n",
       "      <td>Female</td>\n",
       "      <td>Kentucky</td>\n",
       "      <td>54.0</td>\n",
       "      <td>3/2/2017</td>\n",
       "      <td>2.0</td>\n",
       "      <td>married</td>\n",
       "      <td>99219.0</td>\n",
       "      <td>South</td>\n",
       "      <td>low_activity</td>\n",
       "    </tr>\n",
       "    <tr>\n",
       "      <th>1513</th>\n",
       "      <td>3273029.0</td>\n",
       "      <td>120.0</td>\n",
       "      <td>3.0</td>\n",
       "      <td>2.0</td>\n",
       "      <td>8.0</td>\n",
       "      <td>19.000000</td>\n",
       "      <td>46149.0</td>\n",
       "      <td>1.0</td>\n",
       "      <td>1.0</td>\n",
       "      <td>Zero Calorie Cola</td>\n",
       "      <td>...</td>\n",
       "      <td>regular_customer</td>\n",
       "      <td>Female</td>\n",
       "      <td>Kentucky</td>\n",
       "      <td>54.0</td>\n",
       "      <td>3/2/2017</td>\n",
       "      <td>2.0</td>\n",
       "      <td>married</td>\n",
       "      <td>99219.0</td>\n",
       "      <td>South</td>\n",
       "      <td>low_activity</td>\n",
       "    </tr>\n",
       "    <tr>\n",
       "      <th>1514</th>\n",
       "      <td>520620.0</td>\n",
       "      <td>120.0</td>\n",
       "      <td>1.0</td>\n",
       "      <td>3.0</td>\n",
       "      <td>11.0</td>\n",
       "      <td>11.114836</td>\n",
       "      <td>26348.0</td>\n",
       "      <td>3.0</td>\n",
       "      <td>0.0</td>\n",
       "      <td>Mixed Fruit Fruit Snacks</td>\n",
       "      <td>...</td>\n",
       "      <td>regular_customer</td>\n",
       "      <td>Female</td>\n",
       "      <td>Kentucky</td>\n",
       "      <td>54.0</td>\n",
       "      <td>3/2/2017</td>\n",
       "      <td>2.0</td>\n",
       "      <td>married</td>\n",
       "      <td>99219.0</td>\n",
       "      <td>South</td>\n",
       "      <td>low_activity</td>\n",
       "    </tr>\n",
       "  </tbody>\n",
       "</table>\n",
       "<p>5 rows × 32 columns</p>\n",
       "</div>"
      ],
      "text/plain": [
       "       order_id  user_id  order_number  order_dow  order_hour_of_day  \\\n",
       "1510   520620.0    120.0           1.0        3.0               11.0   \n",
       "1511  3273029.0    120.0           3.0        2.0                8.0   \n",
       "1512   520620.0    120.0           1.0        3.0               11.0   \n",
       "1513  3273029.0    120.0           3.0        2.0                8.0   \n",
       "1514   520620.0    120.0           1.0        3.0               11.0   \n",
       "\n",
       "      days_since_prior_order  product_id  add_to_cart_order  reordered  \\\n",
       "1510               11.114836       196.0                2.0        0.0   \n",
       "1511               19.000000       196.0                2.0        1.0   \n",
       "1512               11.114836     46149.0                1.0        0.0   \n",
       "1513               19.000000     46149.0                1.0        1.0   \n",
       "1514               11.114836     26348.0                3.0        0.0   \n",
       "\n",
       "                  product_name  ...  order_frequency_flag  Gender     state  \\\n",
       "1510                      Soda  ...      regular_customer  Female  Kentucky   \n",
       "1511                      Soda  ...      regular_customer  Female  Kentucky   \n",
       "1512         Zero Calorie Cola  ...      regular_customer  Female  Kentucky   \n",
       "1513         Zero Calorie Cola  ...      regular_customer  Female  Kentucky   \n",
       "1514  Mixed Fruit Fruit Snacks  ...      regular_customer  Female  Kentucky   \n",
       "\n",
       "       Age date_joined num_dependants fam_status   income region  \\\n",
       "1510  54.0    3/2/2017            2.0    married  99219.0  South   \n",
       "1511  54.0    3/2/2017            2.0    married  99219.0  South   \n",
       "1512  54.0    3/2/2017            2.0    married  99219.0  South   \n",
       "1513  54.0    3/2/2017            2.0    married  99219.0  South   \n",
       "1514  54.0    3/2/2017            2.0    married  99219.0  South   \n",
       "\n",
       "      exclusion_flag  \n",
       "1510    low_activity  \n",
       "1511    low_activity  \n",
       "1512    low_activity  \n",
       "1513    low_activity  \n",
       "1514    low_activity  \n",
       "\n",
       "[5 rows x 32 columns]"
      ]
     },
     "execution_count": 55,
     "metadata": {},
     "output_type": "execute_result"
    }
   ],
   "source": [
    "#checking new data frames\n",
    "\n",
    "df_low_activity.head()"
   ]
  },
  {
   "cell_type": "code",
   "execution_count": 57,
   "id": "0ccab6f9",
   "metadata": {},
   "outputs": [
    {
     "data": {
      "text/plain": [
       "(1440045, 32)"
      ]
     },
     "execution_count": 57,
     "metadata": {},
     "output_type": "execute_result"
    }
   ],
   "source": [
    "df_low_activity.shape"
   ]
  },
  {
   "cell_type": "code",
   "execution_count": 58,
   "id": "803159fb",
   "metadata": {},
   "outputs": [
    {
     "data": {
      "text/plain": [
       "(30959687, 32)"
      ]
     },
     "execution_count": 58,
     "metadata": {},
     "output_type": "execute_result"
    }
   ],
   "source": [
    "df_high_activity.shape"
   ]
  },
  {
   "cell_type": "markdown",
   "id": "1ee5a33e",
   "metadata": {},
   "source": [
    "#### Exporting two new data frames High Activity and Low Activity"
   ]
  },
  {
   "cell_type": "code",
   "execution_count": 60,
   "id": "87fddbfa",
   "metadata": {},
   "outputs": [],
   "source": [
    "df_low_activity.to_pickle(os.path.join(path, '2. Data','Prepared Data', 'low_activity_customers.pkl'))"
   ]
  },
  {
   "cell_type": "code",
   "execution_count": 62,
   "id": "b7d5ceaa",
   "metadata": {},
   "outputs": [],
   "source": [
    "df_high_activity.to_pickle(os.path.join(path, '2. Data', 'Prepared Data', 'high_activity_customers.pkl'))"
   ]
  }
 ],
 "metadata": {
  "kernelspec": {
   "display_name": "Python 3 (ipykernel)",
   "language": "python",
   "name": "python3"
  },
  "language_info": {
   "codemirror_mode": {
    "name": "ipython",
    "version": 3
   },
   "file_extension": ".py",
   "mimetype": "text/x-python",
   "name": "python",
   "nbconvert_exporter": "python",
   "pygments_lexer": "ipython3",
   "version": "3.9.13"
  }
 },
 "nbformat": 4,
 "nbformat_minor": 5
}
