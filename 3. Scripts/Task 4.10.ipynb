{
 "cells": [
  {
   "cell_type": "markdown",
   "id": "54d7edeb",
   "metadata": {},
   "source": [
    "# Task 4.10 Part 1"
   ]
  },
  {
   "cell_type": "markdown",
   "id": "f584cec0",
   "metadata": {},
   "source": [
    "<hr>"
   ]
  },
  {
   "cell_type": "markdown",
   "id": "754473db",
   "metadata": {},
   "source": [
    "## Contents:"
   ]
  },
  {
   "cell_type": "markdown",
   "id": "1731f6f0",
   "metadata": {},
   "source": [
    "1. Import Libriaries <br>\n",
    "2. Security Implications <br>\n",
    "3. Regional Customer Information <br>\n",
    "    3a. Regional Segmentation of the Data <br>\n",
    "    3b. Spending Segmentation of Regions <br>\n",
    "4. Creating Customer Activity Exclusion Flag <br>\n",
    "    4a. Low Activity and High Activity Segmentation <br>\n",
    "    4b. Exporting Two New Data Frames, Low Activity and High Activity Customers <br>\n",
    "5. Customer Profiling <br>\n",
    "    5a. Import Department Data <br>\n",
    "    5b. Demographic Segmentation\n",
    "        5b1. Age \n",
    "        5b2. Dependants \n",
    "        5b3. Income \n",
    "    5c. Department Segmentation <br>\n",
    "    5d. Behavioral Segmentation\n",
    "        5d1. Customers with babies \n",
    "        5d2. Order Time Habbits \n",
    "6. Customer Profile Visualizations <br>\n",
    "7. Customer Profile Aggregation and Frequency <br>\n",
    "8. Exporting Data Frames and Visualizations<br>"
   ]
  },
  {
   "cell_type": "markdown",
   "id": "362aacbd",
   "metadata": {},
   "source": [
    "### 1. Import Libraries\n"
   ]
  },
  {
   "cell_type": "code",
   "execution_count": 1,
   "id": "2bda53aa",
   "metadata": {},
   "outputs": [],
   "source": [
    "# Import libraries \n",
    "import pandas as pd \n",
    "import numpy as np\n",
    "import os\n",
    "\n",
    "#Visualization Libraries\n",
    "import matplotlib.pyplot as plt\n",
    "import seaborn as sns\n",
    "import scipy"
   ]
  },
  {
   "cell_type": "markdown",
   "id": "93938800",
   "metadata": {},
   "source": [
    "###  Data Import"
   ]
  },
  {
   "cell_type": "code",
   "execution_count": 2,
   "id": "aa721d94",
   "metadata": {},
   "outputs": [],
   "source": [
    "# creating a path \n",
    "\n",
    "path = r'/Users/jacobyount/Documents/Data Analytics/Immersion 4/02.23.2023 Instacart Basket Analysis'"
   ]
  },
  {
   "cell_type": "code",
   "execution_count": 3,
   "id": "57c287af",
   "metadata": {},
   "outputs": [],
   "source": [
    "df = pd.read_pickle(os.path.join(path, '2. Data', 'Prepared Data', 'combined_data.pkl'))"
   ]
  },
  {
   "cell_type": "markdown",
   "id": "047d56c6",
   "metadata": {},
   "source": [
    "### 2. Security Concerns"
   ]
  },
  {
   "cell_type": "markdown",
   "id": "bc0fe70d",
   "metadata": {},
   "source": [
    "There are no PII data concerns in this data set. Previously there were two columns Surname and First Name, but were removed as they didnt provide any insight."
   ]
  },
  {
   "cell_type": "markdown",
   "id": "f9c1e94b",
   "metadata": {},
   "source": [
    "### 3. Regional Customer information\n",
    "\n",
    "#### 3a. Regional Segmentation"
   ]
  },
  {
   "cell_type": "code",
   "execution_count": 4,
   "id": "3316c7fc",
   "metadata": {},
   "outputs": [
    {
     "data": {
      "text/plain": [
       "Alabama                 637863\n",
       "Alaska                  648451\n",
       "Arizona                 653864\n",
       "Arkansas                636070\n",
       "California              659695\n",
       "Colorado                639173\n",
       "Connecticut             622940\n",
       "Delaware                636906\n",
       "District of Columbia    613598\n",
       "Florida                 628964\n",
       "Georgia                 656249\n",
       "Hawaii                  632786\n",
       "Idaho                   607036\n",
       "Illinois                632928\n",
       "Indiana                 627185\n",
       "Iowa                    625429\n",
       "Kansas                  637418\n",
       "Kentucky                632389\n",
       "Louisiana               637414\n",
       "Maine                   638479\n",
       "Maryland                626402\n",
       "Massachusetts           646275\n",
       "Michigan                630816\n",
       "Minnesota               647738\n",
       "Mississippi             632575\n",
       "Missouri                640576\n",
       "Montana                 635181\n",
       "Nebraska                625736\n",
       "Nevada                  636034\n",
       "New Hampshire           615259\n",
       "New Jersey              627599\n",
       "New Mexico              654400\n",
       "New York                635912\n",
       "North Carolina          651790\n",
       "North Dakota            638391\n",
       "Ohio                    628218\n",
       "Oklahoma                651661\n",
       "Oregon                  636332\n",
       "Pennsylvania            667007\n",
       "Rhode Island            656777\n",
       "South Carolina          636677\n",
       "South Dakota            633649\n",
       "Tennessee               617783\n",
       "Texas                   640285\n",
       "Utah                    611814\n",
       "Vermont                 611644\n",
       "Virginia                641280\n",
       "Washington              632722\n",
       "West Virginia           612190\n",
       "Wisconsin               627981\n",
       "Wyoming                 644191\n",
       "Name: state, dtype: int64"
      ]
     },
     "execution_count": 4,
     "metadata": {},
     "output_type": "execute_result"
    }
   ],
   "source": [
    "df['state'].value_counts().sort_index()"
   ]
  },
  {
   "cell_type": "code",
   "execution_count": 5,
   "id": "f30823a4",
   "metadata": {},
   "outputs": [],
   "source": [
    "# Defining Regions\n",
    "\n",
    "Region1_northeast = ['Maine', 'New Hampshire', 'Vermont', 'Massachusetts', 'Rhode Island', 'Connecticut', 'New York', 'Pennsylvania', 'New Jersey']\n",
    "Region2_midwest = ['Wisconsin', 'North Dakota', 'South Dakota', 'Illinios', 'Indiana', 'Ohio', 'Michigan', 'Nebraska', 'Kansas', 'Minnesota', 'Iowa', 'Missouri']\n",
    "Region3_south = ['Delaware', 'Maryland', 'District of Columbia', 'Virginia', 'West Virginia', 'North Carolina', 'South Carolina', 'Georgia', 'Florida', 'Kentucky', 'Tennessee', 'Alabama', 'Mississippi', 'Oklahoma', 'Texas', 'Arkansas', 'Louisiana']\n",
    "Region4_west = ['Idaho', 'Washington', 'Oregon', 'Colorado', 'California', 'Arizona', 'New Mexico', 'Montana', 'Wyoming', 'Nevada', 'Utah', 'Alaska', 'Hawaii']"
   ]
  },
  {
   "cell_type": "code",
   "execution_count": 6,
   "id": "1f2488c5",
   "metadata": {},
   "outputs": [],
   "source": [
    "# Assigning regions to corresponding \"region\" column.\n",
    "\n",
    "df.loc[df['state'].isin(Region1_northeast), 'region'] = 'Northeast'\n",
    "df.loc[df['state'].isin(Region2_midwest), 'region'] = 'Midwest'\n",
    "df.loc[df['state'].isin(Region3_south), 'region'] = 'South'\n",
    "df.loc[df['state'].isin(Region4_west), 'region'] = 'West'"
   ]
  },
  {
   "cell_type": "code",
   "execution_count": 7,
   "id": "17e97b81",
   "metadata": {},
   "outputs": [
    {
     "data": {
      "text/plain": [
       "Midwest       6963137\n",
       "Northeast     5721892\n",
       "South        10790096\n",
       "West          8291679\n",
       "Name: region, dtype: int64"
      ]
     },
     "execution_count": 7,
     "metadata": {},
     "output_type": "execute_result"
    }
   ],
   "source": [
    "df['region'].value_counts().sort_index()"
   ]
  },
  {
   "cell_type": "markdown",
   "id": "d5dd6715",
   "metadata": {},
   "source": [
    "#### 3b. Spending Segmentation of Regions"
   ]
  },
  {
   "cell_type": "code",
   "execution_count": 8,
   "id": "00aa211b",
   "metadata": {},
   "outputs": [],
   "source": [
    "# Creating a Crosstab for spending_flag and region to check if there is a noticable spending patern in each region.\n",
    "\n",
    "crosstab = pd.crosstab(df['region'], df['spending_flag'], dropna = False)"
   ]
  },
  {
   "cell_type": "code",
   "execution_count": 9,
   "id": "d0cab23f",
   "metadata": {},
   "outputs": [
    {
     "data": {
      "text/html": [
       "<div>\n",
       "<style scoped>\n",
       "    .dataframe tbody tr th:only-of-type {\n",
       "        vertical-align: middle;\n",
       "    }\n",
       "\n",
       "    .dataframe tbody tr th {\n",
       "        vertical-align: top;\n",
       "    }\n",
       "\n",
       "    .dataframe thead th {\n",
       "        text-align: right;\n",
       "    }\n",
       "</style>\n",
       "<table border=\"1\" class=\"dataframe\">\n",
       "  <thead>\n",
       "    <tr style=\"text-align: right;\">\n",
       "      <th>spending_flag</th>\n",
       "      <th>high_spender</th>\n",
       "      <th>low spender</th>\n",
       "    </tr>\n",
       "    <tr>\n",
       "      <th>region</th>\n",
       "      <th></th>\n",
       "      <th></th>\n",
       "    </tr>\n",
       "  </thead>\n",
       "  <tbody>\n",
       "    <tr>\n",
       "      <th>Midwest</th>\n",
       "      <td>144541</td>\n",
       "      <td>6818596</td>\n",
       "    </tr>\n",
       "    <tr>\n",
       "      <th>Northeast</th>\n",
       "      <td>107381</td>\n",
       "      <td>5614511</td>\n",
       "    </tr>\n",
       "    <tr>\n",
       "      <th>South</th>\n",
       "      <td>207902</td>\n",
       "      <td>10582194</td>\n",
       "    </tr>\n",
       "    <tr>\n",
       "      <th>West</th>\n",
       "      <td>159120</td>\n",
       "      <td>8132559</td>\n",
       "    </tr>\n",
       "  </tbody>\n",
       "</table>\n",
       "</div>"
      ],
      "text/plain": [
       "spending_flag  high_spender  low spender\n",
       "region                                  \n",
       "Midwest              144541      6818596\n",
       "Northeast            107381      5614511\n",
       "South                207902     10582194\n",
       "West                 159120      8132559"
      ]
     },
     "execution_count": 9,
     "metadata": {},
     "output_type": "execute_result"
    }
   ],
   "source": [
    "crosstab"
   ]
  },
  {
   "cell_type": "markdown",
   "id": "60c070bc",
   "metadata": {},
   "source": [
    "The cross tab shows that most customers in all four regions fall into your low spender category. There doesn't appear to be any major changes by region. The south region contains a larger customer base, but its spending flag is proportional to that of the other two regions."
   ]
  },
  {
   "cell_type": "markdown",
   "id": "75ad6d92",
   "metadata": {},
   "source": [
    "### 4. Creating a Customer Exclusion Flag "
   ]
  },
  {
   "cell_type": "markdown",
   "id": "1e8f82ae",
   "metadata": {},
   "source": [
    "#### 4a. Low and High Activity Segmentation"
   ]
  },
  {
   "cell_type": "code",
   "execution_count": 10,
   "id": "7aaa7a92",
   "metadata": {},
   "outputs": [
    {
     "data": {
      "text/plain": [
       "high_activity    30959687\n",
       "low_activity      1440045\n",
       "NaN                  5127\n",
       "Name: exclusion_flag, dtype: int64"
      ]
     },
     "execution_count": 10,
     "metadata": {},
     "output_type": "execute_result"
    }
   ],
   "source": [
    "df.loc[df['max_order'] < 5, ('exclusion_flag')] = 'low_activity'\n",
    "df.loc[df['max_order'] >= 5, ('exclusion_flag')] = 'high_activity'\n",
    "df['exclusion_flag'].value_counts(dropna = False)"
   ]
  },
  {
   "cell_type": "code",
   "execution_count": 11,
   "id": "bba9f3e9",
   "metadata": {},
   "outputs": [],
   "source": [
    "# Replacing all NaN values as Low Activity Users.\n",
    "\n",
    "df['exclusion_flag'].fillna('low_activity', inplace=True)"
   ]
  },
  {
   "cell_type": "code",
   "execution_count": 12,
   "id": "47861adc",
   "metadata": {},
   "outputs": [
    {
     "data": {
      "text/plain": [
       "high_activity    30959687\n",
       "low_activity      1445172\n",
       "Name: exclusion_flag, dtype: int64"
      ]
     },
     "execution_count": 12,
     "metadata": {},
     "output_type": "execute_result"
    }
   ],
   "source": [
    "df['exclusion_flag'].value_counts(dropna = False)"
   ]
  },
  {
   "cell_type": "code",
   "execution_count": 13,
   "id": "b553b744",
   "metadata": {},
   "outputs": [],
   "source": [
    "# creating to seperate data frames for low and high activity customers\n",
    "\n",
    "df_low_activity = df.loc[df['exclusion_flag'] == 'low_activity']\n",
    "df_high_activity = df.loc[df['exclusion_flag'] == 'high_activity']"
   ]
  },
  {
   "cell_type": "code",
   "execution_count": 14,
   "id": "5b4c1363",
   "metadata": {},
   "outputs": [
    {
     "data": {
      "text/plain": [
       "(30959687, 32)"
      ]
     },
     "execution_count": 14,
     "metadata": {},
     "output_type": "execute_result"
    }
   ],
   "source": [
    "df_high_activity.shape"
   ]
  },
  {
   "cell_type": "markdown",
   "id": "df27a06b",
   "metadata": {},
   "source": [
    "#### 4b. Exporting New Data Frames"
   ]
  },
  {
   "cell_type": "code",
   "execution_count": 15,
   "id": "96215c57",
   "metadata": {},
   "outputs": [],
   "source": [
    "df_low_activity.to_pickle(os.path.join(path, '2. Data','Prepared Data', 'low_activity_customers.pkl'))"
   ]
  },
  {
   "cell_type": "code",
   "execution_count": 16,
   "id": "fb4922f9",
   "metadata": {},
   "outputs": [],
   "source": [
    "df_high_activity.to_pickle(os.path.join(path, '2. Data', 'Prepared Data', 'high_activity_customers.pkl'))"
   ]
  },
  {
   "cell_type": "markdown",
   "id": "e634a313",
   "metadata": {},
   "source": [
    "### 5. Customer Profiling"
   ]
  },
  {
   "cell_type": "markdown",
   "id": "4f56b405",
   "metadata": {},
   "source": [
    "### 5a. Data Import\n",
    "##### We will be using the High Activity data frame from this point forward as the client only want to see that data. "
   ]
  },
  {
   "cell_type": "code",
   "execution_count": 17,
   "id": "3ff7b780",
   "metadata": {},
   "outputs": [],
   "source": [
    "# Importing the department data frame\n",
    "\n",
    "dept_df = pd.read_csv(os.path.join(path, '2. Data', 'Prepared Data', 'departments_wrangled.csv'), index_col = False)"
   ]
  },
  {
   "cell_type": "code",
   "execution_count": 18,
   "id": "682c1448",
   "metadata": {},
   "outputs": [],
   "source": [
    "df = df_high_activity"
   ]
  },
  {
   "cell_type": "code",
   "execution_count": 19,
   "id": "c1c9fd77",
   "metadata": {},
   "outputs": [
    {
     "data": {
      "text/html": [
       "<div>\n",
       "<style scoped>\n",
       "    .dataframe tbody tr th:only-of-type {\n",
       "        vertical-align: middle;\n",
       "    }\n",
       "\n",
       "    .dataframe tbody tr th {\n",
       "        vertical-align: top;\n",
       "    }\n",
       "\n",
       "    .dataframe thead th {\n",
       "        text-align: right;\n",
       "    }\n",
       "</style>\n",
       "<table border=\"1\" class=\"dataframe\">\n",
       "  <thead>\n",
       "    <tr style=\"text-align: right;\">\n",
       "      <th></th>\n",
       "      <th>order_id</th>\n",
       "      <th>user_id</th>\n",
       "      <th>order_number</th>\n",
       "      <th>order_dow</th>\n",
       "      <th>order_hour_of_day</th>\n",
       "      <th>days_since_prior_order</th>\n",
       "      <th>product_id</th>\n",
       "      <th>add_to_cart_order</th>\n",
       "      <th>reordered</th>\n",
       "      <th>product_name</th>\n",
       "      <th>...</th>\n",
       "      <th>order_frequency_flag</th>\n",
       "      <th>Gender</th>\n",
       "      <th>state</th>\n",
       "      <th>Age</th>\n",
       "      <th>date_joined</th>\n",
       "      <th>num_dependants</th>\n",
       "      <th>fam_status</th>\n",
       "      <th>income</th>\n",
       "      <th>region</th>\n",
       "      <th>exclusion_flag</th>\n",
       "    </tr>\n",
       "  </thead>\n",
       "  <tbody>\n",
       "    <tr>\n",
       "      <th>0</th>\n",
       "      <td>2539329.0</td>\n",
       "      <td>1.0</td>\n",
       "      <td>1.0</td>\n",
       "      <td>2.0</td>\n",
       "      <td>8.0</td>\n",
       "      <td>11.114836</td>\n",
       "      <td>196.0</td>\n",
       "      <td>1.0</td>\n",
       "      <td>0.0</td>\n",
       "      <td>Soda</td>\n",
       "      <td>...</td>\n",
       "      <td>regular_customer</td>\n",
       "      <td>Female</td>\n",
       "      <td>Alabama</td>\n",
       "      <td>31.0</td>\n",
       "      <td>2/17/2019</td>\n",
       "      <td>3.0</td>\n",
       "      <td>married</td>\n",
       "      <td>40423.0</td>\n",
       "      <td>South</td>\n",
       "      <td>high_activity</td>\n",
       "    </tr>\n",
       "    <tr>\n",
       "      <th>1</th>\n",
       "      <td>2398795.0</td>\n",
       "      <td>1.0</td>\n",
       "      <td>2.0</td>\n",
       "      <td>3.0</td>\n",
       "      <td>7.0</td>\n",
       "      <td>15.000000</td>\n",
       "      <td>196.0</td>\n",
       "      <td>1.0</td>\n",
       "      <td>1.0</td>\n",
       "      <td>Soda</td>\n",
       "      <td>...</td>\n",
       "      <td>regular_customer</td>\n",
       "      <td>Female</td>\n",
       "      <td>Alabama</td>\n",
       "      <td>31.0</td>\n",
       "      <td>2/17/2019</td>\n",
       "      <td>3.0</td>\n",
       "      <td>married</td>\n",
       "      <td>40423.0</td>\n",
       "      <td>South</td>\n",
       "      <td>high_activity</td>\n",
       "    </tr>\n",
       "    <tr>\n",
       "      <th>2</th>\n",
       "      <td>473747.0</td>\n",
       "      <td>1.0</td>\n",
       "      <td>3.0</td>\n",
       "      <td>3.0</td>\n",
       "      <td>12.0</td>\n",
       "      <td>21.000000</td>\n",
       "      <td>196.0</td>\n",
       "      <td>1.0</td>\n",
       "      <td>1.0</td>\n",
       "      <td>Soda</td>\n",
       "      <td>...</td>\n",
       "      <td>regular_customer</td>\n",
       "      <td>Female</td>\n",
       "      <td>Alabama</td>\n",
       "      <td>31.0</td>\n",
       "      <td>2/17/2019</td>\n",
       "      <td>3.0</td>\n",
       "      <td>married</td>\n",
       "      <td>40423.0</td>\n",
       "      <td>South</td>\n",
       "      <td>high_activity</td>\n",
       "    </tr>\n",
       "    <tr>\n",
       "      <th>3</th>\n",
       "      <td>2254736.0</td>\n",
       "      <td>1.0</td>\n",
       "      <td>4.0</td>\n",
       "      <td>4.0</td>\n",
       "      <td>7.0</td>\n",
       "      <td>29.000000</td>\n",
       "      <td>196.0</td>\n",
       "      <td>1.0</td>\n",
       "      <td>1.0</td>\n",
       "      <td>Soda</td>\n",
       "      <td>...</td>\n",
       "      <td>regular_customer</td>\n",
       "      <td>Female</td>\n",
       "      <td>Alabama</td>\n",
       "      <td>31.0</td>\n",
       "      <td>2/17/2019</td>\n",
       "      <td>3.0</td>\n",
       "      <td>married</td>\n",
       "      <td>40423.0</td>\n",
       "      <td>South</td>\n",
       "      <td>high_activity</td>\n",
       "    </tr>\n",
       "    <tr>\n",
       "      <th>4</th>\n",
       "      <td>431534.0</td>\n",
       "      <td>1.0</td>\n",
       "      <td>5.0</td>\n",
       "      <td>4.0</td>\n",
       "      <td>15.0</td>\n",
       "      <td>28.000000</td>\n",
       "      <td>196.0</td>\n",
       "      <td>1.0</td>\n",
       "      <td>1.0</td>\n",
       "      <td>Soda</td>\n",
       "      <td>...</td>\n",
       "      <td>regular_customer</td>\n",
       "      <td>Female</td>\n",
       "      <td>Alabama</td>\n",
       "      <td>31.0</td>\n",
       "      <td>2/17/2019</td>\n",
       "      <td>3.0</td>\n",
       "      <td>married</td>\n",
       "      <td>40423.0</td>\n",
       "      <td>South</td>\n",
       "      <td>high_activity</td>\n",
       "    </tr>\n",
       "  </tbody>\n",
       "</table>\n",
       "<p>5 rows × 32 columns</p>\n",
       "</div>"
      ],
      "text/plain": [
       "    order_id  user_id  order_number  order_dow  order_hour_of_day  \\\n",
       "0  2539329.0      1.0           1.0        2.0                8.0   \n",
       "1  2398795.0      1.0           2.0        3.0                7.0   \n",
       "2   473747.0      1.0           3.0        3.0               12.0   \n",
       "3  2254736.0      1.0           4.0        4.0                7.0   \n",
       "4   431534.0      1.0           5.0        4.0               15.0   \n",
       "\n",
       "   days_since_prior_order  product_id  add_to_cart_order  reordered  \\\n",
       "0               11.114836       196.0                1.0        0.0   \n",
       "1               15.000000       196.0                1.0        1.0   \n",
       "2               21.000000       196.0                1.0        1.0   \n",
       "3               29.000000       196.0                1.0        1.0   \n",
       "4               28.000000       196.0                1.0        1.0   \n",
       "\n",
       "  product_name  ...  order_frequency_flag  Gender    state   Age date_joined  \\\n",
       "0         Soda  ...      regular_customer  Female  Alabama  31.0   2/17/2019   \n",
       "1         Soda  ...      regular_customer  Female  Alabama  31.0   2/17/2019   \n",
       "2         Soda  ...      regular_customer  Female  Alabama  31.0   2/17/2019   \n",
       "3         Soda  ...      regular_customer  Female  Alabama  31.0   2/17/2019   \n",
       "4         Soda  ...      regular_customer  Female  Alabama  31.0   2/17/2019   \n",
       "\n",
       "  num_dependants fam_status   income region  exclusion_flag  \n",
       "0            3.0    married  40423.0  South   high_activity  \n",
       "1            3.0    married  40423.0  South   high_activity  \n",
       "2            3.0    married  40423.0  South   high_activity  \n",
       "3            3.0    married  40423.0  South   high_activity  \n",
       "4            3.0    married  40423.0  South   high_activity  \n",
       "\n",
       "[5 rows x 32 columns]"
      ]
     },
     "execution_count": 19,
     "metadata": {},
     "output_type": "execute_result"
    }
   ],
   "source": [
    "df.head()"
   ]
  },
  {
   "cell_type": "markdown",
   "id": "da552830",
   "metadata": {},
   "source": [
    "### 5b. Demographic Segmentation"
   ]
  },
  {
   "cell_type": "markdown",
   "id": "1993b4d3",
   "metadata": {},
   "source": [
    "### 5b1. Age Profile"
   ]
  },
  {
   "cell_type": "code",
   "execution_count": 20,
   "id": "290f3fa9",
   "metadata": {},
   "outputs": [
    {
     "data": {
      "text/plain": [
       "count    3.095969e+07\n",
       "mean     4.946803e+01\n",
       "std      1.848527e+01\n",
       "min      1.800000e+01\n",
       "25%      3.300000e+01\n",
       "50%      4.900000e+01\n",
       "75%      6.500000e+01\n",
       "max      8.100000e+01\n",
       "Name: Age, dtype: float64"
      ]
     },
     "execution_count": 20,
     "metadata": {},
     "output_type": "execute_result"
    }
   ],
   "source": [
    "df['Age'].describe()"
   ]
  },
  {
   "cell_type": "markdown",
   "id": "989a12ea",
   "metadata": {},
   "source": [
    "The minimum age is 18 and max age is 81. We can break the ages down into three categories, Young Adult, Middle Aged, Elderly. <br>\n",
    "18-39 = Young Adult <br>\n",
    "40-65 = Middle Aged Adult <br>\n",
    "65+ = Senior Adult"
   ]
  },
  {
   "cell_type": "code",
   "execution_count": 21,
   "id": "8df06472",
   "metadata": {},
   "outputs": [
    {
     "data": {
      "text/plain": [
       "middle aged adult    12101980\n",
       "young adult          10663440\n",
       "senior adult          8194267\n",
       "Name: age_category, dtype: int64"
      ]
     },
     "execution_count": 21,
     "metadata": {},
     "output_type": "execute_result"
    }
   ],
   "source": [
    "df.loc[(df['Age'] >= 18) & (df['Age'] < 40), 'age_category'] = 'young adult'\n",
    "df.loc[(df['Age'] >=40) & (df['Age'] <65), 'age_category'] = 'middle aged adult'\n",
    "df.loc[df['Age']>= 65, 'age_category'] = 'senior adult'\n",
    "df['age_category'].value_counts()"
   ]
  },
  {
   "cell_type": "markdown",
   "id": "0b6d9c9e",
   "metadata": {},
   "source": [
    "### 5b2. Dependants Profile"
   ]
  },
  {
   "cell_type": "code",
   "execution_count": 22,
   "id": "db16969d",
   "metadata": {},
   "outputs": [
    {
     "data": {
      "text/plain": [
       "count    3.095969e+07\n",
       "mean     1.501815e+00\n",
       "std      1.118898e+00\n",
       "min      0.000000e+00\n",
       "25%      1.000000e+00\n",
       "50%      2.000000e+00\n",
       "75%      3.000000e+00\n",
       "max      3.000000e+00\n",
       "Name: num_dependants, dtype: float64"
      ]
     },
     "execution_count": 22,
     "metadata": {},
     "output_type": "execute_result"
    }
   ],
   "source": [
    "df['num_dependants'].describe()"
   ]
  },
  {
   "cell_type": "markdown",
   "id": "d74a162c",
   "metadata": {},
   "source": [
    "The minimum amount of dependants is 0 and the max is 3. We will break this down into 3 categories. <br>\n",
    "0 dependants = small family <br>\n",
    "1-2 dependants = medium famly <br>\n",
    "3 dependants = Large family"
   ]
  },
  {
   "cell_type": "code",
   "execution_count": 23,
   "id": "a1cbdbbb",
   "metadata": {},
   "outputs": [
    {
     "data": {
      "text/plain": [
       "medium    15449870\n",
       "large      7771309\n",
       "small      7738508\n",
       "Name: family_size, dtype: int64"
      ]
     },
     "execution_count": 23,
     "metadata": {},
     "output_type": "execute_result"
    }
   ],
   "source": [
    "df.loc[df['num_dependants'] == 0, 'family_size'] = 'small'\n",
    "df.loc[(df['num_dependants'] ==1) | (df['num_dependants'] == 2), 'family_size'] = 'medium'\n",
    "df.loc[df['num_dependants']== 3, 'family_size'] = 'large'\n",
    "df['family_size'].value_counts()"
   ]
  },
  {
   "cell_type": "code",
   "execution_count": 24,
   "id": "05a1e3a5",
   "metadata": {},
   "outputs": [],
   "source": [
    "crosstab_family_size = pd.crosstab(df['fam_status'], df['num_dependants'],  dropna = False)"
   ]
  },
  {
   "cell_type": "code",
   "execution_count": 25,
   "id": "e8f5e1aa",
   "metadata": {},
   "outputs": [
    {
     "data": {
      "text/html": [
       "<div>\n",
       "<style scoped>\n",
       "    .dataframe tbody tr th:only-of-type {\n",
       "        vertical-align: middle;\n",
       "    }\n",
       "\n",
       "    .dataframe tbody tr th {\n",
       "        vertical-align: top;\n",
       "    }\n",
       "\n",
       "    .dataframe thead th {\n",
       "        text-align: right;\n",
       "    }\n",
       "</style>\n",
       "<table border=\"1\" class=\"dataframe\">\n",
       "  <thead>\n",
       "    <tr style=\"text-align: right;\">\n",
       "      <th>num_dependants</th>\n",
       "      <th>0.0</th>\n",
       "      <th>1.0</th>\n",
       "      <th>2.0</th>\n",
       "      <th>3.0</th>\n",
       "    </tr>\n",
       "    <tr>\n",
       "      <th>fam_status</th>\n",
       "      <th></th>\n",
       "      <th></th>\n",
       "      <th></th>\n",
       "      <th></th>\n",
       "    </tr>\n",
       "  </thead>\n",
       "  <tbody>\n",
       "    <tr>\n",
       "      <th>divorced/widowed</th>\n",
       "      <td>2644831</td>\n",
       "      <td>0</td>\n",
       "      <td>0</td>\n",
       "      <td>0</td>\n",
       "    </tr>\n",
       "    <tr>\n",
       "      <th>living with parents and siblings</th>\n",
       "      <td>0</td>\n",
       "      <td>507980</td>\n",
       "      <td>484596</td>\n",
       "      <td>488403</td>\n",
       "    </tr>\n",
       "    <tr>\n",
       "      <th>married</th>\n",
       "      <td>0</td>\n",
       "      <td>7209966</td>\n",
       "      <td>7247328</td>\n",
       "      <td>7282906</td>\n",
       "    </tr>\n",
       "    <tr>\n",
       "      <th>single</th>\n",
       "      <td>5093677</td>\n",
       "      <td>0</td>\n",
       "      <td>0</td>\n",
       "      <td>0</td>\n",
       "    </tr>\n",
       "  </tbody>\n",
       "</table>\n",
       "</div>"
      ],
      "text/plain": [
       "num_dependants                        0.0      1.0      2.0      3.0\n",
       "fam_status                                                          \n",
       "divorced/widowed                  2644831        0        0        0\n",
       "living with parents and siblings        0   507980   484596   488403\n",
       "married                                 0  7209966  7247328  7282906\n",
       "single                            5093677        0        0        0"
      ]
     },
     "execution_count": 25,
     "metadata": {},
     "output_type": "execute_result"
    }
   ],
   "source": [
    "crosstab_family_size"
   ]
  },
  {
   "cell_type": "markdown",
   "id": "12b23d2a",
   "metadata": {},
   "source": [
    "After running a crosstab of our family status and number of dependants I will break this down into a new column called household. This will represent the the look of the household. This shows that people listed as single, divorced, or widowed all have 0 dependants. They will be moved into one group titled single adult.  <br>\n",
    "divorced/widowed/single = single adult <br>\n",
    "married = married w/ dependants <br>\n",
    "living with parents and siblings = extended family w/ dependants"
   ]
  },
  {
   "cell_type": "code",
   "execution_count": 26,
   "id": "66143cc9",
   "metadata": {},
   "outputs": [
    {
     "data": {
      "text/plain": [
       "married w/ dependants         21740200\n",
       "single adult                   7738508\n",
       "extended fam w/ dependants     1480979\n",
       "Name: household, dtype: int64"
      ]
     },
     "execution_count": 26,
     "metadata": {},
     "output_type": "execute_result"
    }
   ],
   "source": [
    "df.loc[(df['fam_status'] == 'divorced/widowed') & (df['num_dependants'] == 0) | (df['fam_status'] == 'single') & (df['num_dependants'] == 0), 'household'] = 'single adult'\n",
    "df.loc[(df['fam_status'] == 'married') & (df['num_dependants'] <= 3), 'household'] = 'married w/ dependants'\n",
    "df.loc[(df['fam_status'] == 'living with parents and siblings') & (df['num_dependants'] <= 3), 'household'] = 'extended fam w/ dependants'\n",
    "df['household'].value_counts()"
   ]
  },
  {
   "cell_type": "code",
   "execution_count": 27,
   "id": "049ef334",
   "metadata": {},
   "outputs": [],
   "source": [
    "crosstab_age_household = pd.crosstab(df['age_category'], df['household'], dropna = False)"
   ]
  },
  {
   "cell_type": "code",
   "execution_count": 28,
   "id": "34c6af13",
   "metadata": {},
   "outputs": [
    {
     "data": {
      "text/html": [
       "<div>\n",
       "<style scoped>\n",
       "    .dataframe tbody tr th:only-of-type {\n",
       "        vertical-align: middle;\n",
       "    }\n",
       "\n",
       "    .dataframe tbody tr th {\n",
       "        vertical-align: top;\n",
       "    }\n",
       "\n",
       "    .dataframe thead th {\n",
       "        text-align: right;\n",
       "    }\n",
       "</style>\n",
       "<table border=\"1\" class=\"dataframe\">\n",
       "  <thead>\n",
       "    <tr style=\"text-align: right;\">\n",
       "      <th>household</th>\n",
       "      <th>extended fam w/ dependants</th>\n",
       "      <th>married w/ dependants</th>\n",
       "      <th>single adult</th>\n",
       "    </tr>\n",
       "    <tr>\n",
       "      <th>age_category</th>\n",
       "      <th></th>\n",
       "      <th></th>\n",
       "      <th></th>\n",
       "    </tr>\n",
       "  </thead>\n",
       "  <tbody>\n",
       "    <tr>\n",
       "      <th>middle aged adult</th>\n",
       "      <td>0</td>\n",
       "      <td>9045278</td>\n",
       "      <td>3056702</td>\n",
       "    </tr>\n",
       "    <tr>\n",
       "      <th>senior adult</th>\n",
       "      <td>0</td>\n",
       "      <td>6172663</td>\n",
       "      <td>2021604</td>\n",
       "    </tr>\n",
       "    <tr>\n",
       "      <th>young adult</th>\n",
       "      <td>1480979</td>\n",
       "      <td>6522259</td>\n",
       "      <td>2660202</td>\n",
       "    </tr>\n",
       "  </tbody>\n",
       "</table>\n",
       "</div>"
      ],
      "text/plain": [
       "household          extended fam w/ dependants  married w/ dependants  \\\n",
       "age_category                                                           \n",
       "middle aged adult                           0                9045278   \n",
       "senior adult                                0                6172663   \n",
       "young adult                           1480979                6522259   \n",
       "\n",
       "household          single adult  \n",
       "age_category                     \n",
       "middle aged adult       3056702  \n",
       "senior adult            2021604  \n",
       "young adult             2660202  "
      ]
     },
     "execution_count": 28,
     "metadata": {},
     "output_type": "execute_result"
    }
   ],
   "source": [
    "crosstab_age_household"
   ]
  },
  {
   "cell_type": "markdown",
   "id": "a5a22031",
   "metadata": {},
   "source": [
    "The above cross tab shows that those living at home with family and dependants are all young adults. There is a higher population of people who are middle aged with dependants than any other category. "
   ]
  },
  {
   "cell_type": "markdown",
   "id": "cd245363",
   "metadata": {},
   "source": [
    "### 5b3. Profiling Income"
   ]
  },
  {
   "cell_type": "code",
   "execution_count": 29,
   "id": "baf4dcc3",
   "metadata": {},
   "outputs": [
    {
     "data": {
      "text/plain": [
       "count    3.095969e+07\n",
       "mean     9.965502e+04\n",
       "std      4.309143e+04\n",
       "min      2.590300e+04\n",
       "25%      6.728600e+04\n",
       "50%      9.676100e+04\n",
       "75%      1.280810e+05\n",
       "max      5.939010e+05\n",
       "Name: income, dtype: float64"
      ]
     },
     "execution_count": 29,
     "metadata": {},
     "output_type": "execute_result"
    }
   ],
   "source": [
    "df['income'].describe()"
   ]
  },
  {
   "cell_type": "code",
   "execution_count": 30,
   "id": "6a22f223",
   "metadata": {},
   "outputs": [
    {
     "data": {
      "text/plain": [
       "96761.0"
      ]
     },
     "execution_count": 30,
     "metadata": {},
     "output_type": "execute_result"
    }
   ],
   "source": [
    "# Checking the median income to compare it to the average. \n",
    "\n",
    "df['income'].median()"
   ]
  },
  {
   "cell_type": "markdown",
   "id": "50898daa",
   "metadata": {},
   "source": [
    "Minimun income is 25,903 and the max is 593,901. Median and mean are very close together indicating there arent too many high outliers that would casue the average to be off. I will create 3 categories to sub divide the incomes. <br>\n",
    "Low income = 25,000 - 99,000 <br>\n",
    "Medium income = 100,000 - 174,000 <br>\n",
    "High income = 175,000 +"
   ]
  },
  {
   "cell_type": "code",
   "execution_count": 31,
   "id": "7154b5d3",
   "metadata": {
    "scrolled": true
   },
   "outputs": [
    {
     "data": {
      "text/plain": [
       "low income       16756899\n",
       "medium income    13903464\n",
       "high income        299324\n",
       "Name: income_flag, dtype: int64"
      ]
     },
     "execution_count": 31,
     "metadata": {},
     "output_type": "execute_result"
    }
   ],
   "source": [
    "#creating and income flag for low, medium, and high income households.\n",
    "\n",
    "df.loc[(df['income'] >= 25000) & (df['income'] <100000), 'income_flag'] = 'low income'\n",
    "df.loc[(df['income'] >= 100000) & (df['income'] <175000), 'income_flag'] = 'medium income'\n",
    "df.loc[df['income'] >= 175000, 'income_flag'] = 'high income'\n",
    "df['income_flag'].value_counts()"
   ]
  },
  {
   "cell_type": "markdown",
   "id": "288249a2",
   "metadata": {},
   "source": [
    "### 5c. Profiling Departments"
   ]
  },
  {
   "cell_type": "code",
   "execution_count": 32,
   "id": "47b0bf35",
   "metadata": {},
   "outputs": [
    {
     "data": {
      "text/html": [
       "<div>\n",
       "<style scoped>\n",
       "    .dataframe tbody tr th:only-of-type {\n",
       "        vertical-align: middle;\n",
       "    }\n",
       "\n",
       "    .dataframe tbody tr th {\n",
       "        vertical-align: top;\n",
       "    }\n",
       "\n",
       "    .dataframe thead th {\n",
       "        text-align: right;\n",
       "    }\n",
       "</style>\n",
       "<table border=\"1\" class=\"dataframe\">\n",
       "  <thead>\n",
       "    <tr style=\"text-align: right;\">\n",
       "      <th></th>\n",
       "      <th>Unnamed: 0</th>\n",
       "      <th>department</th>\n",
       "    </tr>\n",
       "  </thead>\n",
       "  <tbody>\n",
       "    <tr>\n",
       "      <th>0</th>\n",
       "      <td>1</td>\n",
       "      <td>frozen</td>\n",
       "    </tr>\n",
       "    <tr>\n",
       "      <th>1</th>\n",
       "      <td>2</td>\n",
       "      <td>other</td>\n",
       "    </tr>\n",
       "    <tr>\n",
       "      <th>2</th>\n",
       "      <td>3</td>\n",
       "      <td>bakery</td>\n",
       "    </tr>\n",
       "    <tr>\n",
       "      <th>3</th>\n",
       "      <td>4</td>\n",
       "      <td>produce</td>\n",
       "    </tr>\n",
       "    <tr>\n",
       "      <th>4</th>\n",
       "      <td>5</td>\n",
       "      <td>alcohol</td>\n",
       "    </tr>\n",
       "    <tr>\n",
       "      <th>5</th>\n",
       "      <td>6</td>\n",
       "      <td>international</td>\n",
       "    </tr>\n",
       "    <tr>\n",
       "      <th>6</th>\n",
       "      <td>7</td>\n",
       "      <td>beverages</td>\n",
       "    </tr>\n",
       "    <tr>\n",
       "      <th>7</th>\n",
       "      <td>8</td>\n",
       "      <td>pets</td>\n",
       "    </tr>\n",
       "    <tr>\n",
       "      <th>8</th>\n",
       "      <td>9</td>\n",
       "      <td>dry goods pasta</td>\n",
       "    </tr>\n",
       "    <tr>\n",
       "      <th>9</th>\n",
       "      <td>10</td>\n",
       "      <td>bulk</td>\n",
       "    </tr>\n",
       "    <tr>\n",
       "      <th>10</th>\n",
       "      <td>11</td>\n",
       "      <td>personal care</td>\n",
       "    </tr>\n",
       "    <tr>\n",
       "      <th>11</th>\n",
       "      <td>12</td>\n",
       "      <td>meat seafood</td>\n",
       "    </tr>\n",
       "    <tr>\n",
       "      <th>12</th>\n",
       "      <td>13</td>\n",
       "      <td>pantry</td>\n",
       "    </tr>\n",
       "    <tr>\n",
       "      <th>13</th>\n",
       "      <td>14</td>\n",
       "      <td>breakfast</td>\n",
       "    </tr>\n",
       "    <tr>\n",
       "      <th>14</th>\n",
       "      <td>15</td>\n",
       "      <td>canned goods</td>\n",
       "    </tr>\n",
       "    <tr>\n",
       "      <th>15</th>\n",
       "      <td>16</td>\n",
       "      <td>dairy eggs</td>\n",
       "    </tr>\n",
       "    <tr>\n",
       "      <th>16</th>\n",
       "      <td>17</td>\n",
       "      <td>household</td>\n",
       "    </tr>\n",
       "    <tr>\n",
       "      <th>17</th>\n",
       "      <td>18</td>\n",
       "      <td>babies</td>\n",
       "    </tr>\n",
       "    <tr>\n",
       "      <th>18</th>\n",
       "      <td>19</td>\n",
       "      <td>snacks</td>\n",
       "    </tr>\n",
       "    <tr>\n",
       "      <th>19</th>\n",
       "      <td>20</td>\n",
       "      <td>deli</td>\n",
       "    </tr>\n",
       "    <tr>\n",
       "      <th>20</th>\n",
       "      <td>21</td>\n",
       "      <td>missing</td>\n",
       "    </tr>\n",
       "  </tbody>\n",
       "</table>\n",
       "</div>"
      ],
      "text/plain": [
       "    Unnamed: 0       department\n",
       "0            1           frozen\n",
       "1            2            other\n",
       "2            3           bakery\n",
       "3            4          produce\n",
       "4            5          alcohol\n",
       "5            6    international\n",
       "6            7        beverages\n",
       "7            8             pets\n",
       "8            9  dry goods pasta\n",
       "9           10             bulk\n",
       "10          11    personal care\n",
       "11          12     meat seafood\n",
       "12          13           pantry\n",
       "13          14        breakfast\n",
       "14          15     canned goods\n",
       "15          16       dairy eggs\n",
       "16          17        household\n",
       "17          18           babies\n",
       "18          19           snacks\n",
       "19          20             deli\n",
       "20          21          missing"
      ]
     },
     "execution_count": 32,
     "metadata": {},
     "output_type": "execute_result"
    }
   ],
   "source": [
    "# Recalling the depatments data frame\n",
    "\n",
    "dept_df"
   ]
  },
  {
   "cell_type": "code",
   "execution_count": 33,
   "id": "192d1f53",
   "metadata": {},
   "outputs": [],
   "source": [
    "# Renaming index column to a department_id\n",
    "\n",
    "dept_df.rename(columns= { 'Unnamed: 0' : 'department_id'}, inplace=True)"
   ]
  },
  {
   "cell_type": "code",
   "execution_count": 34,
   "id": "a6e2ad32",
   "metadata": {},
   "outputs": [
    {
     "data": {
      "text/html": [
       "<div>\n",
       "<style scoped>\n",
       "    .dataframe tbody tr th:only-of-type {\n",
       "        vertical-align: middle;\n",
       "    }\n",
       "\n",
       "    .dataframe tbody tr th {\n",
       "        vertical-align: top;\n",
       "    }\n",
       "\n",
       "    .dataframe thead th {\n",
       "        text-align: right;\n",
       "    }\n",
       "</style>\n",
       "<table border=\"1\" class=\"dataframe\">\n",
       "  <thead>\n",
       "    <tr style=\"text-align: right;\">\n",
       "      <th></th>\n",
       "      <th>department_id</th>\n",
       "      <th>department</th>\n",
       "    </tr>\n",
       "  </thead>\n",
       "  <tbody>\n",
       "    <tr>\n",
       "      <th>0</th>\n",
       "      <td>1</td>\n",
       "      <td>frozen</td>\n",
       "    </tr>\n",
       "    <tr>\n",
       "      <th>1</th>\n",
       "      <td>2</td>\n",
       "      <td>other</td>\n",
       "    </tr>\n",
       "    <tr>\n",
       "      <th>2</th>\n",
       "      <td>3</td>\n",
       "      <td>bakery</td>\n",
       "    </tr>\n",
       "    <tr>\n",
       "      <th>3</th>\n",
       "      <td>4</td>\n",
       "      <td>produce</td>\n",
       "    </tr>\n",
       "    <tr>\n",
       "      <th>4</th>\n",
       "      <td>5</td>\n",
       "      <td>alcohol</td>\n",
       "    </tr>\n",
       "    <tr>\n",
       "      <th>5</th>\n",
       "      <td>6</td>\n",
       "      <td>international</td>\n",
       "    </tr>\n",
       "    <tr>\n",
       "      <th>6</th>\n",
       "      <td>7</td>\n",
       "      <td>beverages</td>\n",
       "    </tr>\n",
       "    <tr>\n",
       "      <th>7</th>\n",
       "      <td>8</td>\n",
       "      <td>pets</td>\n",
       "    </tr>\n",
       "    <tr>\n",
       "      <th>8</th>\n",
       "      <td>9</td>\n",
       "      <td>dry goods pasta</td>\n",
       "    </tr>\n",
       "    <tr>\n",
       "      <th>9</th>\n",
       "      <td>10</td>\n",
       "      <td>bulk</td>\n",
       "    </tr>\n",
       "    <tr>\n",
       "      <th>10</th>\n",
       "      <td>11</td>\n",
       "      <td>personal care</td>\n",
       "    </tr>\n",
       "    <tr>\n",
       "      <th>11</th>\n",
       "      <td>12</td>\n",
       "      <td>meat seafood</td>\n",
       "    </tr>\n",
       "    <tr>\n",
       "      <th>12</th>\n",
       "      <td>13</td>\n",
       "      <td>pantry</td>\n",
       "    </tr>\n",
       "    <tr>\n",
       "      <th>13</th>\n",
       "      <td>14</td>\n",
       "      <td>breakfast</td>\n",
       "    </tr>\n",
       "    <tr>\n",
       "      <th>14</th>\n",
       "      <td>15</td>\n",
       "      <td>canned goods</td>\n",
       "    </tr>\n",
       "    <tr>\n",
       "      <th>15</th>\n",
       "      <td>16</td>\n",
       "      <td>dairy eggs</td>\n",
       "    </tr>\n",
       "    <tr>\n",
       "      <th>16</th>\n",
       "      <td>17</td>\n",
       "      <td>household</td>\n",
       "    </tr>\n",
       "    <tr>\n",
       "      <th>17</th>\n",
       "      <td>18</td>\n",
       "      <td>babies</td>\n",
       "    </tr>\n",
       "    <tr>\n",
       "      <th>18</th>\n",
       "      <td>19</td>\n",
       "      <td>snacks</td>\n",
       "    </tr>\n",
       "    <tr>\n",
       "      <th>19</th>\n",
       "      <td>20</td>\n",
       "      <td>deli</td>\n",
       "    </tr>\n",
       "    <tr>\n",
       "      <th>20</th>\n",
       "      <td>21</td>\n",
       "      <td>missing</td>\n",
       "    </tr>\n",
       "  </tbody>\n",
       "</table>\n",
       "</div>"
      ],
      "text/plain": [
       "    department_id       department\n",
       "0               1           frozen\n",
       "1               2            other\n",
       "2               3           bakery\n",
       "3               4          produce\n",
       "4               5          alcohol\n",
       "5               6    international\n",
       "6               7        beverages\n",
       "7               8             pets\n",
       "8               9  dry goods pasta\n",
       "9              10             bulk\n",
       "10             11    personal care\n",
       "11             12     meat seafood\n",
       "12             13           pantry\n",
       "13             14        breakfast\n",
       "14             15     canned goods\n",
       "15             16       dairy eggs\n",
       "16             17        household\n",
       "17             18           babies\n",
       "18             19           snacks\n",
       "19             20             deli\n",
       "20             21          missing"
      ]
     },
     "execution_count": 34,
     "metadata": {},
     "output_type": "execute_result"
    }
   ],
   "source": [
    "dept_df"
   ]
  },
  {
   "cell_type": "code",
   "execution_count": 35,
   "id": "4e166f31",
   "metadata": {},
   "outputs": [],
   "source": [
    "# Pairing 'department_id' and 'department' with zip() function to create a dictionary\n",
    "\n",
    "dept_map=dict(zip(dept_df[\"department_id\"], dept_df[\"department\"]))"
   ]
  },
  {
   "cell_type": "code",
   "execution_count": 36,
   "id": "5d4d98c1",
   "metadata": {},
   "outputs": [
    {
     "data": {
      "text/plain": [
       "{1: 'frozen',\n",
       " 2: 'other',\n",
       " 3: 'bakery',\n",
       " 4: 'produce',\n",
       " 5: 'alcohol',\n",
       " 6: 'international',\n",
       " 7: 'beverages',\n",
       " 8: 'pets',\n",
       " 9: 'dry goods pasta',\n",
       " 10: 'bulk',\n",
       " 11: 'personal care',\n",
       " 12: 'meat seafood',\n",
       " 13: 'pantry',\n",
       " 14: 'breakfast',\n",
       " 15: 'canned goods',\n",
       " 16: 'dairy eggs',\n",
       " 17: 'household',\n",
       " 18: 'babies',\n",
       " 19: 'snacks',\n",
       " 20: 'deli',\n",
       " 21: 'missing'}"
      ]
     },
     "execution_count": 36,
     "metadata": {},
     "output_type": "execute_result"
    }
   ],
   "source": [
    "dept_map"
   ]
  },
  {
   "cell_type": "code",
   "execution_count": 37,
   "id": "11314fda",
   "metadata": {},
   "outputs": [],
   "source": [
    "# Mapping customers to department df by the map() function and department dictionary(dept_map)\n",
    "\n",
    "df['department'] = df['department_id'].map(dept_map)"
   ]
  },
  {
   "cell_type": "code",
   "execution_count": 38,
   "id": "b68c97e0",
   "metadata": {},
   "outputs": [
    {
     "data": {
      "text/html": [
       "<div>\n",
       "<style scoped>\n",
       "    .dataframe tbody tr th:only-of-type {\n",
       "        vertical-align: middle;\n",
       "    }\n",
       "\n",
       "    .dataframe tbody tr th {\n",
       "        vertical-align: top;\n",
       "    }\n",
       "\n",
       "    .dataframe thead th {\n",
       "        text-align: right;\n",
       "    }\n",
       "</style>\n",
       "<table border=\"1\" class=\"dataframe\">\n",
       "  <thead>\n",
       "    <tr style=\"text-align: right;\">\n",
       "      <th></th>\n",
       "      <th>order_id</th>\n",
       "      <th>user_id</th>\n",
       "      <th>order_number</th>\n",
       "      <th>order_dow</th>\n",
       "      <th>order_hour_of_day</th>\n",
       "      <th>days_since_prior_order</th>\n",
       "      <th>product_id</th>\n",
       "      <th>add_to_cart_order</th>\n",
       "      <th>reordered</th>\n",
       "      <th>product_name</th>\n",
       "      <th>...</th>\n",
       "      <th>num_dependants</th>\n",
       "      <th>fam_status</th>\n",
       "      <th>income</th>\n",
       "      <th>region</th>\n",
       "      <th>exclusion_flag</th>\n",
       "      <th>age_category</th>\n",
       "      <th>family_size</th>\n",
       "      <th>household</th>\n",
       "      <th>income_flag</th>\n",
       "      <th>department</th>\n",
       "    </tr>\n",
       "  </thead>\n",
       "  <tbody>\n",
       "    <tr>\n",
       "      <th>0</th>\n",
       "      <td>2539329.0</td>\n",
       "      <td>1.0</td>\n",
       "      <td>1.0</td>\n",
       "      <td>2.0</td>\n",
       "      <td>8.0</td>\n",
       "      <td>11.114836</td>\n",
       "      <td>196.0</td>\n",
       "      <td>1.0</td>\n",
       "      <td>0.0</td>\n",
       "      <td>Soda</td>\n",
       "      <td>...</td>\n",
       "      <td>3.0</td>\n",
       "      <td>married</td>\n",
       "      <td>40423.0</td>\n",
       "      <td>South</td>\n",
       "      <td>high_activity</td>\n",
       "      <td>young adult</td>\n",
       "      <td>large</td>\n",
       "      <td>married w/ dependants</td>\n",
       "      <td>low income</td>\n",
       "      <td>beverages</td>\n",
       "    </tr>\n",
       "    <tr>\n",
       "      <th>1</th>\n",
       "      <td>2398795.0</td>\n",
       "      <td>1.0</td>\n",
       "      <td>2.0</td>\n",
       "      <td>3.0</td>\n",
       "      <td>7.0</td>\n",
       "      <td>15.000000</td>\n",
       "      <td>196.0</td>\n",
       "      <td>1.0</td>\n",
       "      <td>1.0</td>\n",
       "      <td>Soda</td>\n",
       "      <td>...</td>\n",
       "      <td>3.0</td>\n",
       "      <td>married</td>\n",
       "      <td>40423.0</td>\n",
       "      <td>South</td>\n",
       "      <td>high_activity</td>\n",
       "      <td>young adult</td>\n",
       "      <td>large</td>\n",
       "      <td>married w/ dependants</td>\n",
       "      <td>low income</td>\n",
       "      <td>beverages</td>\n",
       "    </tr>\n",
       "    <tr>\n",
       "      <th>2</th>\n",
       "      <td>473747.0</td>\n",
       "      <td>1.0</td>\n",
       "      <td>3.0</td>\n",
       "      <td>3.0</td>\n",
       "      <td>12.0</td>\n",
       "      <td>21.000000</td>\n",
       "      <td>196.0</td>\n",
       "      <td>1.0</td>\n",
       "      <td>1.0</td>\n",
       "      <td>Soda</td>\n",
       "      <td>...</td>\n",
       "      <td>3.0</td>\n",
       "      <td>married</td>\n",
       "      <td>40423.0</td>\n",
       "      <td>South</td>\n",
       "      <td>high_activity</td>\n",
       "      <td>young adult</td>\n",
       "      <td>large</td>\n",
       "      <td>married w/ dependants</td>\n",
       "      <td>low income</td>\n",
       "      <td>beverages</td>\n",
       "    </tr>\n",
       "    <tr>\n",
       "      <th>3</th>\n",
       "      <td>2254736.0</td>\n",
       "      <td>1.0</td>\n",
       "      <td>4.0</td>\n",
       "      <td>4.0</td>\n",
       "      <td>7.0</td>\n",
       "      <td>29.000000</td>\n",
       "      <td>196.0</td>\n",
       "      <td>1.0</td>\n",
       "      <td>1.0</td>\n",
       "      <td>Soda</td>\n",
       "      <td>...</td>\n",
       "      <td>3.0</td>\n",
       "      <td>married</td>\n",
       "      <td>40423.0</td>\n",
       "      <td>South</td>\n",
       "      <td>high_activity</td>\n",
       "      <td>young adult</td>\n",
       "      <td>large</td>\n",
       "      <td>married w/ dependants</td>\n",
       "      <td>low income</td>\n",
       "      <td>beverages</td>\n",
       "    </tr>\n",
       "    <tr>\n",
       "      <th>4</th>\n",
       "      <td>431534.0</td>\n",
       "      <td>1.0</td>\n",
       "      <td>5.0</td>\n",
       "      <td>4.0</td>\n",
       "      <td>15.0</td>\n",
       "      <td>28.000000</td>\n",
       "      <td>196.0</td>\n",
       "      <td>1.0</td>\n",
       "      <td>1.0</td>\n",
       "      <td>Soda</td>\n",
       "      <td>...</td>\n",
       "      <td>3.0</td>\n",
       "      <td>married</td>\n",
       "      <td>40423.0</td>\n",
       "      <td>South</td>\n",
       "      <td>high_activity</td>\n",
       "      <td>young adult</td>\n",
       "      <td>large</td>\n",
       "      <td>married w/ dependants</td>\n",
       "      <td>low income</td>\n",
       "      <td>beverages</td>\n",
       "    </tr>\n",
       "  </tbody>\n",
       "</table>\n",
       "<p>5 rows × 37 columns</p>\n",
       "</div>"
      ],
      "text/plain": [
       "    order_id  user_id  order_number  order_dow  order_hour_of_day  \\\n",
       "0  2539329.0      1.0           1.0        2.0                8.0   \n",
       "1  2398795.0      1.0           2.0        3.0                7.0   \n",
       "2   473747.0      1.0           3.0        3.0               12.0   \n",
       "3  2254736.0      1.0           4.0        4.0                7.0   \n",
       "4   431534.0      1.0           5.0        4.0               15.0   \n",
       "\n",
       "   days_since_prior_order  product_id  add_to_cart_order  reordered  \\\n",
       "0               11.114836       196.0                1.0        0.0   \n",
       "1               15.000000       196.0                1.0        1.0   \n",
       "2               21.000000       196.0                1.0        1.0   \n",
       "3               29.000000       196.0                1.0        1.0   \n",
       "4               28.000000       196.0                1.0        1.0   \n",
       "\n",
       "  product_name  ...  num_dependants  fam_status   income region  \\\n",
       "0         Soda  ...             3.0     married  40423.0  South   \n",
       "1         Soda  ...             3.0     married  40423.0  South   \n",
       "2         Soda  ...             3.0     married  40423.0  South   \n",
       "3         Soda  ...             3.0     married  40423.0  South   \n",
       "4         Soda  ...             3.0     married  40423.0  South   \n",
       "\n",
       "  exclusion_flag age_category family_size              household income_flag  \\\n",
       "0  high_activity  young adult       large  married w/ dependants  low income   \n",
       "1  high_activity  young adult       large  married w/ dependants  low income   \n",
       "2  high_activity  young adult       large  married w/ dependants  low income   \n",
       "3  high_activity  young adult       large  married w/ dependants  low income   \n",
       "4  high_activity  young adult       large  married w/ dependants  low income   \n",
       "\n",
       "   department  \n",
       "0   beverages  \n",
       "1   beverages  \n",
       "2   beverages  \n",
       "3   beverages  \n",
       "4   beverages  \n",
       "\n",
       "[5 rows x 37 columns]"
      ]
     },
     "execution_count": 38,
     "metadata": {},
     "output_type": "execute_result"
    }
   ],
   "source": [
    "#checking added column\n",
    "\n",
    "df.head()"
   ]
  },
  {
   "cell_type": "code",
   "execution_count": 39,
   "id": "ea5085dd",
   "metadata": {},
   "outputs": [
    {
     "data": {
      "text/plain": [
       "produce            9079273\n",
       "dairy eggs         5172305\n",
       "snacks             2766406\n",
       "beverages          2571901\n",
       "frozen             2121731\n",
       "pantry             1782705\n",
       "bakery             1120828\n",
       "canned goods       1012074\n",
       "deli               1003834\n",
       "dry goods pasta     822136\n",
       "household           699857\n",
       "meat seafood        674781\n",
       "breakfast           670850\n",
       "personal care       424306\n",
       "babies              410392\n",
       "international       255991\n",
       "alcohol             144627\n",
       "pets                 93060\n",
       "missing              64768\n",
       "other                34411\n",
       "bulk                 33451\n",
       "Name: department, dtype: int64"
      ]
     },
     "execution_count": 39,
     "metadata": {},
     "output_type": "execute_result"
    }
   ],
   "source": [
    "df['department'].value_counts(dropna = False)"
   ]
  },
  {
   "cell_type": "markdown",
   "id": "b8c84aff",
   "metadata": {},
   "source": [
    "Produce, dairy eggs, and snacks are the most frequent department sellers."
   ]
  },
  {
   "cell_type": "markdown",
   "id": "c6f96e04",
   "metadata": {},
   "source": [
    "### 5d. Behavioral Sementation"
   ]
  },
  {
   "cell_type": "markdown",
   "id": "8e8d2cac",
   "metadata": {},
   "source": [
    "### 5d1. Customers with Babies"
   ]
  },
  {
   "cell_type": "code",
   "execution_count": 40,
   "id": "a81eef7e",
   "metadata": {},
   "outputs": [
    {
     "data": {
      "text/plain": [
       "No     30549295\n",
       "Yes      410392\n",
       "Name: Customer with baby, dtype: int64"
      ]
     },
     "execution_count": 40,
     "metadata": {},
     "output_type": "execute_result"
    }
   ],
   "source": [
    "df.loc[df['department'] == 'babies', 'Customer with baby'] = 'Yes'\n",
    "df.loc[df['department'] != 'babies', 'Customer with baby'] = 'No'\n",
    "df['Customer with baby'].value_counts(dropna =False)"
   ]
  },
  {
   "cell_type": "code",
   "execution_count": 41,
   "id": "be5e5ff1",
   "metadata": {},
   "outputs": [],
   "source": [
    "crosstab_age_babies = pd.crosstab(df['age_category'], df['Customer with baby'], dropna = False)"
   ]
  },
  {
   "cell_type": "code",
   "execution_count": 42,
   "id": "c395d8c5",
   "metadata": {},
   "outputs": [
    {
     "data": {
      "text/html": [
       "<div>\n",
       "<style scoped>\n",
       "    .dataframe tbody tr th:only-of-type {\n",
       "        vertical-align: middle;\n",
       "    }\n",
       "\n",
       "    .dataframe tbody tr th {\n",
       "        vertical-align: top;\n",
       "    }\n",
       "\n",
       "    .dataframe thead th {\n",
       "        text-align: right;\n",
       "    }\n",
       "</style>\n",
       "<table border=\"1\" class=\"dataframe\">\n",
       "  <thead>\n",
       "    <tr style=\"text-align: right;\">\n",
       "      <th>Customer with baby</th>\n",
       "      <th>No</th>\n",
       "      <th>Yes</th>\n",
       "    </tr>\n",
       "    <tr>\n",
       "      <th>age_category</th>\n",
       "      <th></th>\n",
       "      <th></th>\n",
       "    </tr>\n",
       "  </thead>\n",
       "  <tbody>\n",
       "    <tr>\n",
       "      <th>middle aged adult</th>\n",
       "      <td>11939248</td>\n",
       "      <td>162732</td>\n",
       "    </tr>\n",
       "    <tr>\n",
       "      <th>senior adult</th>\n",
       "      <td>8088063</td>\n",
       "      <td>106204</td>\n",
       "    </tr>\n",
       "    <tr>\n",
       "      <th>young adult</th>\n",
       "      <td>10521984</td>\n",
       "      <td>141456</td>\n",
       "    </tr>\n",
       "  </tbody>\n",
       "</table>\n",
       "</div>"
      ],
      "text/plain": [
       "Customer with baby        No     Yes\n",
       "age_category                        \n",
       "middle aged adult   11939248  162732\n",
       "senior adult         8088063  106204\n",
       "young adult         10521984  141456"
      ]
     },
     "execution_count": 42,
     "metadata": {},
     "output_type": "execute_result"
    }
   ],
   "source": [
    "crosstab_age_babies"
   ]
  },
  {
   "cell_type": "markdown",
   "id": "e227ae4a",
   "metadata": {},
   "source": [
    "There is no real difference in age group that buys baby products. Middle aged adults buy the most, and they are the group with the most dependants."
   ]
  },
  {
   "cell_type": "markdown",
   "id": "ad7ec613",
   "metadata": {},
   "source": [
    "### 5d2. Order Time Habbits"
   ]
  },
  {
   "cell_type": "code",
   "execution_count": 43,
   "id": "b04e8a1f",
   "metadata": {},
   "outputs": [
    {
     "data": {
      "text/plain": [
       "10.0    2649337\n",
       "11.0    2614450\n",
       "14.0    2567517\n",
       "13.0    2538913\n",
       "15.0    2535562\n",
       "12.0    2495388\n",
       "16.0    2413244\n",
       "9.0     2363267\n",
       "17.0    1981993\n",
       "8.0     1658866\n",
       "18.0    1550914\n",
       "19.0    1193661\n",
       "20.0     930762\n",
       "7.0      863086\n",
       "21.0     763009\n",
       "22.0     606997\n",
       "23.0     384515\n",
       "6.0      280970\n",
       "0.0      208016\n",
       "1.0      109605\n",
       "5.0       84401\n",
       "2.0       65677\n",
       "4.0       50753\n",
       "3.0       48784\n",
       "Name: order_hour_of_day, dtype: int64"
      ]
     },
     "execution_count": 43,
     "metadata": {},
     "output_type": "execute_result"
    }
   ],
   "source": [
    "df['order_hour_of_day'].value_counts()"
   ]
  },
  {
   "cell_type": "markdown",
   "id": "6ab6a026",
   "metadata": {},
   "source": [
    "Breaking this down into 4 categories, morning, afternoon, night, and late night. Each being 6 hour time windows. "
   ]
  },
  {
   "cell_type": "code",
   "execution_count": 44,
   "id": "05e9145b",
   "metadata": {},
   "outputs": [
    {
     "data": {
      "text/plain": [
       "afternoon     14532617\n",
       "morning       10429976\n",
       "night          5429858\n",
       "late night      567236\n",
       "Name: order_time_habbits, dtype: int64"
      ]
     },
     "execution_count": 44,
     "metadata": {},
     "output_type": "execute_result"
    }
   ],
   "source": [
    "df.loc[(df['order_hour_of_day'] < 12) & (df['order_hour_of_day'] >= 6), 'order_time_habbits'] = 'morning'\n",
    "df.loc[(df['order_hour_of_day'] >= 12) & (df['order_hour_of_day'] < 18), 'order_time_habbits'] = 'afternoon'\n",
    "df.loc[(df['order_hour_of_day'] >= 18) & (df['order_hour_of_day'] <= 23), 'order_time_habbits'] = 'night'\n",
    "df.loc[(df['order_hour_of_day'] <= 5), 'order_time_habbits'] = 'late night'\n",
    "df['order_time_habbits'].value_counts()"
   ]
  },
  {
   "cell_type": "code",
   "execution_count": 45,
   "id": "ac1b4069",
   "metadata": {},
   "outputs": [],
   "source": [
    "crosstab_age_order_habbits = pd.crosstab(df['age_category'], df['order_time_habbits'], dropna = False)"
   ]
  },
  {
   "cell_type": "code",
   "execution_count": 46,
   "id": "8fd20363",
   "metadata": {},
   "outputs": [
    {
     "data": {
      "text/html": [
       "<div>\n",
       "<style scoped>\n",
       "    .dataframe tbody tr th:only-of-type {\n",
       "        vertical-align: middle;\n",
       "    }\n",
       "\n",
       "    .dataframe tbody tr th {\n",
       "        vertical-align: top;\n",
       "    }\n",
       "\n",
       "    .dataframe thead th {\n",
       "        text-align: right;\n",
       "    }\n",
       "</style>\n",
       "<table border=\"1\" class=\"dataframe\">\n",
       "  <thead>\n",
       "    <tr style=\"text-align: right;\">\n",
       "      <th>order_time_habbits</th>\n",
       "      <th>afternoon</th>\n",
       "      <th>late night</th>\n",
       "      <th>morning</th>\n",
       "      <th>night</th>\n",
       "    </tr>\n",
       "    <tr>\n",
       "      <th>age_category</th>\n",
       "      <th></th>\n",
       "      <th></th>\n",
       "      <th></th>\n",
       "      <th></th>\n",
       "    </tr>\n",
       "  </thead>\n",
       "  <tbody>\n",
       "    <tr>\n",
       "      <th>middle aged adult</th>\n",
       "      <td>5692150</td>\n",
       "      <td>218092</td>\n",
       "      <td>4067974</td>\n",
       "      <td>2123764</td>\n",
       "    </tr>\n",
       "    <tr>\n",
       "      <th>senior adult</th>\n",
       "      <td>3832761</td>\n",
       "      <td>149886</td>\n",
       "      <td>2764253</td>\n",
       "      <td>1447367</td>\n",
       "    </tr>\n",
       "    <tr>\n",
       "      <th>young adult</th>\n",
       "      <td>5007706</td>\n",
       "      <td>199258</td>\n",
       "      <td>3597749</td>\n",
       "      <td>1858727</td>\n",
       "    </tr>\n",
       "  </tbody>\n",
       "</table>\n",
       "</div>"
      ],
      "text/plain": [
       "order_time_habbits  afternoon  late night  morning    night\n",
       "age_category                                               \n",
       "middle aged adult     5692150      218092  4067974  2123764\n",
       "senior adult          3832761      149886  2764253  1447367\n",
       "young adult           5007706      199258  3597749  1858727"
      ]
     },
     "execution_count": 46,
     "metadata": {},
     "output_type": "execute_result"
    }
   ],
   "source": [
    "crosstab_age_order_habbits"
   ]
  },
  {
   "cell_type": "markdown",
   "id": "a12b11e8",
   "metadata": {},
   "source": [
    "Middle Aged adults do the most purchasing in the afternoon time window and order the most out of any age group in the morning. "
   ]
  },
  {
   "cell_type": "markdown",
   "id": "fd5bc2cc",
   "metadata": {},
   "source": [
    "### 6. Customer Profile Visualizations"
   ]
  },
  {
   "cell_type": "code",
   "execution_count": 47,
   "id": "bc4f9a60",
   "metadata": {},
   "outputs": [
    {
     "data": {
      "image/png": "[encoded data removed]",
      "text/plain": [
       "<Figure size 640x480 with 1 Axes>"
      ]
     },
     "metadata": {},
     "output_type": "display_data"
    }
   ],
   "source": [
    "# Bar Chart for age_category\n",
    "\n",
    "age_category_bar = df['age_category'].value_counts().plot.bar()"
   ]
  },
  {
   "cell_type": "markdown",
   "id": "b9ff18d7",
   "metadata": {},
   "source": [
    "Observations: Middle Aged group is your largest customer base."
   ]
  },
  {
   "cell_type": "code",
   "execution_count": 48,
   "id": "98f64ddc",
   "metadata": {},
   "outputs": [
    {
     "data": {
      "image/png": "[encoded data removed]",
      "text/plain": [
       "<Figure size 640x480 with 1 Axes>"
      ]
     },
     "metadata": {},
     "output_type": "display_data"
    }
   ],
   "source": [
    "# Household Bar Chart\n",
    "\n",
    "Household_bar = df['household'].value_counts().plot.bar()"
   ]
  },
  {
   "cell_type": "markdown",
   "id": "24dc4e6f",
   "metadata": {},
   "source": [
    "Observations: Married with dependants group is your largest customer base."
   ]
  },
  {
   "cell_type": "code",
   "execution_count": 49,
   "id": "389461ab",
   "metadata": {},
   "outputs": [
    {
     "data": {
      "image/png": "[encoded data removed]",
      "text/plain": [
       "<Figure size 640x480 with 1 Axes>"
      ]
     },
     "metadata": {},
     "output_type": "display_data"
    }
   ],
   "source": [
    "Department_bar = df['department'].value_counts().plot.bar()"
   ]
  },
  {
   "cell_type": "markdown",
   "id": "fd37e636",
   "metadata": {},
   "source": [
    "Observations: Produce, eggs/dairy, and snacks are you highest selling products."
   ]
  },
  {
   "cell_type": "code",
   "execution_count": 50,
   "id": "56542139",
   "metadata": {
    "scrolled": true
   },
   "outputs": [
    {
     "data": {
      "text/html": [
       "<div>\n",
       "<style scoped>\n",
       "    .dataframe tbody tr th:only-of-type {\n",
       "        vertical-align: middle;\n",
       "    }\n",
       "\n",
       "    .dataframe tbody tr th {\n",
       "        vertical-align: top;\n",
       "    }\n",
       "\n",
       "    .dataframe thead th {\n",
       "        text-align: right;\n",
       "    }\n",
       "</style>\n",
       "<table border=\"1\" class=\"dataframe\">\n",
       "  <thead>\n",
       "    <tr style=\"text-align: right;\">\n",
       "      <th>region</th>\n",
       "      <th>Midwest</th>\n",
       "      <th>Northeast</th>\n",
       "      <th>South</th>\n",
       "      <th>West</th>\n",
       "    </tr>\n",
       "    <tr>\n",
       "      <th>department</th>\n",
       "      <th></th>\n",
       "      <th></th>\n",
       "      <th></th>\n",
       "      <th></th>\n",
       "    </tr>\n",
       "  </thead>\n",
       "  <tbody>\n",
       "    <tr>\n",
       "      <th>alcohol</th>\n",
       "      <td>30436</td>\n",
       "      <td>25017</td>\n",
       "      <td>48813</td>\n",
       "      <td>36754</td>\n",
       "    </tr>\n",
       "    <tr>\n",
       "      <th>babies</th>\n",
       "      <td>87080</td>\n",
       "      <td>72712</td>\n",
       "      <td>139511</td>\n",
       "      <td>102428</td>\n",
       "    </tr>\n",
       "    <tr>\n",
       "      <th>bakery</th>\n",
       "      <td>240724</td>\n",
       "      <td>199300</td>\n",
       "      <td>371620</td>\n",
       "      <td>288155</td>\n",
       "    </tr>\n",
       "    <tr>\n",
       "      <th>beverages</th>\n",
       "      <td>549032</td>\n",
       "      <td>462929</td>\n",
       "      <td>859419</td>\n",
       "      <td>650574</td>\n",
       "    </tr>\n",
       "    <tr>\n",
       "      <th>breakfast</th>\n",
       "      <td>143762</td>\n",
       "      <td>117904</td>\n",
       "      <td>223172</td>\n",
       "      <td>173619</td>\n",
       "    </tr>\n",
       "    <tr>\n",
       "      <th>bulk</th>\n",
       "      <td>7353</td>\n",
       "      <td>5599</td>\n",
       "      <td>11180</td>\n",
       "      <td>8743</td>\n",
       "    </tr>\n",
       "    <tr>\n",
       "      <th>canned goods</th>\n",
       "      <td>217553</td>\n",
       "      <td>176936</td>\n",
       "      <td>337458</td>\n",
       "      <td>260221</td>\n",
       "    </tr>\n",
       "    <tr>\n",
       "      <th>dairy eggs</th>\n",
       "      <td>1109785</td>\n",
       "      <td>913813</td>\n",
       "      <td>1721319</td>\n",
       "      <td>1325890</td>\n",
       "    </tr>\n",
       "    <tr>\n",
       "      <th>deli</th>\n",
       "      <td>215704</td>\n",
       "      <td>178398</td>\n",
       "      <td>333620</td>\n",
       "      <td>257352</td>\n",
       "    </tr>\n",
       "    <tr>\n",
       "      <th>dry goods pasta</th>\n",
       "      <td>177664</td>\n",
       "      <td>143817</td>\n",
       "      <td>272813</td>\n",
       "      <td>212043</td>\n",
       "    </tr>\n",
       "    <tr>\n",
       "      <th>frozen</th>\n",
       "      <td>456933</td>\n",
       "      <td>370436</td>\n",
       "      <td>709906</td>\n",
       "      <td>543164</td>\n",
       "    </tr>\n",
       "    <tr>\n",
       "      <th>household</th>\n",
       "      <td>153106</td>\n",
       "      <td>124604</td>\n",
       "      <td>230061</td>\n",
       "      <td>178200</td>\n",
       "    </tr>\n",
       "    <tr>\n",
       "      <th>international</th>\n",
       "      <td>55614</td>\n",
       "      <td>44678</td>\n",
       "      <td>84649</td>\n",
       "      <td>65998</td>\n",
       "    </tr>\n",
       "    <tr>\n",
       "      <th>meat seafood</th>\n",
       "      <td>144579</td>\n",
       "      <td>118571</td>\n",
       "      <td>224120</td>\n",
       "      <td>173830</td>\n",
       "    </tr>\n",
       "    <tr>\n",
       "      <th>missing</th>\n",
       "      <td>14287</td>\n",
       "      <td>11512</td>\n",
       "      <td>21787</td>\n",
       "      <td>15906</td>\n",
       "    </tr>\n",
       "    <tr>\n",
       "      <th>other</th>\n",
       "      <td>7356</td>\n",
       "      <td>6268</td>\n",
       "      <td>11579</td>\n",
       "      <td>8581</td>\n",
       "    </tr>\n",
       "    <tr>\n",
       "      <th>pantry</th>\n",
       "      <td>385719</td>\n",
       "      <td>312731</td>\n",
       "      <td>591754</td>\n",
       "      <td>457886</td>\n",
       "    </tr>\n",
       "    <tr>\n",
       "      <th>personal care</th>\n",
       "      <td>92482</td>\n",
       "      <td>74765</td>\n",
       "      <td>142496</td>\n",
       "      <td>106647</td>\n",
       "    </tr>\n",
       "    <tr>\n",
       "      <th>pets</th>\n",
       "      <td>19343</td>\n",
       "      <td>17734</td>\n",
       "      <td>29909</td>\n",
       "      <td>24059</td>\n",
       "    </tr>\n",
       "    <tr>\n",
       "      <th>produce</th>\n",
       "      <td>1955850</td>\n",
       "      <td>1593004</td>\n",
       "      <td>3027476</td>\n",
       "      <td>2324678</td>\n",
       "    </tr>\n",
       "    <tr>\n",
       "      <th>snacks</th>\n",
       "      <td>591071</td>\n",
       "      <td>493154</td>\n",
       "      <td>916780</td>\n",
       "      <td>711329</td>\n",
       "    </tr>\n",
       "  </tbody>\n",
       "</table>\n",
       "</div>"
      ],
      "text/plain": [
       "region           Midwest  Northeast    South     West\n",
       "department                                           \n",
       "alcohol            30436      25017    48813    36754\n",
       "babies             87080      72712   139511   102428\n",
       "bakery            240724     199300   371620   288155\n",
       "beverages         549032     462929   859419   650574\n",
       "breakfast         143762     117904   223172   173619\n",
       "bulk                7353       5599    11180     8743\n",
       "canned goods      217553     176936   337458   260221\n",
       "dairy eggs       1109785     913813  1721319  1325890\n",
       "deli              215704     178398   333620   257352\n",
       "dry goods pasta   177664     143817   272813   212043\n",
       "frozen            456933     370436   709906   543164\n",
       "household         153106     124604   230061   178200\n",
       "international      55614      44678    84649    65998\n",
       "meat seafood      144579     118571   224120   173830\n",
       "missing            14287      11512    21787    15906\n",
       "other               7356       6268    11579     8581\n",
       "pantry            385719     312731   591754   457886\n",
       "personal care      92482      74765   142496   106647\n",
       "pets               19343      17734    29909    24059\n",
       "produce          1955850    1593004  3027476  2324678\n",
       "snacks            591071     493154   916780   711329"
      ]
     },
     "execution_count": 50,
     "metadata": {},
     "output_type": "execute_result"
    }
   ],
   "source": [
    "# creating a crosstab for department and region\n",
    "\n",
    "crosstab_dept_region = pd.crosstab (df['department'],df['region'], dropna = False)\n",
    "crosstab_dept_region"
   ]
  },
  {
   "cell_type": "code",
   "execution_count": 51,
   "id": "6c251f5b",
   "metadata": {
    "scrolled": true
   },
   "outputs": [
    {
     "data": {
      "image/png": "[encoded data removed]",
      "text/plain": [
       "<Figure size 640x480 with 1 Axes>"
      ]
     },
     "metadata": {},
     "output_type": "display_data"
    }
   ],
   "source": [
    "crosstab_dept_region_bar = crosstab_dept_region.plot.bar()"
   ]
  },
  {
   "cell_type": "markdown",
   "id": "ef3d8964",
   "metadata": {},
   "source": [
    "Observations: Produce, eggs/dairy, and snacks are you highest selling products in south region. Other High selling in that region are beverages, pantry, and frozen items."
   ]
  },
  {
   "cell_type": "code",
   "execution_count": 52,
   "id": "882e9d09",
   "metadata": {
    "scrolled": true
   },
   "outputs": [
    {
     "data": {
      "text/html": [
       "<div>\n",
       "<style scoped>\n",
       "    .dataframe tbody tr th:only-of-type {\n",
       "        vertical-align: middle;\n",
       "    }\n",
       "\n",
       "    .dataframe tbody tr th {\n",
       "        vertical-align: top;\n",
       "    }\n",
       "\n",
       "    .dataframe thead th {\n",
       "        text-align: right;\n",
       "    }\n",
       "</style>\n",
       "<table border=\"1\" class=\"dataframe\">\n",
       "  <thead>\n",
       "    <tr style=\"text-align: right;\">\n",
       "      <th>income_flag</th>\n",
       "      <th>high income</th>\n",
       "      <th>low income</th>\n",
       "      <th>medium income</th>\n",
       "    </tr>\n",
       "    <tr>\n",
       "      <th>region</th>\n",
       "      <th></th>\n",
       "      <th></th>\n",
       "      <th></th>\n",
       "    </tr>\n",
       "  </thead>\n",
       "  <tbody>\n",
       "    <tr>\n",
       "      <th>Midwest</th>\n",
       "      <td>70931</td>\n",
       "      <td>3529799</td>\n",
       "      <td>3054703</td>\n",
       "    </tr>\n",
       "    <tr>\n",
       "      <th>Northeast</th>\n",
       "      <td>47084</td>\n",
       "      <td>2948167</td>\n",
       "      <td>2468631</td>\n",
       "    </tr>\n",
       "    <tr>\n",
       "      <th>South</th>\n",
       "      <td>100207</td>\n",
       "      <td>5647111</td>\n",
       "      <td>4562124</td>\n",
       "    </tr>\n",
       "    <tr>\n",
       "      <th>West</th>\n",
       "      <td>76793</td>\n",
       "      <td>4300289</td>\n",
       "      <td>3548975</td>\n",
       "    </tr>\n",
       "  </tbody>\n",
       "</table>\n",
       "</div>"
      ],
      "text/plain": [
       "income_flag  high income  low income  medium income\n",
       "region                                             \n",
       "Midwest            70931     3529799        3054703\n",
       "Northeast          47084     2948167        2468631\n",
       "South             100207     5647111        4562124\n",
       "West               76793     4300289        3548975"
      ]
     },
     "execution_count": 52,
     "metadata": {},
     "output_type": "execute_result"
    }
   ],
   "source": [
    "# creating a crosstab for income and region\n",
    "\n",
    "crosstab_income_region = pd.crosstab (df['region'],df['income_flag'], dropna = False)\n",
    "crosstab_income_region"
   ]
  },
  {
   "cell_type": "code",
   "execution_count": 53,
   "id": "b97e4d20",
   "metadata": {},
   "outputs": [
    {
     "data": {
      "image/png": "[encoded data removed]",
      "text/plain": [
       "<Figure size 640x480 with 1 Axes>"
      ]
     },
     "metadata": {},
     "output_type": "display_data"
    }
   ],
   "source": [
    "crosstab_region_income_bar = crosstab_income_region.plot.bar(color = ['grey', 'orange', 'red'])"
   ]
  },
  {
   "cell_type": "markdown",
   "id": "9129e3cb",
   "metadata": {},
   "source": [
    "Observations: The South region has a larger low income population, while the midwest and northeast low and medium incomes are closer."
   ]
  },
  {
   "cell_type": "code",
   "execution_count": 54,
   "id": "53d27630",
   "metadata": {
    "scrolled": true
   },
   "outputs": [
    {
     "data": {
      "text/html": [
       "<div>\n",
       "<style scoped>\n",
       "    .dataframe tbody tr th:only-of-type {\n",
       "        vertical-align: middle;\n",
       "    }\n",
       "\n",
       "    .dataframe tbody tr th {\n",
       "        vertical-align: top;\n",
       "    }\n",
       "\n",
       "    .dataframe thead th {\n",
       "        text-align: right;\n",
       "    }\n",
       "</style>\n",
       "<table border=\"1\" class=\"dataframe\">\n",
       "  <thead>\n",
       "    <tr style=\"text-align: right;\">\n",
       "      <th>household</th>\n",
       "      <th>extended fam w/ dependants</th>\n",
       "      <th>married w/ dependants</th>\n",
       "      <th>single adult</th>\n",
       "    </tr>\n",
       "    <tr>\n",
       "      <th>region</th>\n",
       "      <th></th>\n",
       "      <th></th>\n",
       "      <th></th>\n",
       "    </tr>\n",
       "  </thead>\n",
       "  <tbody>\n",
       "    <tr>\n",
       "      <th>Midwest</th>\n",
       "      <td>322128</td>\n",
       "      <td>4670853</td>\n",
       "      <td>1662452</td>\n",
       "    </tr>\n",
       "    <tr>\n",
       "      <th>Northeast</th>\n",
       "      <td>256417</td>\n",
       "      <td>3853188</td>\n",
       "      <td>1354277</td>\n",
       "    </tr>\n",
       "    <tr>\n",
       "      <th>South</th>\n",
       "      <td>505356</td>\n",
       "      <td>7222574</td>\n",
       "      <td>2581512</td>\n",
       "    </tr>\n",
       "    <tr>\n",
       "      <th>West</th>\n",
       "      <td>367805</td>\n",
       "      <td>5578064</td>\n",
       "      <td>1980188</td>\n",
       "    </tr>\n",
       "  </tbody>\n",
       "</table>\n",
       "</div>"
      ],
      "text/plain": [
       "household  extended fam w/ dependants  married w/ dependants  single adult\n",
       "region                                                                    \n",
       "Midwest                        322128                4670853       1662452\n",
       "Northeast                      256417                3853188       1354277\n",
       "South                          505356                7222574       2581512\n",
       "West                           367805                5578064       1980188"
      ]
     },
     "execution_count": 54,
     "metadata": {},
     "output_type": "execute_result"
    }
   ],
   "source": [
    "# creating a crosstab for household and region\n",
    "\n",
    "crosstab_household_region = pd.crosstab (df['region'], df['household'], dropna = False)\n",
    "crosstab_household_region"
   ]
  },
  {
   "cell_type": "code",
   "execution_count": 55,
   "id": "3cdad8d2",
   "metadata": {},
   "outputs": [
    {
     "data": {
      "image/png": "[encoded data removed]",
      "text/plain": [
       "<Figure size 640x480 with 1 Axes>"
      ]
     },
     "metadata": {},
     "output_type": "display_data"
    }
   ],
   "source": [
    "crosstab_region_household_bar = crosstab_household_region.plot.bar(color = ['red', 'orange', 'grey'])"
   ]
  },
  {
   "cell_type": "markdown",
   "id": "27732125",
   "metadata": {},
   "source": [
    "Observations: Married w/ dependants are your main customer base in all four regions."
   ]
  },
  {
   "cell_type": "code",
   "execution_count": 56,
   "id": "fb18d594",
   "metadata": {},
   "outputs": [
    {
     "data": {
      "text/html": [
       "<div>\n",
       "<style scoped>\n",
       "    .dataframe tbody tr th:only-of-type {\n",
       "        vertical-align: middle;\n",
       "    }\n",
       "\n",
       "    .dataframe tbody tr th {\n",
       "        vertical-align: top;\n",
       "    }\n",
       "\n",
       "    .dataframe thead th {\n",
       "        text-align: right;\n",
       "    }\n",
       "</style>\n",
       "<table border=\"1\" class=\"dataframe\">\n",
       "  <thead>\n",
       "    <tr style=\"text-align: right;\">\n",
       "      <th>age_category</th>\n",
       "      <th>middle aged adult</th>\n",
       "      <th>senior adult</th>\n",
       "      <th>young adult</th>\n",
       "    </tr>\n",
       "    <tr>\n",
       "      <th>region</th>\n",
       "      <th></th>\n",
       "      <th></th>\n",
       "      <th></th>\n",
       "    </tr>\n",
       "  </thead>\n",
       "  <tbody>\n",
       "    <tr>\n",
       "      <th>Midwest</th>\n",
       "      <td>2634843</td>\n",
       "      <td>1751426</td>\n",
       "      <td>2269164</td>\n",
       "    </tr>\n",
       "    <tr>\n",
       "      <th>Northeast</th>\n",
       "      <td>2107762</td>\n",
       "      <td>1484610</td>\n",
       "      <td>1871510</td>\n",
       "    </tr>\n",
       "    <tr>\n",
       "      <th>South</th>\n",
       "      <td>3993815</td>\n",
       "      <td>2708062</td>\n",
       "      <td>3607565</td>\n",
       "    </tr>\n",
       "    <tr>\n",
       "      <th>West</th>\n",
       "      <td>3126407</td>\n",
       "      <td>2097867</td>\n",
       "      <td>2701783</td>\n",
       "    </tr>\n",
       "  </tbody>\n",
       "</table>\n",
       "</div>"
      ],
      "text/plain": [
       "age_category  middle aged adult  senior adult  young adult\n",
       "region                                                    \n",
       "Midwest                 2634843       1751426      2269164\n",
       "Northeast               2107762       1484610      1871510\n",
       "South                   3993815       2708062      3607565\n",
       "West                    3126407       2097867      2701783"
      ]
     },
     "execution_count": 56,
     "metadata": {},
     "output_type": "execute_result"
    }
   ],
   "source": [
    "# creating a crosstab for age_category and region\n",
    "\n",
    "crosstab_age_region = pd.crosstab (df['region'], df['age_category'], dropna = False)\n",
    "crosstab_age_region"
   ]
  },
  {
   "cell_type": "code",
   "execution_count": 57,
   "id": "7025c49e",
   "metadata": {},
   "outputs": [
    {
     "data": {
      "image/png": "[encoded data removed]",
      "text/plain": [
       "<Figure size 640x480 with 1 Axes>"
      ]
     },
     "metadata": {},
     "output_type": "display_data"
    }
   ],
   "source": [
    "crosstab_age_region_bar = crosstab_age_region.plot.bar(color = ['red', 'grey', 'orange'])"
   ]
  },
  {
   "cell_type": "markdown",
   "id": "98521002",
   "metadata": {},
   "source": [
    "Observations: Middle Aged Adult is your most common customer type in all four regions followed closely by young adults."
   ]
  },
  {
   "cell_type": "code",
   "execution_count": 58,
   "id": "f3669955",
   "metadata": {},
   "outputs": [
    {
     "data": {
      "text/html": [
       "<div>\n",
       "<style scoped>\n",
       "    .dataframe tbody tr th:only-of-type {\n",
       "        vertical-align: middle;\n",
       "    }\n",
       "\n",
       "    .dataframe tbody tr th {\n",
       "        vertical-align: top;\n",
       "    }\n",
       "\n",
       "    .dataframe thead th {\n",
       "        text-align: right;\n",
       "    }\n",
       "</style>\n",
       "<table border=\"1\" class=\"dataframe\">\n",
       "  <thead>\n",
       "    <tr style=\"text-align: right;\">\n",
       "      <th>Customer with baby</th>\n",
       "      <th>No</th>\n",
       "      <th>Yes</th>\n",
       "    </tr>\n",
       "    <tr>\n",
       "      <th>region</th>\n",
       "      <th></th>\n",
       "      <th></th>\n",
       "    </tr>\n",
       "  </thead>\n",
       "  <tbody>\n",
       "    <tr>\n",
       "      <th>Midwest</th>\n",
       "      <td>6568353</td>\n",
       "      <td>87080</td>\n",
       "    </tr>\n",
       "    <tr>\n",
       "      <th>Northeast</th>\n",
       "      <td>5391170</td>\n",
       "      <td>72712</td>\n",
       "    </tr>\n",
       "    <tr>\n",
       "      <th>South</th>\n",
       "      <td>10169931</td>\n",
       "      <td>139511</td>\n",
       "    </tr>\n",
       "    <tr>\n",
       "      <th>West</th>\n",
       "      <td>7823629</td>\n",
       "      <td>102428</td>\n",
       "    </tr>\n",
       "  </tbody>\n",
       "</table>\n",
       "</div>"
      ],
      "text/plain": [
       "Customer with baby        No     Yes\n",
       "region                              \n",
       "Midwest              6568353   87080\n",
       "Northeast            5391170   72712\n",
       "South               10169931  139511\n",
       "West                 7823629  102428"
      ]
     },
     "execution_count": 58,
     "metadata": {},
     "output_type": "execute_result"
    }
   ],
   "source": [
    "# creating a crosstab for customers with babies and region\n",
    "\n",
    "crosstab_baby_region = pd.crosstab (df['region'], df['Customer with baby'], dropna = False)\n",
    "crosstab_baby_region"
   ]
  },
  {
   "cell_type": "code",
   "execution_count": 59,
   "id": "d5c47995",
   "metadata": {},
   "outputs": [
    {
     "data": {
      "image/png": "[encoded data removed]",
      "text/plain": [
       "<Figure size 640x480 with 1 Axes>"
      ]
     },
     "metadata": {},
     "output_type": "display_data"
    }
   ],
   "source": [
    "crosstab_baby_region_bar = crosstab_baby_region.plot.bar()"
   ]
  },
  {
   "cell_type": "markdown",
   "id": "a3057916",
   "metadata": {},
   "source": [
    "Observation: There isnt much to show for this customer base. more customers in all regions don't have a baby."
   ]
  },
  {
   "cell_type": "code",
   "execution_count": 60,
   "id": "98565712",
   "metadata": {},
   "outputs": [
    {
     "data": {
      "image/png": "[encoded data removed]",
      "text/plain": [
       "<Figure size 640x480 with 1 Axes>"
      ]
     },
     "metadata": {},
     "output_type": "display_data"
    }
   ],
   "source": [
    "crosstab_age_order_habbits_bar  = crosstab_age_order_habbits.plot.bar()"
   ]
  },
  {
   "cell_type": "markdown",
   "id": "a2119d4c",
   "metadata": {},
   "source": [
    "Observation: Afternoon and morning are the busiest ordering times for all age categories. Late night is minimal in all age categories. "
   ]
  },
  {
   "cell_type": "code",
   "execution_count": 61,
   "id": "96fd7ad2",
   "metadata": {},
   "outputs": [
    {
     "data": {
      "text/html": [
       "<div>\n",
       "<style scoped>\n",
       "    .dataframe tbody tr th:only-of-type {\n",
       "        vertical-align: middle;\n",
       "    }\n",
       "\n",
       "    .dataframe tbody tr th {\n",
       "        vertical-align: top;\n",
       "    }\n",
       "\n",
       "    .dataframe thead th {\n",
       "        text-align: right;\n",
       "    }\n",
       "</style>\n",
       "<table border=\"1\" class=\"dataframe\">\n",
       "  <thead>\n",
       "    <tr style=\"text-align: right;\">\n",
       "      <th>order_time_habbits</th>\n",
       "      <th>afternoon</th>\n",
       "      <th>late night</th>\n",
       "      <th>morning</th>\n",
       "      <th>night</th>\n",
       "    </tr>\n",
       "    <tr>\n",
       "      <th>department</th>\n",
       "      <th></th>\n",
       "      <th></th>\n",
       "      <th></th>\n",
       "      <th></th>\n",
       "    </tr>\n",
       "  </thead>\n",
       "  <tbody>\n",
       "    <tr>\n",
       "      <th>alcohol</th>\n",
       "      <td>78928</td>\n",
       "      <td>1616</td>\n",
       "      <td>43257</td>\n",
       "      <td>20826</td>\n",
       "    </tr>\n",
       "    <tr>\n",
       "      <th>babies</th>\n",
       "      <td>178926</td>\n",
       "      <td>6085</td>\n",
       "      <td>146626</td>\n",
       "      <td>78755</td>\n",
       "    </tr>\n",
       "    <tr>\n",
       "      <th>bakery</th>\n",
       "      <td>532290</td>\n",
       "      <td>19341</td>\n",
       "      <td>378160</td>\n",
       "      <td>191037</td>\n",
       "    </tr>\n",
       "    <tr>\n",
       "      <th>beverages</th>\n",
       "      <td>1201018</td>\n",
       "      <td>48220</td>\n",
       "      <td>895348</td>\n",
       "      <td>427315</td>\n",
       "    </tr>\n",
       "    <tr>\n",
       "      <th>breakfast</th>\n",
       "      <td>302724</td>\n",
       "      <td>11531</td>\n",
       "      <td>239163</td>\n",
       "      <td>117432</td>\n",
       "    </tr>\n",
       "    <tr>\n",
       "      <th>bulk</th>\n",
       "      <td>15306</td>\n",
       "      <td>581</td>\n",
       "      <td>11474</td>\n",
       "      <td>6090</td>\n",
       "    </tr>\n",
       "    <tr>\n",
       "      <th>canned goods</th>\n",
       "      <td>488131</td>\n",
       "      <td>18807</td>\n",
       "      <td>331655</td>\n",
       "      <td>173481</td>\n",
       "    </tr>\n",
       "    <tr>\n",
       "      <th>dairy eggs</th>\n",
       "      <td>2381998</td>\n",
       "      <td>89242</td>\n",
       "      <td>1799703</td>\n",
       "      <td>901362</td>\n",
       "    </tr>\n",
       "    <tr>\n",
       "      <th>deli</th>\n",
       "      <td>480356</td>\n",
       "      <td>17967</td>\n",
       "      <td>330132</td>\n",
       "      <td>175379</td>\n",
       "    </tr>\n",
       "    <tr>\n",
       "      <th>dry goods pasta</th>\n",
       "      <td>398716</td>\n",
       "      <td>14787</td>\n",
       "      <td>261734</td>\n",
       "      <td>146899</td>\n",
       "    </tr>\n",
       "    <tr>\n",
       "      <th>frozen</th>\n",
       "      <td>1025432</td>\n",
       "      <td>42352</td>\n",
       "      <td>644658</td>\n",
       "      <td>409289</td>\n",
       "    </tr>\n",
       "    <tr>\n",
       "      <th>household</th>\n",
       "      <td>322254</td>\n",
       "      <td>14308</td>\n",
       "      <td>239920</td>\n",
       "      <td>123375</td>\n",
       "    </tr>\n",
       "    <tr>\n",
       "      <th>international</th>\n",
       "      <td>124900</td>\n",
       "      <td>4896</td>\n",
       "      <td>81843</td>\n",
       "      <td>44352</td>\n",
       "    </tr>\n",
       "    <tr>\n",
       "      <th>meat seafood</th>\n",
       "      <td>325436</td>\n",
       "      <td>12178</td>\n",
       "      <td>220179</td>\n",
       "      <td>116988</td>\n",
       "    </tr>\n",
       "    <tr>\n",
       "      <th>missing</th>\n",
       "      <td>30193</td>\n",
       "      <td>1416</td>\n",
       "      <td>21349</td>\n",
       "      <td>11810</td>\n",
       "    </tr>\n",
       "    <tr>\n",
       "      <th>other</th>\n",
       "      <td>16425</td>\n",
       "      <td>702</td>\n",
       "      <td>11095</td>\n",
       "      <td>6189</td>\n",
       "    </tr>\n",
       "    <tr>\n",
       "      <th>pantry</th>\n",
       "      <td>848241</td>\n",
       "      <td>34917</td>\n",
       "      <td>585761</td>\n",
       "      <td>313786</td>\n",
       "    </tr>\n",
       "    <tr>\n",
       "      <th>personal care</th>\n",
       "      <td>196867</td>\n",
       "      <td>9336</td>\n",
       "      <td>138330</td>\n",
       "      <td>79773</td>\n",
       "    </tr>\n",
       "    <tr>\n",
       "      <th>pets</th>\n",
       "      <td>45030</td>\n",
       "      <td>2128</td>\n",
       "      <td>28409</td>\n",
       "      <td>17493</td>\n",
       "    </tr>\n",
       "    <tr>\n",
       "      <th>produce</th>\n",
       "      <td>4240471</td>\n",
       "      <td>171721</td>\n",
       "      <td>3059958</td>\n",
       "      <td>1607123</td>\n",
       "    </tr>\n",
       "    <tr>\n",
       "      <th>snacks</th>\n",
       "      <td>1298975</td>\n",
       "      <td>45105</td>\n",
       "      <td>961222</td>\n",
       "      <td>461104</td>\n",
       "    </tr>\n",
       "  </tbody>\n",
       "</table>\n",
       "</div>"
      ],
      "text/plain": [
       "order_time_habbits  afternoon  late night  morning    night\n",
       "department                                                 \n",
       "alcohol                 78928        1616    43257    20826\n",
       "babies                 178926        6085   146626    78755\n",
       "bakery                 532290       19341   378160   191037\n",
       "beverages             1201018       48220   895348   427315\n",
       "breakfast              302724       11531   239163   117432\n",
       "bulk                    15306         581    11474     6090\n",
       "canned goods           488131       18807   331655   173481\n",
       "dairy eggs            2381998       89242  1799703   901362\n",
       "deli                   480356       17967   330132   175379\n",
       "dry goods pasta        398716       14787   261734   146899\n",
       "frozen                1025432       42352   644658   409289\n",
       "household              322254       14308   239920   123375\n",
       "international          124900        4896    81843    44352\n",
       "meat seafood           325436       12178   220179   116988\n",
       "missing                 30193        1416    21349    11810\n",
       "other                   16425         702    11095     6189\n",
       "pantry                 848241       34917   585761   313786\n",
       "personal care          196867        9336   138330    79773\n",
       "pets                    45030        2128    28409    17493\n",
       "produce               4240471      171721  3059958  1607123\n",
       "snacks                1298975       45105   961222   461104"
      ]
     },
     "execution_count": 61,
     "metadata": {},
     "output_type": "execute_result"
    }
   ],
   "source": [
    "# creating a crosstab for Order habbits with departments\n",
    "\n",
    "crosstab_habbits_dept = pd.crosstab (df['department'], df['order_time_habbits'], dropna = False)\n",
    "crosstab_habbits_dept"
   ]
  },
  {
   "cell_type": "code",
   "execution_count": 62,
   "id": "740a7783",
   "metadata": {},
   "outputs": [
    {
     "data": {
      "image/png": "[encoded data removed]",
      "text/plain": [
       "<Figure size 640x480 with 1 Axes>"
      ]
     },
     "metadata": {},
     "output_type": "display_data"
    }
   ],
   "source": [
    "crosstab_habbits_dept_bar  = crosstab_habbits_dept.plot.bar()"
   ]
  },
  {
   "cell_type": "markdown",
   "id": "6b877dfd",
   "metadata": {},
   "source": [
    "Observation: Your top three products are ordered in the afternoon and morning windows the most. "
   ]
  },
  {
   "cell_type": "code",
   "execution_count": 63,
   "id": "9cb27456",
   "metadata": {
    "scrolled": true
   },
   "outputs": [
    {
     "data": {
      "text/html": [
       "<div>\n",
       "<style scoped>\n",
       "    .dataframe tbody tr th:only-of-type {\n",
       "        vertical-align: middle;\n",
       "    }\n",
       "\n",
       "    .dataframe tbody tr th {\n",
       "        vertical-align: top;\n",
       "    }\n",
       "\n",
       "    .dataframe thead th {\n",
       "        text-align: right;\n",
       "    }\n",
       "</style>\n",
       "<table border=\"1\" class=\"dataframe\">\n",
       "  <thead>\n",
       "    <tr style=\"text-align: right;\">\n",
       "      <th>loyalty_flag</th>\n",
       "      <th>loyal_customer</th>\n",
       "      <th>new_customer</th>\n",
       "      <th>regular_customer</th>\n",
       "    </tr>\n",
       "    <tr>\n",
       "      <th>days_since_prior_order</th>\n",
       "      <th></th>\n",
       "      <th></th>\n",
       "      <th></th>\n",
       "    </tr>\n",
       "  </thead>\n",
       "  <tbody>\n",
       "    <tr>\n",
       "      <th>0.000000</th>\n",
       "      <td>239618</td>\n",
       "      <td>40510</td>\n",
       "      <td>157828</td>\n",
       "    </tr>\n",
       "    <tr>\n",
       "      <th>1.000000</th>\n",
       "      <td>626077</td>\n",
       "      <td>43346</td>\n",
       "      <td>262125</td>\n",
       "    </tr>\n",
       "    <tr>\n",
       "      <th>2.000000</th>\n",
       "      <td>973092</td>\n",
       "      <td>60651</td>\n",
       "      <td>417424</td>\n",
       "    </tr>\n",
       "    <tr>\n",
       "      <th>3.000000</th>\n",
       "      <td>1185818</td>\n",
       "      <td>86122</td>\n",
       "      <td>587599</td>\n",
       "    </tr>\n",
       "    <tr>\n",
       "      <th>4.000000</th>\n",
       "      <td>1202810</td>\n",
       "      <td>107478</td>\n",
       "      <td>746909</td>\n",
       "    </tr>\n",
       "    <tr>\n",
       "      <th>5.000000</th>\n",
       "      <td>1074597</td>\n",
       "      <td>136050</td>\n",
       "      <td>886556</td>\n",
       "    </tr>\n",
       "    <tr>\n",
       "      <th>6.000000</th>\n",
       "      <td>1090840</td>\n",
       "      <td>191338</td>\n",
       "      <td>1196259</td>\n",
       "    </tr>\n",
       "    <tr>\n",
       "      <th>7.000000</th>\n",
       "      <td>1351150</td>\n",
       "      <td>291013</td>\n",
       "      <td>1774795</td>\n",
       "    </tr>\n",
       "    <tr>\n",
       "      <th>8.000000</th>\n",
       "      <td>643306</td>\n",
       "      <td>185284</td>\n",
       "      <td>1064949</td>\n",
       "    </tr>\n",
       "    <tr>\n",
       "      <th>9.000000</th>\n",
       "      <td>347668</td>\n",
       "      <td>133307</td>\n",
       "      <td>709552</td>\n",
       "    </tr>\n",
       "    <tr>\n",
       "      <th>10.000000</th>\n",
       "      <td>247947</td>\n",
       "      <td>112510</td>\n",
       "      <td>582973</td>\n",
       "    </tr>\n",
       "    <tr>\n",
       "      <th>11.000000</th>\n",
       "      <td>184126</td>\n",
       "      <td>105153</td>\n",
       "      <td>508518</td>\n",
       "    </tr>\n",
       "    <tr>\n",
       "      <th>11.114836</th>\n",
       "      <td>188695</td>\n",
       "      <td>677367</td>\n",
       "      <td>794942</td>\n",
       "    </tr>\n",
       "    <tr>\n",
       "      <th>12.000000</th>\n",
       "      <td>151521</td>\n",
       "      <td>109340</td>\n",
       "      <td>489724</td>\n",
       "    </tr>\n",
       "    <tr>\n",
       "      <th>13.000000</th>\n",
       "      <td>136540</td>\n",
       "      <td>133329</td>\n",
       "      <td>552994</td>\n",
       "    </tr>\n",
       "    <tr>\n",
       "      <th>14.000000</th>\n",
       "      <td>147340</td>\n",
       "      <td>168439</td>\n",
       "      <td>675360</td>\n",
       "    </tr>\n",
       "    <tr>\n",
       "      <th>15.000000</th>\n",
       "      <td>89465</td>\n",
       "      <td>115411</td>\n",
       "      <td>440994</td>\n",
       "    </tr>\n",
       "    <tr>\n",
       "      <th>16.000000</th>\n",
       "      <td>57649</td>\n",
       "      <td>82176</td>\n",
       "      <td>301687</td>\n",
       "    </tr>\n",
       "    <tr>\n",
       "      <th>17.000000</th>\n",
       "      <td>44720</td>\n",
       "      <td>72046</td>\n",
       "      <td>248795</td>\n",
       "    </tr>\n",
       "    <tr>\n",
       "      <th>18.000000</th>\n",
       "      <td>37003</td>\n",
       "      <td>68859</td>\n",
       "      <td>230276</td>\n",
       "    </tr>\n",
       "    <tr>\n",
       "      <th>19.000000</th>\n",
       "      <td>31106</td>\n",
       "      <td>68189</td>\n",
       "      <td>219668</td>\n",
       "    </tr>\n",
       "    <tr>\n",
       "      <th>20.000000</th>\n",
       "      <td>32355</td>\n",
       "      <td>81263</td>\n",
       "      <td>247632</td>\n",
       "    </tr>\n",
       "    <tr>\n",
       "      <th>21.000000</th>\n",
       "      <td>33442</td>\n",
       "      <td>102098</td>\n",
       "      <td>284820</td>\n",
       "    </tr>\n",
       "    <tr>\n",
       "      <th>22.000000</th>\n",
       "      <td>23355</td>\n",
       "      <td>69955</td>\n",
       "      <td>199126</td>\n",
       "    </tr>\n",
       "    <tr>\n",
       "      <th>23.000000</th>\n",
       "      <td>15469</td>\n",
       "      <td>54561</td>\n",
       "      <td>142746</td>\n",
       "    </tr>\n",
       "    <tr>\n",
       "      <th>24.000000</th>\n",
       "      <td>12992</td>\n",
       "      <td>47443</td>\n",
       "      <td>122341</td>\n",
       "    </tr>\n",
       "    <tr>\n",
       "      <th>25.000000</th>\n",
       "      <td>11560</td>\n",
       "      <td>45094</td>\n",
       "      <td>113147</td>\n",
       "    </tr>\n",
       "    <tr>\n",
       "      <th>26.000000</th>\n",
       "      <td>9098</td>\n",
       "      <td>47508</td>\n",
       "      <td>110540</td>\n",
       "    </tr>\n",
       "    <tr>\n",
       "      <th>27.000000</th>\n",
       "      <td>9971</td>\n",
       "      <td>55721</td>\n",
       "      <td>124663</td>\n",
       "    </tr>\n",
       "    <tr>\n",
       "      <th>28.000000</th>\n",
       "      <td>11647</td>\n",
       "      <td>72597</td>\n",
       "      <td>152174</td>\n",
       "    </tr>\n",
       "    <tr>\n",
       "      <th>29.000000</th>\n",
       "      <td>7135</td>\n",
       "      <td>50632</td>\n",
       "      <td>105812</td>\n",
       "    </tr>\n",
       "    <tr>\n",
       "      <th>30.000000</th>\n",
       "      <td>64651</td>\n",
       "      <td>1188006</td>\n",
       "      <td>1421200</td>\n",
       "    </tr>\n",
       "  </tbody>\n",
       "</table>\n",
       "</div>"
      ],
      "text/plain": [
       "loyalty_flag            loyal_customer  new_customer  regular_customer\n",
       "days_since_prior_order                                                \n",
       "0.000000                        239618         40510            157828\n",
       "1.000000                        626077         43346            262125\n",
       "2.000000                        973092         60651            417424\n",
       "3.000000                       1185818         86122            587599\n",
       "4.000000                       1202810        107478            746909\n",
       "5.000000                       1074597        136050            886556\n",
       "6.000000                       1090840        191338           1196259\n",
       "7.000000                       1351150        291013           1774795\n",
       "8.000000                        643306        185284           1064949\n",
       "9.000000                        347668        133307            709552\n",
       "10.000000                       247947        112510            582973\n",
       "11.000000                       184126        105153            508518\n",
       "11.114836                       188695        677367            794942\n",
       "12.000000                       151521        109340            489724\n",
       "13.000000                       136540        133329            552994\n",
       "14.000000                       147340        168439            675360\n",
       "15.000000                        89465        115411            440994\n",
       "16.000000                        57649         82176            301687\n",
       "17.000000                        44720         72046            248795\n",
       "18.000000                        37003         68859            230276\n",
       "19.000000                        31106         68189            219668\n",
       "20.000000                        32355         81263            247632\n",
       "21.000000                        33442        102098            284820\n",
       "22.000000                        23355         69955            199126\n",
       "23.000000                        15469         54561            142746\n",
       "24.000000                        12992         47443            122341\n",
       "25.000000                        11560         45094            113147\n",
       "26.000000                         9098         47508            110540\n",
       "27.000000                         9971         55721            124663\n",
       "28.000000                        11647         72597            152174\n",
       "29.000000                         7135         50632            105812\n",
       "30.000000                        64651       1188006           1421200"
      ]
     },
     "execution_count": 63,
     "metadata": {},
     "output_type": "execute_result"
    }
   ],
   "source": [
    "# creating a crosstab for customer loyalty and days_since_prior_order\n",
    "\n",
    "crosstab_loyalty_prior_orders = pd.crosstab (df['days_since_prior_order'], df['loyalty_flag'], dropna = False)\n",
    "crosstab_loyalty_prior_orders"
   ]
  },
  {
   "cell_type": "code",
   "execution_count": 64,
   "id": "5f24b287",
   "metadata": {
    "scrolled": false
   },
   "outputs": [
    {
     "data": {
      "image/png": "[encoded data removed]",
      "text/plain": [
       "<Figure size 640x480 with 1 Axes>"
      ]
     },
     "metadata": {},
     "output_type": "display_data"
    }
   ],
   "source": [
    "crosstab_loyalty_prior_orders_bar  = crosstab_loyalty_prior_orders.plot.bar()"
   ]
  },
  {
   "cell_type": "markdown",
   "id": "4a511544",
   "metadata": {},
   "source": [
    "Observation: Loyal customers make orders throughout the week while regular customers order every 7 days. "
   ]
  },
  {
   "cell_type": "code",
   "execution_count": 65,
   "id": "6886533d",
   "metadata": {
    "scrolled": false
   },
   "outputs": [
    {
     "data": {
      "text/html": [
       "<div>\n",
       "<style scoped>\n",
       "    .dataframe tbody tr th:only-of-type {\n",
       "        vertical-align: middle;\n",
       "    }\n",
       "\n",
       "    .dataframe tbody tr th {\n",
       "        vertical-align: top;\n",
       "    }\n",
       "\n",
       "    .dataframe thead th {\n",
       "        text-align: right;\n",
       "    }\n",
       "</style>\n",
       "<table border=\"1\" class=\"dataframe\">\n",
       "  <thead>\n",
       "    <tr style=\"text-align: right;\">\n",
       "      <th>loyalty_flag</th>\n",
       "      <th>loyal_customer</th>\n",
       "      <th>new_customer</th>\n",
       "      <th>regular_customer</th>\n",
       "    </tr>\n",
       "    <tr>\n",
       "      <th>department</th>\n",
       "      <th></th>\n",
       "      <th></th>\n",
       "      <th></th>\n",
       "    </tr>\n",
       "  </thead>\n",
       "  <tbody>\n",
       "    <tr>\n",
       "      <th>alcohol</th>\n",
       "      <td>38723</td>\n",
       "      <td>28629</td>\n",
       "      <td>77275</td>\n",
       "    </tr>\n",
       "    <tr>\n",
       "      <th>babies</th>\n",
       "      <td>167108</td>\n",
       "      <td>46708</td>\n",
       "      <td>196576</td>\n",
       "    </tr>\n",
       "    <tr>\n",
       "      <th>bakery</th>\n",
       "      <td>379873</td>\n",
       "      <td>172104</td>\n",
       "      <td>568851</td>\n",
       "    </tr>\n",
       "    <tr>\n",
       "      <th>beverages</th>\n",
       "      <td>855017</td>\n",
       "      <td>396649</td>\n",
       "      <td>1320235</td>\n",
       "    </tr>\n",
       "    <tr>\n",
       "      <th>breakfast</th>\n",
       "      <td>221577</td>\n",
       "      <td>106179</td>\n",
       "      <td>343094</td>\n",
       "    </tr>\n",
       "    <tr>\n",
       "      <th>bulk</th>\n",
       "      <td>13834</td>\n",
       "      <td>4149</td>\n",
       "      <td>15468</td>\n",
       "    </tr>\n",
       "    <tr>\n",
       "      <th>canned goods</th>\n",
       "      <td>294594</td>\n",
       "      <td>180196</td>\n",
       "      <td>537284</td>\n",
       "    </tr>\n",
       "    <tr>\n",
       "      <th>dairy eggs</th>\n",
       "      <td>1829377</td>\n",
       "      <td>749157</td>\n",
       "      <td>2593771</td>\n",
       "    </tr>\n",
       "    <tr>\n",
       "      <th>deli</th>\n",
       "      <td>324046</td>\n",
       "      <td>158335</td>\n",
       "      <td>521453</td>\n",
       "    </tr>\n",
       "    <tr>\n",
       "      <th>dry goods pasta</th>\n",
       "      <td>242580</td>\n",
       "      <td>144836</td>\n",
       "      <td>434720</td>\n",
       "    </tr>\n",
       "    <tr>\n",
       "      <th>frozen</th>\n",
       "      <td>609460</td>\n",
       "      <td>372271</td>\n",
       "      <td>1140000</td>\n",
       "    </tr>\n",
       "    <tr>\n",
       "      <th>household</th>\n",
       "      <td>196873</td>\n",
       "      <td>128117</td>\n",
       "      <td>374867</td>\n",
       "    </tr>\n",
       "    <tr>\n",
       "      <th>international</th>\n",
       "      <td>78394</td>\n",
       "      <td>43841</td>\n",
       "      <td>133756</td>\n",
       "    </tr>\n",
       "    <tr>\n",
       "      <th>meat seafood</th>\n",
       "      <td>202480</td>\n",
       "      <td>112464</td>\n",
       "      <td>359837</td>\n",
       "    </tr>\n",
       "    <tr>\n",
       "      <th>missing</th>\n",
       "      <td>18350</td>\n",
       "      <td>12713</td>\n",
       "      <td>33705</td>\n",
       "    </tr>\n",
       "    <tr>\n",
       "      <th>other</th>\n",
       "      <td>10715</td>\n",
       "      <td>5839</td>\n",
       "      <td>17857</td>\n",
       "    </tr>\n",
       "    <tr>\n",
       "      <th>pantry</th>\n",
       "      <td>560402</td>\n",
       "      <td>299576</td>\n",
       "      <td>922727</td>\n",
       "    </tr>\n",
       "    <tr>\n",
       "      <th>personal care</th>\n",
       "      <td>123365</td>\n",
       "      <td>75442</td>\n",
       "      <td>225499</td>\n",
       "    </tr>\n",
       "    <tr>\n",
       "      <th>pets</th>\n",
       "      <td>25469</td>\n",
       "      <td>15880</td>\n",
       "      <td>51711</td>\n",
       "    </tr>\n",
       "    <tr>\n",
       "      <th>produce</th>\n",
       "      <td>3147376</td>\n",
       "      <td>1336604</td>\n",
       "      <td>4595293</td>\n",
       "    </tr>\n",
       "    <tr>\n",
       "      <th>snacks</th>\n",
       "      <td>943150</td>\n",
       "      <td>413107</td>\n",
       "      <td>1410149</td>\n",
       "    </tr>\n",
       "  </tbody>\n",
       "</table>\n",
       "</div>"
      ],
      "text/plain": [
       "loyalty_flag     loyal_customer  new_customer  regular_customer\n",
       "department                                                     \n",
       "alcohol                   38723         28629             77275\n",
       "babies                   167108         46708            196576\n",
       "bakery                   379873        172104            568851\n",
       "beverages                855017        396649           1320235\n",
       "breakfast                221577        106179            343094\n",
       "bulk                      13834          4149             15468\n",
       "canned goods             294594        180196            537284\n",
       "dairy eggs              1829377        749157           2593771\n",
       "deli                     324046        158335            521453\n",
       "dry goods pasta          242580        144836            434720\n",
       "frozen                   609460        372271           1140000\n",
       "household                196873        128117            374867\n",
       "international             78394         43841            133756\n",
       "meat seafood             202480        112464            359837\n",
       "missing                   18350         12713             33705\n",
       "other                     10715          5839             17857\n",
       "pantry                   560402        299576            922727\n",
       "personal care            123365         75442            225499\n",
       "pets                      25469         15880             51711\n",
       "produce                 3147376       1336604           4595293\n",
       "snacks                   943150        413107           1410149"
      ]
     },
     "execution_count": 65,
     "metadata": {},
     "output_type": "execute_result"
    }
   ],
   "source": [
    "# creating a crosstab for customer loyalty and department\n",
    "\n",
    "crosstab_loyalty_dept_orders = pd.crosstab (df['department'], df['loyalty_flag'], dropna = False)\n",
    "crosstab_loyalty_dept_orders"
   ]
  },
  {
   "cell_type": "code",
   "execution_count": 66,
   "id": "d3d49501",
   "metadata": {},
   "outputs": [
    {
     "data": {
      "image/png": "[encoded data removed]",
      "text/plain": [
       "<Figure size 640x480 with 1 Axes>"
      ]
     },
     "metadata": {},
     "output_type": "display_data"
    }
   ],
   "source": [
    "crosstab_loyalty_dept_orders_stacked = crosstab_loyalty_dept_orders.plot(kind = 'bar', stacked = True)"
   ]
  },
  {
   "cell_type": "markdown",
   "id": "9378647d",
   "metadata": {},
   "source": [
    "Observations: Regular customers are ordering the majority of produce, the top selling product. Loyal customers are ordering producs, dairy/eggs, snacls, and beverages the most. "
   ]
  },
  {
   "cell_type": "markdown",
   "id": "ffdc3a28",
   "metadata": {},
   "source": [
    "### 7. Customer Aggregation and Frequency"
   ]
  },
  {
   "cell_type": "code",
   "execution_count": 67,
   "id": "b74f4cfe",
   "metadata": {
    "scrolled": true
   },
   "outputs": [
    {
     "data": {
      "text/html": [
       "<div>\n",
       "<style scoped>\n",
       "    .dataframe tbody tr th:only-of-type {\n",
       "        vertical-align: middle;\n",
       "    }\n",
       "\n",
       "    .dataframe tbody tr th {\n",
       "        vertical-align: top;\n",
       "    }\n",
       "\n",
       "    .dataframe thead tr th {\n",
       "        text-align: left;\n",
       "    }\n",
       "\n",
       "    .dataframe thead tr:last-of-type th {\n",
       "        text-align: right;\n",
       "    }\n",
       "</style>\n",
       "<table border=\"1\" class=\"dataframe\">\n",
       "  <thead>\n",
       "    <tr>\n",
       "      <th></th>\n",
       "      <th colspan=\"3\" halign=\"left\">prices</th>\n",
       "      <th colspan=\"3\" halign=\"left\">days_since_prior_order</th>\n",
       "    </tr>\n",
       "    <tr>\n",
       "      <th></th>\n",
       "      <th>mean</th>\n",
       "      <th>min</th>\n",
       "      <th>max</th>\n",
       "      <th>mean</th>\n",
       "      <th>min</th>\n",
       "      <th>max</th>\n",
       "    </tr>\n",
       "    <tr>\n",
       "      <th>age_category</th>\n",
       "      <th></th>\n",
       "      <th></th>\n",
       "      <th></th>\n",
       "      <th></th>\n",
       "      <th></th>\n",
       "      <th></th>\n",
       "    </tr>\n",
       "  </thead>\n",
       "  <tbody>\n",
       "    <tr>\n",
       "      <th>middle aged adult</th>\n",
       "      <td>7.791529</td>\n",
       "      <td>1.0</td>\n",
       "      <td>25.0</td>\n",
       "      <td>10.837547</td>\n",
       "      <td>0.0</td>\n",
       "      <td>30.0</td>\n",
       "    </tr>\n",
       "    <tr>\n",
       "      <th>senior adult</th>\n",
       "      <td>7.796715</td>\n",
       "      <td>1.0</td>\n",
       "      <td>25.0</td>\n",
       "      <td>10.809062</td>\n",
       "      <td>0.0</td>\n",
       "      <td>30.0</td>\n",
       "    </tr>\n",
       "    <tr>\n",
       "      <th>young adult</th>\n",
       "      <td>7.784818</td>\n",
       "      <td>1.0</td>\n",
       "      <td>25.0</td>\n",
       "      <td>10.827406</td>\n",
       "      <td>0.0</td>\n",
       "      <td>30.0</td>\n",
       "    </tr>\n",
       "  </tbody>\n",
       "</table>\n",
       "</div>"
      ],
      "text/plain": [
       "                     prices            days_since_prior_order           \n",
       "                       mean  min   max                   mean  min   max\n",
       "age_category                                                            \n",
       "middle aged adult  7.791529  1.0  25.0              10.837547  0.0  30.0\n",
       "senior adult       7.796715  1.0  25.0              10.809062  0.0  30.0\n",
       "young adult        7.784818  1.0  25.0              10.827406  0.0  30.0"
      ]
     },
     "execution_count": 67,
     "metadata": {},
     "output_type": "execute_result"
    }
   ],
   "source": [
    "df.groupby('age_category').agg({'prices': ['mean', 'min', 'max'], 'days_since_prior_order': ['mean', 'min', 'max']})"
   ]
  },
  {
   "cell_type": "code",
   "execution_count": 68,
   "id": "bf90cf23",
   "metadata": {},
   "outputs": [
    {
     "data": {
      "text/html": [
       "<div>\n",
       "<style scoped>\n",
       "    .dataframe tbody tr th:only-of-type {\n",
       "        vertical-align: middle;\n",
       "    }\n",
       "\n",
       "    .dataframe tbody tr th {\n",
       "        vertical-align: top;\n",
       "    }\n",
       "\n",
       "    .dataframe thead tr th {\n",
       "        text-align: left;\n",
       "    }\n",
       "\n",
       "    .dataframe thead tr:last-of-type th {\n",
       "        text-align: right;\n",
       "    }\n",
       "</style>\n",
       "<table border=\"1\" class=\"dataframe\">\n",
       "  <thead>\n",
       "    <tr>\n",
       "      <th></th>\n",
       "      <th colspan=\"3\" halign=\"left\">prices</th>\n",
       "      <th colspan=\"3\" halign=\"left\">days_since_prior_order</th>\n",
       "    </tr>\n",
       "    <tr>\n",
       "      <th></th>\n",
       "      <th>mean</th>\n",
       "      <th>min</th>\n",
       "      <th>max</th>\n",
       "      <th>mean</th>\n",
       "      <th>min</th>\n",
       "      <th>max</th>\n",
       "    </tr>\n",
       "    <tr>\n",
       "      <th>household</th>\n",
       "      <th></th>\n",
       "      <th></th>\n",
       "      <th></th>\n",
       "      <th></th>\n",
       "      <th></th>\n",
       "      <th></th>\n",
       "    </tr>\n",
       "  </thead>\n",
       "  <tbody>\n",
       "    <tr>\n",
       "      <th>extended fam w/ dependants</th>\n",
       "      <td>7.800604</td>\n",
       "      <td>1.0</td>\n",
       "      <td>25.0</td>\n",
       "      <td>10.770149</td>\n",
       "      <td>0.0</td>\n",
       "      <td>30.0</td>\n",
       "    </tr>\n",
       "    <tr>\n",
       "      <th>married w/ dependants</th>\n",
       "      <td>7.790278</td>\n",
       "      <td>1.0</td>\n",
       "      <td>25.0</td>\n",
       "      <td>10.836523</td>\n",
       "      <td>0.0</td>\n",
       "      <td>30.0</td>\n",
       "    </tr>\n",
       "    <tr>\n",
       "      <th>single adult</th>\n",
       "      <td>7.789550</td>\n",
       "      <td>1.0</td>\n",
       "      <td>25.0</td>\n",
       "      <td>10.809187</td>\n",
       "      <td>0.0</td>\n",
       "      <td>30.0</td>\n",
       "    </tr>\n",
       "  </tbody>\n",
       "</table>\n",
       "</div>"
      ],
      "text/plain": [
       "                              prices            days_since_prior_order       \\\n",
       "                                mean  min   max                   mean  min   \n",
       "household                                                                     \n",
       "extended fam w/ dependants  7.800604  1.0  25.0              10.770149  0.0   \n",
       "married w/ dependants       7.790278  1.0  25.0              10.836523  0.0   \n",
       "single adult                7.789550  1.0  25.0              10.809187  0.0   \n",
       "\n",
       "                                  \n",
       "                             max  \n",
       "household                         \n",
       "extended fam w/ dependants  30.0  \n",
       "married w/ dependants       30.0  \n",
       "single adult                30.0  "
      ]
     },
     "execution_count": 68,
     "metadata": {},
     "output_type": "execute_result"
    }
   ],
   "source": [
    "df.groupby('household').agg({'prices': ['mean', 'min', 'max'], 'days_since_prior_order': ['mean', 'min', 'max']})"
   ]
  },
  {
   "cell_type": "code",
   "execution_count": 69,
   "id": "0e39f96f",
   "metadata": {},
   "outputs": [
    {
     "data": {
      "text/html": [
       "<div>\n",
       "<style scoped>\n",
       "    .dataframe tbody tr th:only-of-type {\n",
       "        vertical-align: middle;\n",
       "    }\n",
       "\n",
       "    .dataframe tbody tr th {\n",
       "        vertical-align: top;\n",
       "    }\n",
       "\n",
       "    .dataframe thead tr th {\n",
       "        text-align: left;\n",
       "    }\n",
       "\n",
       "    .dataframe thead tr:last-of-type th {\n",
       "        text-align: right;\n",
       "    }\n",
       "</style>\n",
       "<table border=\"1\" class=\"dataframe\">\n",
       "  <thead>\n",
       "    <tr>\n",
       "      <th></th>\n",
       "      <th colspan=\"3\" halign=\"left\">prices</th>\n",
       "      <th colspan=\"3\" halign=\"left\">days_since_prior_order</th>\n",
       "    </tr>\n",
       "    <tr>\n",
       "      <th></th>\n",
       "      <th>mean</th>\n",
       "      <th>min</th>\n",
       "      <th>max</th>\n",
       "      <th>mean</th>\n",
       "      <th>min</th>\n",
       "      <th>max</th>\n",
       "    </tr>\n",
       "    <tr>\n",
       "      <th>family_size</th>\n",
       "      <th></th>\n",
       "      <th></th>\n",
       "      <th></th>\n",
       "      <th></th>\n",
       "      <th></th>\n",
       "      <th></th>\n",
       "    </tr>\n",
       "  </thead>\n",
       "  <tbody>\n",
       "    <tr>\n",
       "      <th>large</th>\n",
       "      <td>7.792886</td>\n",
       "      <td>1.0</td>\n",
       "      <td>25.0</td>\n",
       "      <td>10.832062</td>\n",
       "      <td>0.0</td>\n",
       "      <td>30.0</td>\n",
       "    </tr>\n",
       "    <tr>\n",
       "      <th>medium</th>\n",
       "      <td>7.789957</td>\n",
       "      <td>1.0</td>\n",
       "      <td>25.0</td>\n",
       "      <td>10.832404</td>\n",
       "      <td>0.0</td>\n",
       "      <td>30.0</td>\n",
       "    </tr>\n",
       "    <tr>\n",
       "      <th>small</th>\n",
       "      <td>7.789550</td>\n",
       "      <td>1.0</td>\n",
       "      <td>25.0</td>\n",
       "      <td>10.809187</td>\n",
       "      <td>0.0</td>\n",
       "      <td>30.0</td>\n",
       "    </tr>\n",
       "  </tbody>\n",
       "</table>\n",
       "</div>"
      ],
      "text/plain": [
       "               prices            days_since_prior_order           \n",
       "                 mean  min   max                   mean  min   max\n",
       "family_size                                                       \n",
       "large        7.792886  1.0  25.0              10.832062  0.0  30.0\n",
       "medium       7.789957  1.0  25.0              10.832404  0.0  30.0\n",
       "small        7.789550  1.0  25.0              10.809187  0.0  30.0"
      ]
     },
     "execution_count": 69,
     "metadata": {},
     "output_type": "execute_result"
    }
   ],
   "source": [
    "df.groupby('family_size').agg({'prices': ['mean', 'min', 'max'], 'days_since_prior_order': ['mean', 'min', 'max']})"
   ]
  },
  {
   "cell_type": "code",
   "execution_count": 70,
   "id": "eccf66c9",
   "metadata": {},
   "outputs": [
    {
     "data": {
      "text/html": [
       "<div>\n",
       "<style scoped>\n",
       "    .dataframe tbody tr th:only-of-type {\n",
       "        vertical-align: middle;\n",
       "    }\n",
       "\n",
       "    .dataframe tbody tr th {\n",
       "        vertical-align: top;\n",
       "    }\n",
       "\n",
       "    .dataframe thead tr th {\n",
       "        text-align: left;\n",
       "    }\n",
       "\n",
       "    .dataframe thead tr:last-of-type th {\n",
       "        text-align: right;\n",
       "    }\n",
       "</style>\n",
       "<table border=\"1\" class=\"dataframe\">\n",
       "  <thead>\n",
       "    <tr>\n",
       "      <th></th>\n",
       "      <th colspan=\"3\" halign=\"left\">prices</th>\n",
       "      <th colspan=\"3\" halign=\"left\">days_since_prior_order</th>\n",
       "    </tr>\n",
       "    <tr>\n",
       "      <th></th>\n",
       "      <th>mean</th>\n",
       "      <th>min</th>\n",
       "      <th>max</th>\n",
       "      <th>mean</th>\n",
       "      <th>min</th>\n",
       "      <th>max</th>\n",
       "    </tr>\n",
       "    <tr>\n",
       "      <th>income_flag</th>\n",
       "      <th></th>\n",
       "      <th></th>\n",
       "      <th></th>\n",
       "      <th></th>\n",
       "      <th></th>\n",
       "      <th></th>\n",
       "    </tr>\n",
       "  </thead>\n",
       "  <tbody>\n",
       "    <tr>\n",
       "      <th>high income</th>\n",
       "      <td>7.790993</td>\n",
       "      <td>1.0</td>\n",
       "      <td>25.0</td>\n",
       "      <td>10.161862</td>\n",
       "      <td>0.0</td>\n",
       "      <td>30.0</td>\n",
       "    </tr>\n",
       "    <tr>\n",
       "      <th>low income</th>\n",
       "      <td>7.652564</td>\n",
       "      <td>1.0</td>\n",
       "      <td>25.0</td>\n",
       "      <td>10.859392</td>\n",
       "      <td>0.0</td>\n",
       "      <td>30.0</td>\n",
       "    </tr>\n",
       "    <tr>\n",
       "      <th>medium income</th>\n",
       "      <td>7.956935</td>\n",
       "      <td>1.0</td>\n",
       "      <td>25.0</td>\n",
       "      <td>10.801200</td>\n",
       "      <td>0.0</td>\n",
       "      <td>30.0</td>\n",
       "    </tr>\n",
       "  </tbody>\n",
       "</table>\n",
       "</div>"
      ],
      "text/plain": [
       "                 prices            days_since_prior_order           \n",
       "                   mean  min   max                   mean  min   max\n",
       "income_flag                                                         \n",
       "high income    7.790993  1.0  25.0              10.161862  0.0  30.0\n",
       "low income     7.652564  1.0  25.0              10.859392  0.0  30.0\n",
       "medium income  7.956935  1.0  25.0              10.801200  0.0  30.0"
      ]
     },
     "execution_count": 70,
     "metadata": {},
     "output_type": "execute_result"
    }
   ],
   "source": [
    "df.groupby('income_flag').agg({'prices': ['mean', 'min', 'max'], 'days_since_prior_order': ['mean', 'min', 'max']})"
   ]
  },
  {
   "cell_type": "code",
   "execution_count": 71,
   "id": "05b042cf",
   "metadata": {},
   "outputs": [
    {
     "data": {
      "text/html": [
       "<div>\n",
       "<style scoped>\n",
       "    .dataframe tbody tr th:only-of-type {\n",
       "        vertical-align: middle;\n",
       "    }\n",
       "\n",
       "    .dataframe tbody tr th {\n",
       "        vertical-align: top;\n",
       "    }\n",
       "\n",
       "    .dataframe thead tr th {\n",
       "        text-align: left;\n",
       "    }\n",
       "\n",
       "    .dataframe thead tr:last-of-type th {\n",
       "        text-align: right;\n",
       "    }\n",
       "</style>\n",
       "<table border=\"1\" class=\"dataframe\">\n",
       "  <thead>\n",
       "    <tr>\n",
       "      <th></th>\n",
       "      <th colspan=\"3\" halign=\"left\">prices</th>\n",
       "      <th colspan=\"3\" halign=\"left\">days_since_prior_order</th>\n",
       "    </tr>\n",
       "    <tr>\n",
       "      <th></th>\n",
       "      <th>mean</th>\n",
       "      <th>min</th>\n",
       "      <th>max</th>\n",
       "      <th>mean</th>\n",
       "      <th>min</th>\n",
       "      <th>max</th>\n",
       "    </tr>\n",
       "    <tr>\n",
       "      <th>region</th>\n",
       "      <th></th>\n",
       "      <th></th>\n",
       "      <th></th>\n",
       "      <th></th>\n",
       "      <th></th>\n",
       "      <th></th>\n",
       "    </tr>\n",
       "  </thead>\n",
       "  <tbody>\n",
       "    <tr>\n",
       "      <th>Midwest</th>\n",
       "      <td>7.792366</td>\n",
       "      <td>1.0</td>\n",
       "      <td>25.0</td>\n",
       "      <td>10.901496</td>\n",
       "      <td>0.0</td>\n",
       "      <td>30.0</td>\n",
       "    </tr>\n",
       "    <tr>\n",
       "      <th>Northeast</th>\n",
       "      <td>7.781441</td>\n",
       "      <td>1.0</td>\n",
       "      <td>25.0</td>\n",
       "      <td>10.792289</td>\n",
       "      <td>0.0</td>\n",
       "      <td>30.0</td>\n",
       "    </tr>\n",
       "    <tr>\n",
       "      <th>South</th>\n",
       "      <td>7.794439</td>\n",
       "      <td>1.0</td>\n",
       "      <td>25.0</td>\n",
       "      <td>10.830316</td>\n",
       "      <td>0.0</td>\n",
       "      <td>30.0</td>\n",
       "    </tr>\n",
       "    <tr>\n",
       "      <th>West</th>\n",
       "      <td>7.790308</td>\n",
       "      <td>1.0</td>\n",
       "      <td>25.0</td>\n",
       "      <td>10.773593</td>\n",
       "      <td>0.0</td>\n",
       "      <td>30.0</td>\n",
       "    </tr>\n",
       "  </tbody>\n",
       "</table>\n",
       "</div>"
      ],
      "text/plain": [
       "             prices            days_since_prior_order           \n",
       "               mean  min   max                   mean  min   max\n",
       "region                                                          \n",
       "Midwest    7.792366  1.0  25.0              10.901496  0.0  30.0\n",
       "Northeast  7.781441  1.0  25.0              10.792289  0.0  30.0\n",
       "South      7.794439  1.0  25.0              10.830316  0.0  30.0\n",
       "West       7.790308  1.0  25.0              10.773593  0.0  30.0"
      ]
     },
     "execution_count": 71,
     "metadata": {},
     "output_type": "execute_result"
    }
   ],
   "source": [
    "df.groupby('region').agg({'prices': ['mean', 'min', 'max'], 'days_since_prior_order': ['mean', 'min', 'max']})"
   ]
  },
  {
   "cell_type": "markdown",
   "id": "4cdc49dc",
   "metadata": {},
   "source": [
    "### 8. Exporting Charts and Data Frames"
   ]
  },
  {
   "cell_type": "code",
   "execution_count": 72,
   "id": "758de7ce",
   "metadata": {},
   "outputs": [],
   "source": [
    "age_category_bar.figure.savefig(os.path.join(path, '4. Analysis','Visualizations', 'age_category_bar.png'))"
   ]
  },
  {
   "cell_type": "code",
   "execution_count": 73,
   "id": "abdbeb3b",
   "metadata": {},
   "outputs": [],
   "source": [
    "Household_bar.figure.savefig(os.path.join(path, '4. Analysis','Visualizations', 'household_bar.png'))"
   ]
  },
  {
   "cell_type": "code",
   "execution_count": 74,
   "id": "d8e968d8",
   "metadata": {},
   "outputs": [],
   "source": [
    "Department_bar.figure.savefig(os.path.join(path, '4. Analysis','Visualizations', 'aDepartment_bar.png'))"
   ]
  },
  {
   "cell_type": "code",
   "execution_count": 75,
   "id": "bbdcd0ee",
   "metadata": {},
   "outputs": [],
   "source": [
    "crosstab_dept_region_bar.figure.savefig(os.path.join(path, '4. Analysis','Visualizations', 'crosstab_dept_region_bar.png'))"
   ]
  },
  {
   "cell_type": "code",
   "execution_count": 76,
   "id": "c31f13ce",
   "metadata": {},
   "outputs": [],
   "source": [
    "crosstab_region_income_bar.figure.savefig(os.path.join(path, '4. Analysis','Visualizations', 'crosstab_region_income_bar.png'))"
   ]
  },
  {
   "cell_type": "code",
   "execution_count": 77,
   "id": "bb41ed4c",
   "metadata": {},
   "outputs": [],
   "source": [
    "crosstab_region_household_bar.figure.savefig(os.path.join(path, '4. Analysis','Visualizations', 'crosstab_region_household_bar.png'))"
   ]
  },
  {
   "cell_type": "code",
   "execution_count": 78,
   "id": "7b5e2a84",
   "metadata": {},
   "outputs": [],
   "source": [
    "crosstab_baby_region_bar.figure.savefig(os.path.join(path, '4. Analysis','Visualizations', 'crosstab_baby_region_bar.png'))"
   ]
  },
  {
   "cell_type": "code",
   "execution_count": 79,
   "id": "056244a3",
   "metadata": {},
   "outputs": [],
   "source": [
    "crosstab_age_order_habbits_bar .figure.savefig(os.path.join(path, '4. Analysis','Visualizations', 'crosstab_age_order_habbits_bar r.png'))"
   ]
  },
  {
   "cell_type": "code",
   "execution_count": 80,
   "id": "de9bd0bb",
   "metadata": {},
   "outputs": [],
   "source": [
    "crosstab_habbits_dept_bar.figure.savefig(os.path.join(path, '4. Analysis','Visualizations', 'crosstab_habbits_dept_bar.png'))"
   ]
  },
  {
   "cell_type": "code",
   "execution_count": 81,
   "id": "68bc44a8",
   "metadata": {},
   "outputs": [],
   "source": [
    "crosstab_loyalty_prior_orders_bar.figure.savefig(os.path.join(path, '4. Analysis','Visualizations', 'crosstab_loyalty_prior_orders_bar.png'))"
   ]
  },
  {
   "cell_type": "code",
   "execution_count": 82,
   "id": "73955f94",
   "metadata": {},
   "outputs": [],
   "source": [
    "crosstab_loyalty_dept_orders_stacked.figure.savefig(os.path.join(path, '4. Analysis','Visualizations', 'crosstab_loyalty_dept_orders_stacked.png'))"
   ]
  },
  {
   "cell_type": "code",
   "execution_count": 83,
   "id": "2e160bb8",
   "metadata": {},
   "outputs": [],
   "source": [
    "df.to_pickle(os.path.join(path, '2. Data','Prepared Data', 'high_activity_customers.pkl'))"
   ]
  }
 ],
 "metadata": {
  "kernelspec": {
   "display_name": "Python 3 (ipykernel)",
   "language": "python",
   "name": "python3"
  },
  "language_info": {
   "codemirror_mode": {
    "name": "ipython",
    "version": 3
   },
   "file_extension": ".py",
   "mimetype": "text/x-python",
   "name": "python",
   "nbconvert_exporter": "python",
   "pygments_lexer": "ipython3",
   "version": "3.9.13"
  }
 },
 "nbformat": 4,
 "nbformat_minor": 5
}
