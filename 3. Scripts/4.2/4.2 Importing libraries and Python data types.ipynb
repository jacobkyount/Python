{
 "cells": [
  {
   "cell_type": "markdown",
   "id": "b5f96a78",
   "metadata": {},
   "source": [
    "# 01. Importing Libraries"
   ]
  },
  {
   "cell_type": "code",
   "execution_count": 1,
   "id": "cb1f6449",
   "metadata": {},
   "outputs": [],
   "source": [
    "# Import Libraries\n",
    "import pandas as pd\n",
    "import numpy as np\n",
    "import os"
   ]
  },
  {
   "cell_type": "code",
   "execution_count": null,
   "id": "86aa3706",
   "metadata": {},
   "outputs": [],
   "source": []
  },
  {
   "cell_type": "markdown",
   "id": "6c1a3a0d",
   "metadata": {},
   "source": [
    "# 02. Data Types"
   ]
  },
  {
   "cell_type": "code",
   "execution_count": 27,
   "id": "f4ff21a8",
   "metadata": {},
   "outputs": [
    {
     "data": {
      "text/plain": [
       "False"
      ]
     },
     "execution_count": 27,
     "metadata": {},
     "output_type": "execute_result"
    }
   ],
   "source": [
    "x==y"
   ]
  },
  {
   "cell_type": "code",
   "execution_count": 28,
   "id": "adc803b7",
   "metadata": {},
   "outputs": [],
   "source": [
    "x = 25"
   ]
  },
  {
   "cell_type": "code",
   "execution_count": 29,
   "id": "e06d9216",
   "metadata": {},
   "outputs": [],
   "source": [
    "y = 75 "
   ]
  },
  {
   "cell_type": "code",
   "execution_count": 30,
   "id": "df22cca4",
   "metadata": {},
   "outputs": [
    {
     "data": {
      "text/plain": [
       "100"
      ]
     },
     "execution_count": 30,
     "metadata": {},
     "output_type": "execute_result"
    }
   ],
   "source": [
    "x + y"
   ]
  },
  {
   "cell_type": "code",
   "execution_count": 31,
   "id": "f5ea0904",
   "metadata": {},
   "outputs": [
    {
     "data": {
      "text/plain": [
       "100"
      ]
     },
     "execution_count": 31,
     "metadata": {},
     "output_type": "execute_result"
    }
   ],
   "source": [
    "x * 4"
   ]
  },
  {
   "cell_type": "code",
   "execution_count": 32,
   "id": "f5bbb628",
   "metadata": {},
   "outputs": [
    {
     "data": {
      "text/plain": [
       "100"
      ]
     },
     "execution_count": 32,
     "metadata": {},
     "output_type": "execute_result"
    }
   ],
   "source": [
    "(y-25)*2"
   ]
  },
  {
   "cell_type": "code",
   "execution_count": 33,
   "id": "1cd43e70",
   "metadata": {},
   "outputs": [],
   "source": [
    "z = 5.77"
   ]
  },
  {
   "cell_type": "code",
   "execution_count": 34,
   "id": "0c16353b",
   "metadata": {},
   "outputs": [],
   "source": [
    "a = 3.0295"
   ]
  },
  {
   "cell_type": "code",
   "execution_count": 35,
   "id": "0b813724",
   "metadata": {},
   "outputs": [
    {
     "data": {
      "text/plain": [
       "0.5250433275563259"
      ]
     },
     "execution_count": 35,
     "metadata": {},
     "output_type": "execute_result"
    }
   ],
   "source": [
    "a/z"
   ]
  },
  {
   "cell_type": "code",
   "execution_count": 37,
   "id": "fc4a7dff",
   "metadata": {},
   "outputs": [],
   "source": [
    "c = 'foot'"
   ]
  },
  {
   "cell_type": "code",
   "execution_count": 38,
   "id": "01ade8ed",
   "metadata": {},
   "outputs": [],
   "source": [
    "d = \"ball\""
   ]
  },
  {
   "cell_type": "code",
   "execution_count": 39,
   "id": "7a571ad3",
   "metadata": {},
   "outputs": [
    {
     "data": {
      "text/plain": [
       "'football'"
      ]
     },
     "execution_count": 39,
     "metadata": {},
     "output_type": "execute_result"
    }
   ],
   "source": [
    "c+d"
   ]
  },
  {
   "cell_type": "code",
   "execution_count": 40,
   "id": "ee7de5a7",
   "metadata": {},
   "outputs": [],
   "source": [
    "e = c+d"
   ]
  },
  {
   "cell_type": "code",
   "execution_count": 45,
   "id": "22c9b260",
   "metadata": {},
   "outputs": [],
   "source": [
    "f = ' is '"
   ]
  },
  {
   "cell_type": "code",
   "execution_count": 42,
   "id": "0890c78d",
   "metadata": {},
   "outputs": [],
   "source": [
    "g = \"here!\""
   ]
  },
  {
   "cell_type": "code",
   "execution_count": 43,
   "id": "fe3b81db",
   "metadata": {},
   "outputs": [],
   "source": [
    "h = \"great!\""
   ]
  },
  {
   "cell_type": "code",
   "execution_count": 46,
   "id": "c10231ad",
   "metadata": {},
   "outputs": [
    {
     "data": {
      "text/plain": [
       "'football is here!'"
      ]
     },
     "execution_count": 46,
     "metadata": {},
     "output_type": "execute_result"
    }
   ],
   "source": [
    "e + f + g"
   ]
  },
  {
   "cell_type": "code",
   "execution_count": 47,
   "id": "323526e7",
   "metadata": {},
   "outputs": [
    {
     "data": {
      "text/plain": [
       "'football is great!'"
      ]
     },
     "execution_count": 47,
     "metadata": {},
     "output_type": "execute_result"
    }
   ],
   "source": [
    "e + f + h"
   ]
  },
  {
   "cell_type": "code",
   "execution_count": 48,
   "id": "46300be0",
   "metadata": {},
   "outputs": [
    {
     "data": {
      "text/plain": [
       "'footballfootballfootballfootballfootballfootballfootballfootballfootballfootballfootballfootballfootballfootballfootballfootballfootballfootballfootballfootballfootballfootballfootballfootballfootballfootballfootballfootballfootballfootballfootballfootballfootballfootballfootballfootballfootballfootballfootballfootballfootballfootballfootballfootballfootballfootballfootballfootballfootballfootballfootballfootballfootballfootballfootballfootballfootballfootballfootballfootballfootballfootballfootballfootballfootballfootballfootballfootballfootballfootballfootballfootballfootballfootballfootballfootballfootballfootballfootballfootballfootballfootballfootballfootballfootballfootballfootballfootballfootballfootballfootballfootballfootballfootballfootballfootballfootballfootballfootballfootball'"
      ]
     },
     "execution_count": 48,
     "metadata": {},
     "output_type": "execute_result"
    }
   ],
   "source": [
    "e*100"
   ]
  },
  {
   "cell_type": "code",
   "execution_count": null,
   "id": "7325e58f",
   "metadata": {},
   "outputs": [],
   "source": []
  }
 ],
 "metadata": {
  "kernelspec": {
   "display_name": "Python 3 (ipykernel)",
   "language": "python",
   "name": "python3"
  },
  "language_info": {
   "codemirror_mode": {
    "name": "ipython",
    "version": 3
   },
   "file_extension": ".py",
   "mimetype": "text/x-python",
   "name": "python",
   "nbconvert_exporter": "python",
   "pygments_lexer": "ipython3",
   "version": "3.9.13"
  }
 },
 "nbformat": 4,
 "nbformat_minor": 5
}
